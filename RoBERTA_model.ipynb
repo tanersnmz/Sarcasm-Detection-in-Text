{
  "cells": [
    {
      "cell_type": "markdown",
      "id": "2a5dc16f-bd9e-4c21-811c-a69a544146a6",
      "metadata": {
        "id": "2a5dc16f-bd9e-4c21-811c-a69a544146a6"
      },
      "source": [
        "# Importing Necessary Libraries"
      ]
    },
    {
      "cell_type": "code",
      "execution_count": 17,
      "id": "432c1259-5d10-44f1-95f4-5601506d3d00",
      "metadata": {
        "id": "432c1259-5d10-44f1-95f4-5601506d3d00"
      },
      "outputs": [],
      "source": [
        "from transformers import AutoTokenizer, AutoModelForSequenceClassification, Trainer, TrainingArguments, EarlyStoppingCallback\n",
        "from sklearn.metrics import accuracy_score, precision_recall_fscore_support, confusion_matrix\n",
        "from sklearn.utils.class_weight import compute_class_weight\n",
        "from torch.utils.data import Dataset\n",
        "import matplotlib.pyplot as plt\n",
        "import seaborn as sns\n",
        "import torch\n",
        "import platform\n",
        "import pandas as pd\n",
        "import numpy as np\n",
        "import torch.nn as nn\n",
        "#import os\n",
        "#os.environ[\"TOKENIZERS_PARALLELISM\"] = \"false\"\n",
        "model='roberta-base'"
      ]
    },
    {
      "cell_type": "code",
      "execution_count": 18,
      "id": "851643c3-4f86-4a82-a023-c94e718bc80e",
      "metadata": {
        "colab": {
          "base_uri": "https://localhost:8080/"
        },
        "id": "851643c3-4f86-4a82-a023-c94e718bc80e",
        "outputId": "44cca8f1-66ac-4dfb-c2d0-4f1198f804ce"
      },
      "outputs": [
        {
          "output_type": "stream",
          "name": "stdout",
          "text": [
            "Python version: 3.11.12\n",
            "PyTorch version: 2.6.0+cu124\n",
            "CUDA available: True\n",
            "CUDA version: 12.4\n",
            "GPU model: Tesla T4\n",
            "Number of GPUs: 1\n",
            "Available GPU memory: 15.83 GB\n",
            "Using device: cuda\n"
          ]
        }
      ],
      "source": [
        "print(f\"Python version: {platform.python_version()}\")\n",
        "print(f\"PyTorch version: {torch.__version__}\")\n",
        "print(f\"CUDA available: {torch.cuda.is_available()}\")\n",
        "\n",
        "if torch.cuda.is_available():\n",
        "    print(f\"CUDA version: {torch.version.cuda}\")\n",
        "    print(f\"GPU model: {torch.cuda.get_device_name(0)}\")\n",
        "    print(f\"Number of GPUs: {torch.cuda.device_count()}\")\n",
        "    print(f\"Available GPU memory: {torch.cuda.get_device_properties(0).total_memory / 1e9:.2f} GB\")\n",
        "else:\n",
        "    print(\"No Cuda!\")\n",
        "\n",
        "device = torch.device(\"cuda\" if torch.cuda.is_available() else \"cpu\")\n",
        "print(f\"Using device: {device}\")"
      ]
    },
    {
      "cell_type": "code",
      "source": [
        "from google.colab import drive\n",
        "drive.mount(\"/content/drive\")"
      ],
      "metadata": {
        "colab": {
          "base_uri": "https://localhost:8080/"
        },
        "id": "5Lt19Dpm5TjU",
        "outputId": "cf84c8d8-c45e-4760-aa22-2c9d08e355dc"
      },
      "id": "5Lt19Dpm5TjU",
      "execution_count": 19,
      "outputs": [
        {
          "output_type": "stream",
          "name": "stdout",
          "text": [
            "Drive already mounted at /content/drive; to attempt to forcibly remount, call drive.mount(\"/content/drive\", force_remount=True).\n"
          ]
        }
      ]
    },
    {
      "cell_type": "code",
      "source": [
        "path = \"/content/drive/MyDrive/nndl\""
      ],
      "metadata": {
        "id": "PAkP00Zq6_IJ"
      },
      "id": "PAkP00Zq6_IJ",
      "execution_count": 20,
      "outputs": []
    },
    {
      "cell_type": "markdown",
      "id": "a8241ffd-a8f9-41e0-aa11-d9e7c54dded5",
      "metadata": {
        "id": "a8241ffd-a8f9-41e0-aa11-d9e7c54dded5"
      },
      "source": [
        "# Model trained on iSarcasmEval"
      ]
    },
    {
      "cell_type": "code",
      "execution_count": 21,
      "id": "496b96f9-71dc-494f-8a9c-56fc553f0309",
      "metadata": {
        "id": "496b96f9-71dc-494f-8a9c-56fc553f0309"
      },
      "outputs": [],
      "source": [
        "df_train_iSarcasm = pd.read_csv(path+'/iSarcasmEval/train.csv')\n",
        "df_val_iSarcasm = pd.read_csv(path+'/iSarcasmEval/val.csv')\n",
        "df_test_iSarcasm = pd.read_csv(path+'/iSarcasmEval/test.csv')"
      ]
    },
    {
      "cell_type": "code",
      "execution_count": 22,
      "id": "3243a41c-a805-4d4d-b30b-bd77ef4e29ea",
      "metadata": {
        "colab": {
          "base_uri": "https://localhost:8080/",
          "height": 206
        },
        "id": "3243a41c-a805-4d4d-b30b-bd77ef4e29ea",
        "outputId": "5ffe43eb-8b77-48f7-be53-8585ff79b7e0"
      },
      "outputs": [
        {
          "output_type": "execute_result",
          "data": {
            "text/plain": [
              "                                                text  sarcastic\n",
              "0  Fuck, an Insomniac developed Wolverine game?! ...          0\n",
              "1  There are people who say there is no hope left...          0\n",
              "2  Well, what a way to ruin Easter. Thanks @Cadbu...          1\n",
              "3  excited to start my new hobby of standing in t...          0\n",
              "4  Nothing quite says “back to work January blues...          0"
            ],
            "text/html": [
              "\n",
              "  <div id=\"df-3f0c3e46-bad3-4cb2-a697-82837187c4bc\" class=\"colab-df-container\">\n",
              "    <div>\n",
              "<style scoped>\n",
              "    .dataframe tbody tr th:only-of-type {\n",
              "        vertical-align: middle;\n",
              "    }\n",
              "\n",
              "    .dataframe tbody tr th {\n",
              "        vertical-align: top;\n",
              "    }\n",
              "\n",
              "    .dataframe thead th {\n",
              "        text-align: right;\n",
              "    }\n",
              "</style>\n",
              "<table border=\"1\" class=\"dataframe\">\n",
              "  <thead>\n",
              "    <tr style=\"text-align: right;\">\n",
              "      <th></th>\n",
              "      <th>text</th>\n",
              "      <th>sarcastic</th>\n",
              "    </tr>\n",
              "  </thead>\n",
              "  <tbody>\n",
              "    <tr>\n",
              "      <th>0</th>\n",
              "      <td>Fuck, an Insomniac developed Wolverine game?! ...</td>\n",
              "      <td>0</td>\n",
              "    </tr>\n",
              "    <tr>\n",
              "      <th>1</th>\n",
              "      <td>There are people who say there is no hope left...</td>\n",
              "      <td>0</td>\n",
              "    </tr>\n",
              "    <tr>\n",
              "      <th>2</th>\n",
              "      <td>Well, what a way to ruin Easter. Thanks @Cadbu...</td>\n",
              "      <td>1</td>\n",
              "    </tr>\n",
              "    <tr>\n",
              "      <th>3</th>\n",
              "      <td>excited to start my new hobby of standing in t...</td>\n",
              "      <td>0</td>\n",
              "    </tr>\n",
              "    <tr>\n",
              "      <th>4</th>\n",
              "      <td>Nothing quite says “back to work January blues...</td>\n",
              "      <td>0</td>\n",
              "    </tr>\n",
              "  </tbody>\n",
              "</table>\n",
              "</div>\n",
              "    <div class=\"colab-df-buttons\">\n",
              "\n",
              "  <div class=\"colab-df-container\">\n",
              "    <button class=\"colab-df-convert\" onclick=\"convertToInteractive('df-3f0c3e46-bad3-4cb2-a697-82837187c4bc')\"\n",
              "            title=\"Convert this dataframe to an interactive table.\"\n",
              "            style=\"display:none;\">\n",
              "\n",
              "  <svg xmlns=\"http://www.w3.org/2000/svg\" height=\"24px\" viewBox=\"0 -960 960 960\">\n",
              "    <path d=\"M120-120v-720h720v720H120Zm60-500h600v-160H180v160Zm220 220h160v-160H400v160Zm0 220h160v-160H400v160ZM180-400h160v-160H180v160Zm440 0h160v-160H620v160ZM180-180h160v-160H180v160Zm440 0h160v-160H620v160Z\"/>\n",
              "  </svg>\n",
              "    </button>\n",
              "\n",
              "  <style>\n",
              "    .colab-df-container {\n",
              "      display:flex;\n",
              "      gap: 12px;\n",
              "    }\n",
              "\n",
              "    .colab-df-convert {\n",
              "      background-color: #E8F0FE;\n",
              "      border: none;\n",
              "      border-radius: 50%;\n",
              "      cursor: pointer;\n",
              "      display: none;\n",
              "      fill: #1967D2;\n",
              "      height: 32px;\n",
              "      padding: 0 0 0 0;\n",
              "      width: 32px;\n",
              "    }\n",
              "\n",
              "    .colab-df-convert:hover {\n",
              "      background-color: #E2EBFA;\n",
              "      box-shadow: 0px 1px 2px rgba(60, 64, 67, 0.3), 0px 1px 3px 1px rgba(60, 64, 67, 0.15);\n",
              "      fill: #174EA6;\n",
              "    }\n",
              "\n",
              "    .colab-df-buttons div {\n",
              "      margin-bottom: 4px;\n",
              "    }\n",
              "\n",
              "    [theme=dark] .colab-df-convert {\n",
              "      background-color: #3B4455;\n",
              "      fill: #D2E3FC;\n",
              "    }\n",
              "\n",
              "    [theme=dark] .colab-df-convert:hover {\n",
              "      background-color: #434B5C;\n",
              "      box-shadow: 0px 1px 3px 1px rgba(0, 0, 0, 0.15);\n",
              "      filter: drop-shadow(0px 1px 2px rgba(0, 0, 0, 0.3));\n",
              "      fill: #FFFFFF;\n",
              "    }\n",
              "  </style>\n",
              "\n",
              "    <script>\n",
              "      const buttonEl =\n",
              "        document.querySelector('#df-3f0c3e46-bad3-4cb2-a697-82837187c4bc button.colab-df-convert');\n",
              "      buttonEl.style.display =\n",
              "        google.colab.kernel.accessAllowed ? 'block' : 'none';\n",
              "\n",
              "      async function convertToInteractive(key) {\n",
              "        const element = document.querySelector('#df-3f0c3e46-bad3-4cb2-a697-82837187c4bc');\n",
              "        const dataTable =\n",
              "          await google.colab.kernel.invokeFunction('convertToInteractive',\n",
              "                                                    [key], {});\n",
              "        if (!dataTable) return;\n",
              "\n",
              "        const docLinkHtml = 'Like what you see? Visit the ' +\n",
              "          '<a target=\"_blank\" href=https://colab.research.google.com/notebooks/data_table.ipynb>data table notebook</a>'\n",
              "          + ' to learn more about interactive tables.';\n",
              "        element.innerHTML = '';\n",
              "        dataTable['output_type'] = 'display_data';\n",
              "        await google.colab.output.renderOutput(dataTable, element);\n",
              "        const docLink = document.createElement('div');\n",
              "        docLink.innerHTML = docLinkHtml;\n",
              "        element.appendChild(docLink);\n",
              "      }\n",
              "    </script>\n",
              "  </div>\n",
              "\n",
              "\n",
              "    <div id=\"df-e51a7624-88ab-4d10-8cd3-0e5bb0210b56\">\n",
              "      <button class=\"colab-df-quickchart\" onclick=\"quickchart('df-e51a7624-88ab-4d10-8cd3-0e5bb0210b56')\"\n",
              "                title=\"Suggest charts\"\n",
              "                style=\"display:none;\">\n",
              "\n",
              "<svg xmlns=\"http://www.w3.org/2000/svg\" height=\"24px\"viewBox=\"0 0 24 24\"\n",
              "     width=\"24px\">\n",
              "    <g>\n",
              "        <path d=\"M19 3H5c-1.1 0-2 .9-2 2v14c0 1.1.9 2 2 2h14c1.1 0 2-.9 2-2V5c0-1.1-.9-2-2-2zM9 17H7v-7h2v7zm4 0h-2V7h2v10zm4 0h-2v-4h2v4z\"/>\n",
              "    </g>\n",
              "</svg>\n",
              "      </button>\n",
              "\n",
              "<style>\n",
              "  .colab-df-quickchart {\n",
              "      --bg-color: #E8F0FE;\n",
              "      --fill-color: #1967D2;\n",
              "      --hover-bg-color: #E2EBFA;\n",
              "      --hover-fill-color: #174EA6;\n",
              "      --disabled-fill-color: #AAA;\n",
              "      --disabled-bg-color: #DDD;\n",
              "  }\n",
              "\n",
              "  [theme=dark] .colab-df-quickchart {\n",
              "      --bg-color: #3B4455;\n",
              "      --fill-color: #D2E3FC;\n",
              "      --hover-bg-color: #434B5C;\n",
              "      --hover-fill-color: #FFFFFF;\n",
              "      --disabled-bg-color: #3B4455;\n",
              "      --disabled-fill-color: #666;\n",
              "  }\n",
              "\n",
              "  .colab-df-quickchart {\n",
              "    background-color: var(--bg-color);\n",
              "    border: none;\n",
              "    border-radius: 50%;\n",
              "    cursor: pointer;\n",
              "    display: none;\n",
              "    fill: var(--fill-color);\n",
              "    height: 32px;\n",
              "    padding: 0;\n",
              "    width: 32px;\n",
              "  }\n",
              "\n",
              "  .colab-df-quickchart:hover {\n",
              "    background-color: var(--hover-bg-color);\n",
              "    box-shadow: 0 1px 2px rgba(60, 64, 67, 0.3), 0 1px 3px 1px rgba(60, 64, 67, 0.15);\n",
              "    fill: var(--button-hover-fill-color);\n",
              "  }\n",
              "\n",
              "  .colab-df-quickchart-complete:disabled,\n",
              "  .colab-df-quickchart-complete:disabled:hover {\n",
              "    background-color: var(--disabled-bg-color);\n",
              "    fill: var(--disabled-fill-color);\n",
              "    box-shadow: none;\n",
              "  }\n",
              "\n",
              "  .colab-df-spinner {\n",
              "    border: 2px solid var(--fill-color);\n",
              "    border-color: transparent;\n",
              "    border-bottom-color: var(--fill-color);\n",
              "    animation:\n",
              "      spin 1s steps(1) infinite;\n",
              "  }\n",
              "\n",
              "  @keyframes spin {\n",
              "    0% {\n",
              "      border-color: transparent;\n",
              "      border-bottom-color: var(--fill-color);\n",
              "      border-left-color: var(--fill-color);\n",
              "    }\n",
              "    20% {\n",
              "      border-color: transparent;\n",
              "      border-left-color: var(--fill-color);\n",
              "      border-top-color: var(--fill-color);\n",
              "    }\n",
              "    30% {\n",
              "      border-color: transparent;\n",
              "      border-left-color: var(--fill-color);\n",
              "      border-top-color: var(--fill-color);\n",
              "      border-right-color: var(--fill-color);\n",
              "    }\n",
              "    40% {\n",
              "      border-color: transparent;\n",
              "      border-right-color: var(--fill-color);\n",
              "      border-top-color: var(--fill-color);\n",
              "    }\n",
              "    60% {\n",
              "      border-color: transparent;\n",
              "      border-right-color: var(--fill-color);\n",
              "    }\n",
              "    80% {\n",
              "      border-color: transparent;\n",
              "      border-right-color: var(--fill-color);\n",
              "      border-bottom-color: var(--fill-color);\n",
              "    }\n",
              "    90% {\n",
              "      border-color: transparent;\n",
              "      border-bottom-color: var(--fill-color);\n",
              "    }\n",
              "  }\n",
              "</style>\n",
              "\n",
              "      <script>\n",
              "        async function quickchart(key) {\n",
              "          const quickchartButtonEl =\n",
              "            document.querySelector('#' + key + ' button');\n",
              "          quickchartButtonEl.disabled = true;  // To prevent multiple clicks.\n",
              "          quickchartButtonEl.classList.add('colab-df-spinner');\n",
              "          try {\n",
              "            const charts = await google.colab.kernel.invokeFunction(\n",
              "                'suggestCharts', [key], {});\n",
              "          } catch (error) {\n",
              "            console.error('Error during call to suggestCharts:', error);\n",
              "          }\n",
              "          quickchartButtonEl.classList.remove('colab-df-spinner');\n",
              "          quickchartButtonEl.classList.add('colab-df-quickchart-complete');\n",
              "        }\n",
              "        (() => {\n",
              "          let quickchartButtonEl =\n",
              "            document.querySelector('#df-e51a7624-88ab-4d10-8cd3-0e5bb0210b56 button');\n",
              "          quickchartButtonEl.style.display =\n",
              "            google.colab.kernel.accessAllowed ? 'block' : 'none';\n",
              "        })();\n",
              "      </script>\n",
              "    </div>\n",
              "\n",
              "    </div>\n",
              "  </div>\n"
            ],
            "application/vnd.google.colaboratory.intrinsic+json": {
              "type": "dataframe",
              "variable_name": "df_train_iSarcasm",
              "summary": "{\n  \"name\": \"df_train_iSarcasm\",\n  \"rows\": 2947,\n  \"fields\": [\n    {\n      \"column\": \"text\",\n      \"properties\": {\n        \"dtype\": \"string\",\n        \"num_unique_values\": 2937,\n        \"samples\": [\n          \"I'm gonna say it: Joanne beat the fuck out of Michael's Halloween online store.\",\n          \"next person that puts beomsil on my tl has to deal w me crying on the floor\",\n          \"This is a great month for me, #NewWorldMMO comes out and literally the 1st of October Im going to see #TheManySaintsOfNewark if its 2 things people know about me is that I love MMOs and The Sopranos\"\n        ],\n        \"semantic_type\": \"\",\n        \"description\": \"\"\n      }\n    },\n    {\n      \"column\": \"sarcastic\",\n      \"properties\": {\n        \"dtype\": \"number\",\n        \"std\": 0,\n        \"min\": 0,\n        \"max\": 1,\n        \"num_unique_values\": 2,\n        \"samples\": [\n          1,\n          0\n        ],\n        \"semantic_type\": \"\",\n        \"description\": \"\"\n      }\n    }\n  ]\n}"
            }
          },
          "metadata": {},
          "execution_count": 22
        }
      ],
      "source": [
        "df_train_iSarcasm.head()"
      ]
    },
    {
      "cell_type": "code",
      "execution_count": 23,
      "id": "533de29a-6d8b-403e-8557-47659dca5381",
      "metadata": {
        "colab": {
          "base_uri": "https://localhost:8080/"
        },
        "id": "533de29a-6d8b-403e-8557-47659dca5381",
        "outputId": "abfa0808-559f-4b0e-cc48-b638cd14b1b0"
      },
      "outputs": [
        {
          "output_type": "stream",
          "name": "stdout",
          "text": [
            "Calculated class labels for iSarcasmEval: [0 1]\n",
            "Calculated class weights for iSarcasmEval: tensor([0.6667, 1.9993])\n"
          ]
        }
      ],
      "source": [
        "# Calculate class weights for weighted loss\n",
        "# give higher weights to 1 class, and lower weights to 0 class\n",
        "class_labels_iSarcasm = np.unique(df_train_iSarcasm['sarcastic'])\n",
        "class_weights_iSarcasm = compute_class_weight(\n",
        "    class_weight='balanced',\n",
        "    classes=class_labels_iSarcasm,\n",
        "    y=df_train_iSarcasm['sarcastic'].tolist()\n",
        ")\n",
        "weights_tensor_iSarcasm = torch.tensor(class_weights_iSarcasm, dtype=torch.float)\n",
        "print(f\"Calculated class labels for iSarcasmEval: {class_labels_iSarcasm}\")\n",
        "print(f\"Calculated class weights for iSarcasmEval: {weights_tensor_iSarcasm}\")"
      ]
    },
    {
      "cell_type": "code",
      "execution_count": 24,
      "id": "55faf335-f906-4a61-935e-f87be36642ce",
      "metadata": {
        "id": "55faf335-f906-4a61-935e-f87be36642ce"
      },
      "outputs": [],
      "source": [
        "# Creating weighted loss\n",
        "class WeightedLossTrainer(Trainer):\n",
        "    def __init__(self, *args, class_weights=None, **kwargs):\n",
        "        super().__init__(*args, **kwargs)\n",
        "        self.class_weights = class_weights\n",
        "\n",
        "\n",
        "    def compute_loss(self, model, inputs, return_outputs=False, **kwargs):\n",
        "        labels = inputs.pop(\"labels\")\n",
        "        outputs = model(**inputs)\n",
        "        logits = outputs.get('logits')\n",
        "\n",
        "        if self.class_weights is not None:\n",
        "            loss_fct = nn.CrossEntropyLoss(weight=self.class_weights.to(logits.device))\n",
        "        else:\n",
        "            loss_fct = nn.CrossEntropyLoss()\n",
        "\n",
        "        loss = loss_fct(logits.view(-1, self.model.config.num_labels), labels.view(-1))\n",
        "\n",
        "        return (loss, outputs) if return_outputs else loss"
      ]
    },
    {
      "cell_type": "code",
      "execution_count": 25,
      "id": "a1a0772a-5c9e-46e2-a891-46d7a67edc2d",
      "metadata": {
        "colab": {
          "base_uri": "https://localhost:8080/",
          "height": 177,
          "referenced_widgets": [
            "914eef26beeb4086a84ea78a7dfaceb3",
            "176ebf77d1b2457aac834fa6072a5fd8",
            "b34bc29f87b44221a6dfbd318b975a97",
            "cc35228502f04f648fdda6fb2dee5237",
            "170c9fdc6fdb415abc6b4d99e8aa26f8",
            "b461ada2994d40a2b53225ea3b383525",
            "6cfd457754964c1bbb25ac6d041f4ca4",
            "5f458b977bd64caa8bbca1df916c8446",
            "f71eaae642f64fa8a29a2bf5947a1eec",
            "66bdf476013d48de949812ac6ba3eda1",
            "f312808d1637455c877a185812a92bda",
            "ce819740a01f472e84c3807eda053cf9",
            "cb872a5b5c3f4efc9136620fac91a395",
            "530ad9cf769b44579be0d599aa2f8cec",
            "6522e5c0e90c476b9b1b0ffc73aba04a",
            "fbc9b16e313c44ddbed5044ee5b62295",
            "b3cb2af74ba944f98fd0612e97cb0cbf",
            "18f36d48c67d4f7fae831d9a0e2968d2",
            "2b6f84ef325f4467b015d3b7b9f22f79",
            "a578a5822cf740838eba83e69e8f96de",
            "b15aab67cefc4d3382b4777591f7eafa",
            "700eb7bce6394531951d8f7504f1fb37",
            "360d204ecaea4bf3ad83dcc9f97f414b",
            "4c1ea283f6514342b12238aa537fa5b0",
            "e34462a2d1ca4c269d916d53a544760f",
            "33c1b94faef54c62869abb5e1bd73328",
            "d8322550e85c48cc9cecf9c62a18d01f",
            "be8ea82cbf8541558fd1107fe63365e0",
            "5090c8366b174495b6aa9b484b952b00",
            "59dbb040fcc542d9bd0a4aff68721192",
            "4f92db0343c0423ca0984c40008cbbd8",
            "c8dcac1f128a495788a6e9d2b69df872",
            "90f8f91b272c433bad5ef146146bf217",
            "cd79fa7304e4457984c94fafd6538c0b",
            "2582b187a8d945a6a1713173b9815ba1",
            "3065f28edb9d4dbf8e499c2bacff2286",
            "b94239605499454ea8986268f0496f04",
            "de099221164045709f857dfe473fc5af",
            "9e1fc3afe28b465a9bafe43dc4f5fe2f",
            "1f1d3b46ea38473799c80cbd9cb54b39",
            "b6688f2ff0144f66a68699958441e172",
            "b19fedf9f0a34bb0a253928868c21fc3",
            "4f9c02141aac40c691f30bbe32fcb99b",
            "f9718520b7104e428bf60012464fbf0c",
            "95218cc1a4714581aeeb10cf1b458dd4",
            "3cdef531410f4d80bf6fcc8d43383033",
            "c700ca6a5ef248ca98120285314e348f",
            "6cbd17ee6edc4eb9aff9be6fd09f16b1",
            "9072d80679114342b90080df6c3c67db",
            "772cfb731cce42e3a6d3904ca0cf32e3",
            "50e2acb630b74cac85053adde79485ed",
            "1dd9a7efd0474211b43f436797a31307",
            "e7c777ad4e654e1d9d17c8fc7d10a32d",
            "5c75211ea57944b7a30c00eef4932c83",
            "05cbb311075d4f59a61a11c101e58a0a"
          ]
        },
        "id": "a1a0772a-5c9e-46e2-a891-46d7a67edc2d",
        "outputId": "983d6206-f4b2-482b-a0cb-51dd8229ad77"
      },
      "outputs": [
        {
          "output_type": "display_data",
          "data": {
            "text/plain": [
              "tokenizer_config.json:   0%|          | 0.00/25.0 [00:00<?, ?B/s]"
            ],
            "application/vnd.jupyter.widget-view+json": {
              "version_major": 2,
              "version_minor": 0,
              "model_id": "914eef26beeb4086a84ea78a7dfaceb3"
            }
          },
          "metadata": {}
        },
        {
          "output_type": "display_data",
          "data": {
            "text/plain": [
              "config.json:   0%|          | 0.00/481 [00:00<?, ?B/s]"
            ],
            "application/vnd.jupyter.widget-view+json": {
              "version_major": 2,
              "version_minor": 0,
              "model_id": "ce819740a01f472e84c3807eda053cf9"
            }
          },
          "metadata": {}
        },
        {
          "output_type": "display_data",
          "data": {
            "text/plain": [
              "vocab.json:   0%|          | 0.00/899k [00:00<?, ?B/s]"
            ],
            "application/vnd.jupyter.widget-view+json": {
              "version_major": 2,
              "version_minor": 0,
              "model_id": "360d204ecaea4bf3ad83dcc9f97f414b"
            }
          },
          "metadata": {}
        },
        {
          "output_type": "display_data",
          "data": {
            "text/plain": [
              "merges.txt:   0%|          | 0.00/456k [00:00<?, ?B/s]"
            ],
            "application/vnd.jupyter.widget-view+json": {
              "version_major": 2,
              "version_minor": 0,
              "model_id": "cd79fa7304e4457984c94fafd6538c0b"
            }
          },
          "metadata": {}
        },
        {
          "output_type": "display_data",
          "data": {
            "text/plain": [
              "tokenizer.json:   0%|          | 0.00/1.36M [00:00<?, ?B/s]"
            ],
            "application/vnd.jupyter.widget-view+json": {
              "version_major": 2,
              "version_minor": 0,
              "model_id": "95218cc1a4714581aeeb10cf1b458dd4"
            }
          },
          "metadata": {}
        }
      ],
      "source": [
        "tokenizer = AutoTokenizer.from_pretrained(model)"
      ]
    },
    {
      "cell_type": "code",
      "execution_count": 26,
      "id": "3141422a-83a6-46e1-bacc-adb760da9617",
      "metadata": {
        "id": "3141422a-83a6-46e1-bacc-adb760da9617"
      },
      "outputs": [],
      "source": [
        "class SarcasmDataset(Dataset):\n",
        "    def __init__(self, texts, labels, tokenizer, max_len=128):\n",
        "        self.texts = texts\n",
        "        self.labels = labels\n",
        "        self.tokenizer = tokenizer\n",
        "        self.max_len = max_len\n",
        "\n",
        "    def __len__(self):\n",
        "        return len(self.texts)\n",
        "\n",
        "    def __getitem__(self, idx):\n",
        "        text = str(self.texts[idx])\n",
        "        label = int(self.labels[idx])\n",
        "\n",
        "        encoding = self.tokenizer.encode_plus(\n",
        "            text,\n",
        "            add_special_tokens=True,\n",
        "            max_length=self.max_len,\n",
        "            return_token_type_ids=False,\n",
        "            padding='max_length',\n",
        "            truncation=True,\n",
        "            return_attention_mask=True,\n",
        "            return_tensors='pt',\n",
        "        )\n",
        "\n",
        "        return {\n",
        "            'input_ids': encoding['input_ids'].flatten(),\n",
        "            'attention_mask': encoding['attention_mask'].flatten(),\n",
        "            'labels': torch.tensor(label, dtype=torch.long)\n",
        "        }"
      ]
    },
    {
      "cell_type": "code",
      "execution_count": 27,
      "id": "00db9612-e63a-4f15-8b95-ed2b235eb8c9",
      "metadata": {
        "colab": {
          "base_uri": "https://localhost:8080/"
        },
        "id": "00db9612-e63a-4f15-8b95-ed2b235eb8c9",
        "outputId": "37cd4027-4689-48da-cc62-88a179c5e4b1"
      },
      "outputs": [
        {
          "output_type": "stream",
          "name": "stdout",
          "text": [
            "Length of iSarcasmEval training dataset: 2947\n",
            "Length of iSarcasmEval validation dataset: 521\n",
            "Length of iSarcasmEval test dataset: 1400\n"
          ]
        }
      ],
      "source": [
        "# Creating the PyTorch Datasets\n",
        "MAX_LEN = 128\n",
        "\n",
        "train_dataset_iSarcasm = SarcasmDataset(\n",
        "    texts=df_train_iSarcasm['text'].tolist(),\n",
        "    labels=df_train_iSarcasm['sarcastic'].tolist(),\n",
        "    tokenizer=tokenizer,\n",
        "    max_len=MAX_LEN\n",
        ")\n",
        "\n",
        "val_dataset_iSarcasm = SarcasmDataset(\n",
        "    texts=df_val_iSarcasm['text'].tolist(),\n",
        "    labels=df_val_iSarcasm['sarcastic'].tolist(),\n",
        "    tokenizer=tokenizer,\n",
        "    max_len=MAX_LEN\n",
        ")\n",
        "\n",
        "test_dataset_iSarcasm = SarcasmDataset(\n",
        "    texts=df_test_iSarcasm['text'].tolist(),\n",
        "    labels=df_test_iSarcasm['sarcastic'].tolist(),\n",
        "    tokenizer=tokenizer,\n",
        "    max_len=MAX_LEN\n",
        ")\n",
        "\n",
        "print(f\"Length of iSarcasmEval training dataset: {len(train_dataset_iSarcasm)}\")\n",
        "print(f\"Length of iSarcasmEval validation dataset: {len(val_dataset_iSarcasm)}\")\n",
        "print(f\"Length of iSarcasmEval test dataset: {len(test_dataset_iSarcasm)}\")"
      ]
    },
    {
      "cell_type": "code",
      "execution_count": 28,
      "id": "a7896ce9-84fb-4695-bf7c-5ff9f2d9e24a",
      "metadata": {
        "colab": {
          "base_uri": "https://localhost:8080/",
          "height": 138,
          "referenced_widgets": [
            "caca491fb4924c53af27d0e1fe8dc696",
            "9a6e783d74b44b408eb610b924149bf4",
            "c49ef9dbd04341048265f2fe3585b9aa",
            "6fb0f405ec7f415bbc32db9b93a3c5cf",
            "01d09415f46c4703a0827f70abefd087",
            "a0195722e04441c081605b92a175889b",
            "d82d2385e28e47d08424e06a27f91701",
            "253a480699194bc7b65d160bfc9ffd62",
            "2fa77de5dcf745f0a7120470708f43f8",
            "5417425109b44e04843b913a02792084",
            "9c5c359be3184094a8812bf29809364b"
          ]
        },
        "id": "a7896ce9-84fb-4695-bf7c-5ff9f2d9e24a",
        "outputId": "9594920b-0bcc-44d8-9617-527ad4908094"
      },
      "outputs": [
        {
          "output_type": "stream",
          "name": "stderr",
          "text": [
            "Xet Storage is enabled for this repo, but the 'hf_xet' package is not installed. Falling back to regular HTTP download. For better performance, install the package with: `pip install huggingface_hub[hf_xet]` or `pip install hf_xet`\n",
            "WARNING:huggingface_hub.file_download:Xet Storage is enabled for this repo, but the 'hf_xet' package is not installed. Falling back to regular HTTP download. For better performance, install the package with: `pip install huggingface_hub[hf_xet]` or `pip install hf_xet`\n"
          ]
        },
        {
          "output_type": "display_data",
          "data": {
            "text/plain": [
              "model.safetensors:   0%|          | 0.00/499M [00:00<?, ?B/s]"
            ],
            "application/vnd.jupyter.widget-view+json": {
              "version_major": 2,
              "version_minor": 0,
              "model_id": "caca491fb4924c53af27d0e1fe8dc696"
            }
          },
          "metadata": {}
        },
        {
          "output_type": "stream",
          "name": "stderr",
          "text": [
            "Some weights of RobertaForSequenceClassification were not initialized from the model checkpoint at roberta-base and are newly initialized: ['classifier.dense.bias', 'classifier.dense.weight', 'classifier.out_proj.bias', 'classifier.out_proj.weight']\n",
            "You should probably TRAIN this model on a down-stream task to be able to use it for predictions and inference.\n"
          ]
        }
      ],
      "source": [
        "model_iSarcasm = AutoModelForSequenceClassification.from_pretrained(\n",
        "    model,\n",
        "    num_labels=2  # We have binary classification: sarcastic (1) or not sarcastic (0)\n",
        ")\n",
        "\n",
        "# Function to compute metrics and heatmap\n",
        "def compute_metrics_iSarcasm(pred):\n",
        "    labels = pred.label_ids\n",
        "    preds = pred.predictions.argmax(-1)\n",
        "\n",
        "    #  basic metrics\n",
        "    precision_binary, recall_binary, f1_binary, _ = precision_recall_fscore_support(\n",
        "        labels, preds, average='binary', zero_division=0\n",
        "    )\n",
        "    acc = accuracy_score(labels, preds)\n",
        "\n",
        "    # weighted metrics\n",
        "    precision_weighted, recall_weighted, f1_weighted, _ = precision_recall_fscore_support(\n",
        "        labels, preds, average='weighted', zero_division=0\n",
        "    )\n",
        "\n",
        "    # confusion matrix\n",
        "    cm = confusion_matrix(labels, preds)\n",
        "    plt.figure(figsize=(6,4))\n",
        "    sns.heatmap(cm, annot=True, fmt='d', cmap='Blues', cbar=False,\n",
        "                xticklabels=['Not Sarcastic', 'Sarcastic'],\n",
        "                yticklabels=['Not Sarcastic', 'Sarcastic'])\n",
        "    plt.xlabel('Predicted')\n",
        "    plt.ylabel('Actual')\n",
        "    plt.title('Confusion Matrix (iSarcasmEval Validation)')\n",
        "    plt.show()\n",
        "\n",
        "    return {\n",
        "        'accuracy': acc,\n",
        "        'f1_binary': f1_binary,\n",
        "        'precision_binary': precision_binary,\n",
        "        'recall_binary': recall_binary,\n",
        "        'f1_weighted': f1_weighted,\n",
        "        'precision_weighted': precision_weighted,\n",
        "        'recall_weighted': recall_weighted,\n",
        "    }"
      ]
    },
    {
      "cell_type": "code",
      "execution_count": 29,
      "id": "e9204d19-7e71-4f7c-9f9a-196816aa2660",
      "metadata": {
        "id": "e9204d19-7e71-4f7c-9f9a-196816aa2660"
      },
      "outputs": [],
      "source": [
        "# Training Params\n",
        "training_args_iSarcasm = TrainingArguments(\n",
        "    output_dir=path+'/results_iSarcasm',          # Directory to save model checkpoints and final model\n",
        "    num_train_epochs=10,\n",
        "    per_device_train_batch_size=16,\n",
        "    per_device_eval_batch_size=32,\n",
        "    learning_rate=2e-5,\n",
        "    warmup_steps=100,\n",
        "    weight_decay=0.01,\n",
        "\n",
        "\n",
        "    logging_strategy=\"epoch\",\n",
        "    report_to=\"none\",\n",
        "\n",
        "    # Evaluation\n",
        "    eval_strategy=\"epoch\",\n",
        "    save_strategy=\"epoch\",\n",
        "    load_best_model_at_end=True,\n",
        "    metric_for_best_model=\"loss\",      # Metric to determine the best model\n",
        "    greater_is_better=False,\n",
        "    fp16=torch.cuda.is_available(),           # Use mixed precision training if a GPU is available\n",
        "    save_total_limit=2,                        # Only keep the last 2 checkpoints + the best one\n",
        "    dataloader_num_workers=8\n",
        ")"
      ]
    },
    {
      "cell_type": "code",
      "execution_count": 14,
      "id": "3dcf3590-0051-4bb2-a903-d8a792880026",
      "metadata": {
        "id": "3dcf3590-0051-4bb2-a903-d8a792880026"
      },
      "outputs": [],
      "source": [
        "#model_iSarcasm = torch.compile(model_iSarcasm, mode=\"default\")"
      ]
    },
    {
      "cell_type": "code",
      "execution_count": 30,
      "id": "05da9ac8-aa4c-4dde-9c96-c29c90395fa4",
      "metadata": {
        "id": "05da9ac8-aa4c-4dde-9c96-c29c90395fa4"
      },
      "outputs": [],
      "source": [
        "# Initializing the Trainer\n",
        "trainer_iSarcasm = WeightedLossTrainer(\n",
        "        model=model_iSarcasm,\n",
        "        args=training_args_iSarcasm,\n",
        "        train_dataset=train_dataset_iSarcasm,\n",
        "        eval_dataset=val_dataset_iSarcasm,\n",
        "        compute_metrics=compute_metrics_iSarcasm,\n",
        "        callbacks=[EarlyStoppingCallback(early_stopping_patience=2)],\n",
        "        class_weights=weights_tensor_iSarcasm\n",
        "    )"
      ]
    },
    {
      "cell_type": "code",
      "execution_count": 31,
      "id": "88ea4128-4c99-489a-83bb-5168bf36f65c",
      "metadata": {
        "colab": {
          "base_uri": "https://localhost:8080/",
          "height": 1000
        },
        "id": "88ea4128-4c99-489a-83bb-5168bf36f65c",
        "outputId": "ac5f52fb-55d8-480d-8ce3-3cbceda43e90"
      },
      "outputs": [
        {
          "output_type": "stream",
          "name": "stderr",
          "text": [
            "/usr/local/lib/python3.11/dist-packages/torch/utils/data/dataloader.py:624: UserWarning: This DataLoader will create 8 worker processes in total. Our suggested max number of worker in current system is 2, which is smaller than what this DataLoader is going to create. Please be aware that excessive worker creation might get DataLoader running slow or even freeze, lower the worker number to avoid potential slowness/freeze if necessary.\n",
            "  warnings.warn(\n"
          ]
        },
        {
          "output_type": "display_data",
          "data": {
            "text/plain": [
              "<IPython.core.display.HTML object>"
            ],
            "text/html": [
              "\n",
              "    <div>\n",
              "      \n",
              "      <progress value='740' max='1850' style='width:300px; height:20px; vertical-align: middle;'></progress>\n",
              "      [ 740/1850 04:21 < 06:33, 2.82 it/s, Epoch 4/10]\n",
              "    </div>\n",
              "    <table border=\"1\" class=\"dataframe\">\n",
              "  <thead>\n",
              " <tr style=\"text-align: left;\">\n",
              "      <th>Epoch</th>\n",
              "      <th>Training Loss</th>\n",
              "      <th>Validation Loss</th>\n",
              "      <th>Accuracy</th>\n",
              "      <th>F1 Binary</th>\n",
              "      <th>Precision Binary</th>\n",
              "      <th>Recall Binary</th>\n",
              "      <th>F1 Weighted</th>\n",
              "      <th>Precision Weighted</th>\n",
              "      <th>Recall Weighted</th>\n",
              "    </tr>\n",
              "  </thead>\n",
              "  <tbody>\n",
              "    <tr>\n",
              "      <td>1</td>\n",
              "      <td>0.697800</td>\n",
              "      <td>0.688890</td>\n",
              "      <td>0.635317</td>\n",
              "      <td>0.301471</td>\n",
              "      <td>0.288732</td>\n",
              "      <td>0.315385</td>\n",
              "      <td>0.640519</td>\n",
              "      <td>0.646290</td>\n",
              "      <td>0.635317</td>\n",
              "    </tr>\n",
              "    <tr>\n",
              "      <td>2</td>\n",
              "      <td>0.662200</td>\n",
              "      <td>0.640923</td>\n",
              "      <td>0.740883</td>\n",
              "      <td>0.405286</td>\n",
              "      <td>0.474227</td>\n",
              "      <td>0.353846</td>\n",
              "      <td>0.727294</td>\n",
              "      <td>0.720129</td>\n",
              "      <td>0.740883</td>\n",
              "    </tr>\n",
              "    <tr>\n",
              "      <td>3</td>\n",
              "      <td>0.520000</td>\n",
              "      <td>0.757954</td>\n",
              "      <td>0.752399</td>\n",
              "      <td>0.382775</td>\n",
              "      <td>0.506329</td>\n",
              "      <td>0.307692</td>\n",
              "      <td>0.729769</td>\n",
              "      <td>0.724007</td>\n",
              "      <td>0.752399</td>\n",
              "    </tr>\n",
              "    <tr>\n",
              "      <td>4</td>\n",
              "      <td>0.338900</td>\n",
              "      <td>1.128232</td>\n",
              "      <td>0.750480</td>\n",
              "      <td>0.308511</td>\n",
              "      <td>0.500000</td>\n",
              "      <td>0.223077</td>\n",
              "      <td>0.713218</td>\n",
              "      <td>0.711528</td>\n",
              "      <td>0.750480</td>\n",
              "    </tr>\n",
              "  </tbody>\n",
              "</table><p>"
            ]
          },
          "metadata": {}
        },
        {
          "output_type": "display_data",
          "data": {
            "text/plain": [
              "<Figure size 600x400 with 1 Axes>"
            ],
            "image/png": "[encoded data removed]"
          },
          "metadata": {}
        },
        {
          "output_type": "stream",
          "name": "stderr",
          "text": [
            "/usr/local/lib/python3.11/dist-packages/torch/utils/data/dataloader.py:624: UserWarning: This DataLoader will create 8 worker processes in total. Our suggested max number of worker in current system is 2, which is smaller than what this DataLoader is going to create. Please be aware that excessive worker creation might get DataLoader running slow or even freeze, lower the worker number to avoid potential slowness/freeze if necessary.\n",
            "  warnings.warn(\n"
          ]
        },
        {
          "output_type": "display_data",
          "data": {
            "text/plain": [
              "<Figure size 600x400 with 1 Axes>"
            ],
            "image/png": "[encoded data removed]"
          },
          "metadata": {}
        },
        {
          "output_type": "stream",
          "name": "stderr",
          "text": [
            "/usr/local/lib/python3.11/dist-packages/torch/utils/data/dataloader.py:624: UserWarning: This DataLoader will create 8 worker processes in total. Our suggested max number of worker in current system is 2, which is smaller than what this DataLoader is going to create. Please be aware that excessive worker creation might get DataLoader running slow or even freeze, lower the worker number to avoid potential slowness/freeze if necessary.\n",
            "  warnings.warn(\n"
          ]
        },
        {
          "output_type": "display_data",
          "data": {
            "text/plain": [
              "<Figure size 600x400 with 1 Axes>"
            ],
            "image/png": "[encoded data removed]"
          },
          "metadata": {}
        },
        {
          "output_type": "stream",
          "name": "stderr",
          "text": [
            "/usr/local/lib/python3.11/dist-packages/torch/utils/data/dataloader.py:624: UserWarning: This DataLoader will create 8 worker processes in total. Our suggested max number of worker in current system is 2, which is smaller than what this DataLoader is going to create. Please be aware that excessive worker creation might get DataLoader running slow or even freeze, lower the worker number to avoid potential slowness/freeze if necessary.\n",
            "  warnings.warn(\n"
          ]
        },
        {
          "output_type": "display_data",
          "data": {
            "text/plain": [
              "<Figure size 600x400 with 1 Axes>"
            ],
            "image/png": "[encoded data removed]"
          },
          "metadata": {}
        },
        {
          "output_type": "stream",
          "name": "stdout",
          "text": [
            "Best model for iSarcasmEval saved to /content/drive/MyDrive/nndl/results_iSarcasm/best_model_iSarcasmEval\n"
          ]
        }
      ],
      "source": [
        "# Training\n",
        "train_result_iSarcasm = trainer_iSarcasm.train()\n",
        "trainer_iSarcasm.save_model(path+\"/results_iSarcasm/best_model_iSarcasmEval\")\n",
        "tokenizer.save_pretrained(path+\"/results_iSarcasm/best_model_iSarcasmEval\")\n",
        "print(f\"Best model for iSarcasmEval saved to {path}/results_iSarcasm/best_model_iSarcasmEval\")"
      ]
    },
    {
      "cell_type": "code",
      "execution_count": 32,
      "id": "0bfbc7de-fdf4-4195-b849-61b61a98eb37",
      "metadata": {
        "id": "0bfbc7de-fdf4-4195-b849-61b61a98eb37",
        "outputId": "9bc52b56-0c38-413e-8ead-d9873db42adf",
        "colab": {
          "base_uri": "https://localhost:8080/",
          "height": 487
        }
      },
      "outputs": [
        {
          "output_type": "stream",
          "name": "stdout",
          "text": [
            "Plotting training and validation loss...\n"
          ]
        },
        {
          "output_type": "display_data",
          "data": {
            "text/plain": [
              "<Figure size 1000x500 with 1 Axes>"
            ],
            "image/png": "[encoded data removed]"
          },
          "metadata": {}
        }
      ],
      "source": [
        "print(\"Plotting training and validation loss...\")\n",
        "log_history = trainer_iSarcasm.state.log_history\n",
        "\n",
        "training_loss = []\n",
        "validation_loss = []\n",
        "epochs_train = []\n",
        "epochs_val = []\n",
        "\n",
        "for log_entry in log_history:\n",
        "    if 'loss' in log_entry:  # Training log\n",
        "        training_loss.append(log_entry['loss'])\n",
        "        epochs_train.append(log_entry['epoch'])\n",
        "    if 'eval_loss' in log_entry:  # Evaluation log\n",
        "        validation_loss.append(log_entry['eval_loss'])\n",
        "        epochs_val.append(log_entry['epoch'])\n",
        "\n",
        "if not training_loss and not validation_loss:\n",
        "    print(\"No training or validation loss found in log_history. Ensure logging_strategy was not 'no'.\")\n",
        "else:\n",
        "    plt.figure(figsize=(10, 5))\n",
        "    if training_loss:\n",
        "        plt.plot(epochs_train, training_loss, label='Training Loss', marker='o', linestyle='-')\n",
        "    if validation_loss:\n",
        "        plt.plot(epochs_val, validation_loss, label='Validation Loss', marker='x', linestyle='--')\n",
        "\n",
        "    plt.title('Training vs Validation Loss for iSarcasmEval')\n",
        "    plt.xlabel('Epoch')\n",
        "    plt.ylabel('Loss')\n",
        "    plt.legend()\n",
        "    plt.grid(True)\n",
        "    plt.xticks([int(e) for e in sorted(list(set(epochs_train + epochs_val))) if e == int(e)])\n",
        "    plt.show()"
      ]
    },
    {
      "cell_type": "code",
      "execution_count": 33,
      "id": "ef28f6ad-9042-40b6-a375-99cd427f9f12",
      "metadata": {
        "id": "ef28f6ad-9042-40b6-a375-99cd427f9f12",
        "outputId": "56cf2e34-7ff0-4ae2-ed8c-df94c0748822",
        "colab": {
          "base_uri": "https://localhost:8080/",
          "height": 708
        }
      },
      "outputs": [
        {
          "output_type": "stream",
          "name": "stdout",
          "text": [
            "\n",
            "Evaluating the iSarcasmEval model on the test set...\n"
          ]
        },
        {
          "output_type": "stream",
          "name": "stderr",
          "text": [
            "/usr/local/lib/python3.11/dist-packages/torch/utils/data/dataloader.py:624: UserWarning: This DataLoader will create 8 worker processes in total. Our suggested max number of worker in current system is 2, which is smaller than what this DataLoader is going to create. Please be aware that excessive worker creation might get DataLoader running slow or even freeze, lower the worker number to avoid potential slowness/freeze if necessary.\n",
            "  warnings.warn(\n"
          ]
        },
        {
          "output_type": "display_data",
          "data": {
            "text/plain": [
              "<IPython.core.display.HTML object>"
            ],
            "text/html": []
          },
          "metadata": {}
        },
        {
          "output_type": "display_data",
          "data": {
            "text/plain": [
              "<Figure size 600x400 with 1 Axes>"
            ],
            "image/png": "[encoded data removed]"
          },
          "metadata": {}
        },
        {
          "output_type": "stream",
          "name": "stdout",
          "text": [
            "\n",
            "Test Set Evaluation Metrics for iSarcasmEval Model:\n",
            "test_accuracy: 0.7600\n",
            "test_f1_binary: 0.3588\n",
            "test_precision_binary: 0.2901\n",
            "test_recall_binary: 0.4700\n",
            "test_f1_weighted: 0.7819\n",
            "test_precision_weighted: 0.8141\n",
            "test_recall_weighted: 0.7600\n",
            "test_runtime: 3.0224\n",
            "test_samples_per_second: 463.2120\n",
            "test_steps_per_second: 14.5580\n"
          ]
        }
      ],
      "source": [
        "print(\"\\nEvaluating the iSarcasmEval model on the test set...\")\n",
        "# We perform prediction on the test set\n",
        "test_predictions_iSarcasm = trainer_iSarcasm.predict(test_dataset_iSarcasm)\n",
        "print(\"\\nTest Set Evaluation Metrics for iSarcasmEval Model:\")\n",
        "if test_predictions_iSarcasm.metrics:\n",
        "    for key, value in test_predictions_iSarcasm.metrics.items():\n",
        "        if 'loss' not in key:\n",
        "             print(f\"{key}: {value:.4f}\")\n",
        "else:\n",
        "    print(\"No metrics returned from predict.\")"
      ]
    },
    {
      "cell_type": "markdown",
      "id": "7f85f0fc-e668-41ed-8904-e156beecdad5",
      "metadata": {
        "id": "7f85f0fc-e668-41ed-8904-e156beecdad5"
      },
      "source": [
        "# Model trained on Sarcasm_Corpus_V2"
      ]
    },
    {
      "cell_type": "code",
      "execution_count": 35,
      "id": "be1b7226-47a8-47ab-962c-bf1b1ba020d0",
      "metadata": {
        "id": "be1b7226-47a8-47ab-962c-bf1b1ba020d0"
      },
      "outputs": [],
      "source": [
        "df_train_Sarcasm_Corpus_V2 = pd.read_csv(path+'/Sarcasm_Corpus_V2/train.csv')\n",
        "df_val_Sarcasm_Corpus_V2 = pd.read_csv(path+'/Sarcasm_Corpus_V2/val.csv')\n",
        "df_test_Sarcasm_Corpus_V2 = pd.read_csv(path+'/Sarcasm_Corpus_V2/test.csv')"
      ]
    },
    {
      "cell_type": "code",
      "execution_count": 36,
      "id": "96c9ba1e-ebf4-4f1b-aa43-88f872965c9b",
      "metadata": {
        "id": "96c9ba1e-ebf4-4f1b-aa43-88f872965c9b",
        "outputId": "3b4df6ba-e712-4bdf-8c6d-c194a5cc41eb",
        "colab": {
          "base_uri": "https://localhost:8080/",
          "height": 206
        }
      },
      "outputs": [
        {
          "output_type": "execute_result",
          "data": {
            "text/plain": [
              "                                                text  sarcastic\n",
              "0  wow - sounds like a terrible idea. luckily we ...          0\n",
              "1  But a business is just a private citizen! Why ...          1\n",
              "2  thewayitis, i would say is one of the best deb...          0\n",
              "3  The lovely thing about our system of justice, ...          1\n",
              "4     And the wonders all around us show us how. . .          0"
            ],
            "text/html": [
              "\n",
              "  <div id=\"df-6c1792ec-0e91-4c82-85e0-46541fb82d84\" class=\"colab-df-container\">\n",
              "    <div>\n",
              "<style scoped>\n",
              "    .dataframe tbody tr th:only-of-type {\n",
              "        vertical-align: middle;\n",
              "    }\n",
              "\n",
              "    .dataframe tbody tr th {\n",
              "        vertical-align: top;\n",
              "    }\n",
              "\n",
              "    .dataframe thead th {\n",
              "        text-align: right;\n",
              "    }\n",
              "</style>\n",
              "<table border=\"1\" class=\"dataframe\">\n",
              "  <thead>\n",
              "    <tr style=\"text-align: right;\">\n",
              "      <th></th>\n",
              "      <th>text</th>\n",
              "      <th>sarcastic</th>\n",
              "    </tr>\n",
              "  </thead>\n",
              "  <tbody>\n",
              "    <tr>\n",
              "      <th>0</th>\n",
              "      <td>wow - sounds like a terrible idea. luckily we ...</td>\n",
              "      <td>0</td>\n",
              "    </tr>\n",
              "    <tr>\n",
              "      <th>1</th>\n",
              "      <td>But a business is just a private citizen! Why ...</td>\n",
              "      <td>1</td>\n",
              "    </tr>\n",
              "    <tr>\n",
              "      <th>2</th>\n",
              "      <td>thewayitis, i would say is one of the best deb...</td>\n",
              "      <td>0</td>\n",
              "    </tr>\n",
              "    <tr>\n",
              "      <th>3</th>\n",
              "      <td>The lovely thing about our system of justice, ...</td>\n",
              "      <td>1</td>\n",
              "    </tr>\n",
              "    <tr>\n",
              "      <th>4</th>\n",
              "      <td>And the wonders all around us show us how. . .</td>\n",
              "      <td>0</td>\n",
              "    </tr>\n",
              "  </tbody>\n",
              "</table>\n",
              "</div>\n",
              "    <div class=\"colab-df-buttons\">\n",
              "\n",
              "  <div class=\"colab-df-container\">\n",
              "    <button class=\"colab-df-convert\" onclick=\"convertToInteractive('df-6c1792ec-0e91-4c82-85e0-46541fb82d84')\"\n",
              "            title=\"Convert this dataframe to an interactive table.\"\n",
              "            style=\"display:none;\">\n",
              "\n",
              "  <svg xmlns=\"http://www.w3.org/2000/svg\" height=\"24px\" viewBox=\"0 -960 960 960\">\n",
              "    <path d=\"M120-120v-720h720v720H120Zm60-500h600v-160H180v160Zm220 220h160v-160H400v160Zm0 220h160v-160H400v160ZM180-400h160v-160H180v160Zm440 0h160v-160H620v160ZM180-180h160v-160H180v160Zm440 0h160v-160H620v160Z\"/>\n",
              "  </svg>\n",
              "    </button>\n",
              "\n",
              "  <style>\n",
              "    .colab-df-container {\n",
              "      display:flex;\n",
              "      gap: 12px;\n",
              "    }\n",
              "\n",
              "    .colab-df-convert {\n",
              "      background-color: #E8F0FE;\n",
              "      border: none;\n",
              "      border-radius: 50%;\n",
              "      cursor: pointer;\n",
              "      display: none;\n",
              "      fill: #1967D2;\n",
              "      height: 32px;\n",
              "      padding: 0 0 0 0;\n",
              "      width: 32px;\n",
              "    }\n",
              "\n",
              "    .colab-df-convert:hover {\n",
              "      background-color: #E2EBFA;\n",
              "      box-shadow: 0px 1px 2px rgba(60, 64, 67, 0.3), 0px 1px 3px 1px rgba(60, 64, 67, 0.15);\n",
              "      fill: #174EA6;\n",
              "    }\n",
              "\n",
              "    .colab-df-buttons div {\n",
              "      margin-bottom: 4px;\n",
              "    }\n",
              "\n",
              "    [theme=dark] .colab-df-convert {\n",
              "      background-color: #3B4455;\n",
              "      fill: #D2E3FC;\n",
              "    }\n",
              "\n",
              "    [theme=dark] .colab-df-convert:hover {\n",
              "      background-color: #434B5C;\n",
              "      box-shadow: 0px 1px 3px 1px rgba(0, 0, 0, 0.15);\n",
              "      filter: drop-shadow(0px 1px 2px rgba(0, 0, 0, 0.3));\n",
              "      fill: #FFFFFF;\n",
              "    }\n",
              "  </style>\n",
              "\n",
              "    <script>\n",
              "      const buttonEl =\n",
              "        document.querySelector('#df-6c1792ec-0e91-4c82-85e0-46541fb82d84 button.colab-df-convert');\n",
              "      buttonEl.style.display =\n",
              "        google.colab.kernel.accessAllowed ? 'block' : 'none';\n",
              "\n",
              "      async function convertToInteractive(key) {\n",
              "        const element = document.querySelector('#df-6c1792ec-0e91-4c82-85e0-46541fb82d84');\n",
              "        const dataTable =\n",
              "          await google.colab.kernel.invokeFunction('convertToInteractive',\n",
              "                                                    [key], {});\n",
              "        if (!dataTable) return;\n",
              "\n",
              "        const docLinkHtml = 'Like what you see? Visit the ' +\n",
              "          '<a target=\"_blank\" href=https://colab.research.google.com/notebooks/data_table.ipynb>data table notebook</a>'\n",
              "          + ' to learn more about interactive tables.';\n",
              "        element.innerHTML = '';\n",
              "        dataTable['output_type'] = 'display_data';\n",
              "        await google.colab.output.renderOutput(dataTable, element);\n",
              "        const docLink = document.createElement('div');\n",
              "        docLink.innerHTML = docLinkHtml;\n",
              "        element.appendChild(docLink);\n",
              "      }\n",
              "    </script>\n",
              "  </div>\n",
              "\n",
              "\n",
              "    <div id=\"df-34cc0ef2-f2be-4715-b275-f9723f95f0f4\">\n",
              "      <button class=\"colab-df-quickchart\" onclick=\"quickchart('df-34cc0ef2-f2be-4715-b275-f9723f95f0f4')\"\n",
              "                title=\"Suggest charts\"\n",
              "                style=\"display:none;\">\n",
              "\n",
              "<svg xmlns=\"http://www.w3.org/2000/svg\" height=\"24px\"viewBox=\"0 0 24 24\"\n",
              "     width=\"24px\">\n",
              "    <g>\n",
              "        <path d=\"M19 3H5c-1.1 0-2 .9-2 2v14c0 1.1.9 2 2 2h14c1.1 0 2-.9 2-2V5c0-1.1-.9-2-2-2zM9 17H7v-7h2v7zm4 0h-2V7h2v10zm4 0h-2v-4h2v4z\"/>\n",
              "    </g>\n",
              "</svg>\n",
              "      </button>\n",
              "\n",
              "<style>\n",
              "  .colab-df-quickchart {\n",
              "      --bg-color: #E8F0FE;\n",
              "      --fill-color: #1967D2;\n",
              "      --hover-bg-color: #E2EBFA;\n",
              "      --hover-fill-color: #174EA6;\n",
              "      --disabled-fill-color: #AAA;\n",
              "      --disabled-bg-color: #DDD;\n",
              "  }\n",
              "\n",
              "  [theme=dark] .colab-df-quickchart {\n",
              "      --bg-color: #3B4455;\n",
              "      --fill-color: #D2E3FC;\n",
              "      --hover-bg-color: #434B5C;\n",
              "      --hover-fill-color: #FFFFFF;\n",
              "      --disabled-bg-color: #3B4455;\n",
              "      --disabled-fill-color: #666;\n",
              "  }\n",
              "\n",
              "  .colab-df-quickchart {\n",
              "    background-color: var(--bg-color);\n",
              "    border: none;\n",
              "    border-radius: 50%;\n",
              "    cursor: pointer;\n",
              "    display: none;\n",
              "    fill: var(--fill-color);\n",
              "    height: 32px;\n",
              "    padding: 0;\n",
              "    width: 32px;\n",
              "  }\n",
              "\n",
              "  .colab-df-quickchart:hover {\n",
              "    background-color: var(--hover-bg-color);\n",
              "    box-shadow: 0 1px 2px rgba(60, 64, 67, 0.3), 0 1px 3px 1px rgba(60, 64, 67, 0.15);\n",
              "    fill: var(--button-hover-fill-color);\n",
              "  }\n",
              "\n",
              "  .colab-df-quickchart-complete:disabled,\n",
              "  .colab-df-quickchart-complete:disabled:hover {\n",
              "    background-color: var(--disabled-bg-color);\n",
              "    fill: var(--disabled-fill-color);\n",
              "    box-shadow: none;\n",
              "  }\n",
              "\n",
              "  .colab-df-spinner {\n",
              "    border: 2px solid var(--fill-color);\n",
              "    border-color: transparent;\n",
              "    border-bottom-color: var(--fill-color);\n",
              "    animation:\n",
              "      spin 1s steps(1) infinite;\n",
              "  }\n",
              "\n",
              "  @keyframes spin {\n",
              "    0% {\n",
              "      border-color: transparent;\n",
              "      border-bottom-color: var(--fill-color);\n",
              "      border-left-color: var(--fill-color);\n",
              "    }\n",
              "    20% {\n",
              "      border-color: transparent;\n",
              "      border-left-color: var(--fill-color);\n",
              "      border-top-color: var(--fill-color);\n",
              "    }\n",
              "    30% {\n",
              "      border-color: transparent;\n",
              "      border-left-color: var(--fill-color);\n",
              "      border-top-color: var(--fill-color);\n",
              "      border-right-color: var(--fill-color);\n",
              "    }\n",
              "    40% {\n",
              "      border-color: transparent;\n",
              "      border-right-color: var(--fill-color);\n",
              "      border-top-color: var(--fill-color);\n",
              "    }\n",
              "    60% {\n",
              "      border-color: transparent;\n",
              "      border-right-color: var(--fill-color);\n",
              "    }\n",
              "    80% {\n",
              "      border-color: transparent;\n",
              "      border-right-color: var(--fill-color);\n",
              "      border-bottom-color: var(--fill-color);\n",
              "    }\n",
              "    90% {\n",
              "      border-color: transparent;\n",
              "      border-bottom-color: var(--fill-color);\n",
              "    }\n",
              "  }\n",
              "</style>\n",
              "\n",
              "      <script>\n",
              "        async function quickchart(key) {\n",
              "          const quickchartButtonEl =\n",
              "            document.querySelector('#' + key + ' button');\n",
              "          quickchartButtonEl.disabled = true;  // To prevent multiple clicks.\n",
              "          quickchartButtonEl.classList.add('colab-df-spinner');\n",
              "          try {\n",
              "            const charts = await google.colab.kernel.invokeFunction(\n",
              "                'suggestCharts', [key], {});\n",
              "          } catch (error) {\n",
              "            console.error('Error during call to suggestCharts:', error);\n",
              "          }\n",
              "          quickchartButtonEl.classList.remove('colab-df-spinner');\n",
              "          quickchartButtonEl.classList.add('colab-df-quickchart-complete');\n",
              "        }\n",
              "        (() => {\n",
              "          let quickchartButtonEl =\n",
              "            document.querySelector('#df-34cc0ef2-f2be-4715-b275-f9723f95f0f4 button');\n",
              "          quickchartButtonEl.style.display =\n",
              "            google.colab.kernel.accessAllowed ? 'block' : 'none';\n",
              "        })();\n",
              "      </script>\n",
              "    </div>\n",
              "\n",
              "    </div>\n",
              "  </div>\n"
            ],
            "application/vnd.google.colaboratory.intrinsic+json": {
              "type": "dataframe",
              "variable_name": "df_train_Sarcasm_Corpus_V2",
              "summary": "{\n  \"name\": \"df_train_Sarcasm_Corpus_V2\",\n  \"rows\": 6381,\n  \"fields\": [\n    {\n      \"column\": \"text\",\n      \"properties\": {\n        \"dtype\": \"string\",\n        \"num_unique_values\": 6303,\n        \"samples\": [\n          \"What is incredible is that this is probably the most enlightened response I can expect from this crowd.   I know that schmuck, that's the point. The Egyptians were trying to preserve the bodies and under the best of circumstances look how they deteriorate. Now ask yourself this genius, how long does it take for a bone to fossilize? And does a fossilized bone become immune to the elements and deterioration over millions of years when even steel corrodes from the alkali in the earth?\",\n          \"Obsession, EZ. You're obviously obsessed with gays and gay sex. Your posts say a lot about you.\",\n          \"And the Brady background check has not been repealed either so by your \\\"logic\\\" it must be effective.\"\n        ],\n        \"semantic_type\": \"\",\n        \"description\": \"\"\n      }\n    },\n    {\n      \"column\": \"sarcastic\",\n      \"properties\": {\n        \"dtype\": \"number\",\n        \"std\": 0,\n        \"min\": 0,\n        \"max\": 1,\n        \"num_unique_values\": 2,\n        \"samples\": [\n          1,\n          0\n        ],\n        \"semantic_type\": \"\",\n        \"description\": \"\"\n      }\n    }\n  ]\n}"
            }
          },
          "metadata": {},
          "execution_count": 36
        }
      ],
      "source": [
        "df_train_Sarcasm_Corpus_V2.head()"
      ]
    },
    {
      "cell_type": "code",
      "execution_count": 37,
      "id": "57003af7-a7f0-487e-8711-4ed5a2d8b0ff",
      "metadata": {
        "id": "57003af7-a7f0-487e-8711-4ed5a2d8b0ff",
        "outputId": "4312a74f-4130-4545-fce0-a714835a3d37",
        "colab": {
          "base_uri": "https://localhost:8080/"
        }
      },
      "outputs": [
        {
          "output_type": "stream",
          "name": "stdout",
          "text": [
            "Calculated class labels for Sarcasm_Corpus_V2: [0 1]\n",
            "Calculated class weights for Sarcasm_Corpus_V2: tensor([0.9998, 1.0002])\n"
          ]
        }
      ],
      "source": [
        "# Calculate class weights for weighted loss\n",
        "# give higher weights to 1 class, and lower weights to 0 class\n",
        "# No need for weighted loss, since classes are balanced\n",
        "class_labels_Sarcasm_Corpus_V2 = np.unique(df_train_Sarcasm_Corpus_V2['sarcastic'])\n",
        "class_weights_Sarcasm_Corpus_V2 = compute_class_weight(\n",
        "    class_weight='balanced',\n",
        "    classes=class_labels_Sarcasm_Corpus_V2,\n",
        "    y=df_train_Sarcasm_Corpus_V2['sarcastic'].tolist()\n",
        ")\n",
        "weights_tensor_Sarcasm_Corpus_V2= torch.tensor(class_weights_Sarcasm_Corpus_V2, dtype=torch.float)\n",
        "print(f\"Calculated class labels for Sarcasm_Corpus_V2: {class_labels_Sarcasm_Corpus_V2}\")\n",
        "print(f\"Calculated class weights for Sarcasm_Corpus_V2: {weights_tensor_Sarcasm_Corpus_V2}\")"
      ]
    },
    {
      "cell_type": "code",
      "execution_count": 38,
      "id": "4452e2d9-5d65-4f60-8972-98cde94d3cd0",
      "metadata": {
        "id": "4452e2d9-5d65-4f60-8972-98cde94d3cd0"
      },
      "outputs": [],
      "source": [
        "tokenizer = AutoTokenizer.from_pretrained(model)"
      ]
    },
    {
      "cell_type": "code",
      "execution_count": 39,
      "id": "c2de2e93-c824-410f-872a-e32d69f0a1a8",
      "metadata": {
        "id": "c2de2e93-c824-410f-872a-e32d69f0a1a8"
      },
      "outputs": [],
      "source": [
        "class SarcasmDataset(Dataset):\n",
        "    def __init__(self, texts, labels, tokenizer, max_len=128):\n",
        "        self.texts = texts\n",
        "        self.labels = labels\n",
        "        self.tokenizer = tokenizer\n",
        "        self.max_len = max_len\n",
        "\n",
        "    def __len__(self):\n",
        "        return len(self.texts)\n",
        "\n",
        "    def __getitem__(self, idx):\n",
        "        text = str(self.texts[idx])\n",
        "        label = int(self.labels[idx])\n",
        "\n",
        "        encoding = self.tokenizer.encode_plus(\n",
        "            text,\n",
        "            add_special_tokens=True,\n",
        "            max_length=self.max_len,\n",
        "            return_token_type_ids=False,\n",
        "            padding='max_length',\n",
        "            truncation=True,\n",
        "            return_attention_mask=True,\n",
        "            return_tensors='pt',\n",
        "        )\n",
        "\n",
        "        return {\n",
        "            'input_ids': encoding['input_ids'].flatten(),\n",
        "            'attention_mask': encoding['attention_mask'].flatten(),\n",
        "            'labels': torch.tensor(label, dtype=torch.long)\n",
        "        }"
      ]
    },
    {
      "cell_type": "code",
      "execution_count": 40,
      "id": "9b3a9362-3693-4964-9c88-9b277e8ddbd3",
      "metadata": {
        "id": "9b3a9362-3693-4964-9c88-9b277e8ddbd3",
        "outputId": "2678ecfa-be2d-4f0f-c152-0565ed270990",
        "colab": {
          "base_uri": "https://localhost:8080/"
        }
      },
      "outputs": [
        {
          "output_type": "stream",
          "name": "stdout",
          "text": [
            "Length of Sarcasm_Corpus_V2 training dataset: 6381\n",
            "Length of Sarcasm_Corpus_V2 validation dataset: 1127\n",
            "Length of Sarcasm_Corpus_V2 test dataset: 1878\n"
          ]
        }
      ],
      "source": [
        "# Creating the PyTorch Datasets\n",
        "MAX_LEN = 128\n",
        "\n",
        "train_dataset_Sarcasm_Corpus_V2 = SarcasmDataset(\n",
        "    texts=df_train_Sarcasm_Corpus_V2['text'].tolist(),\n",
        "    labels=df_train_Sarcasm_Corpus_V2['sarcastic'].tolist(),\n",
        "    tokenizer=tokenizer,\n",
        "    max_len=MAX_LEN\n",
        ")\n",
        "\n",
        "val_dataset_Sarcasm_Corpus_V2 = SarcasmDataset(\n",
        "    texts=df_val_Sarcasm_Corpus_V2['text'].tolist(),\n",
        "    labels=df_val_Sarcasm_Corpus_V2['sarcastic'].tolist(),\n",
        "    tokenizer=tokenizer,\n",
        "    max_len=MAX_LEN\n",
        ")\n",
        "\n",
        "test_dataset_Sarcasm_Corpus_V2 = SarcasmDataset(\n",
        "    texts=df_test_Sarcasm_Corpus_V2['text'].tolist(),\n",
        "    labels=df_test_Sarcasm_Corpus_V2['sarcastic'].tolist(),\n",
        "    tokenizer=tokenizer,\n",
        "    max_len=MAX_LEN\n",
        ")\n",
        "\n",
        "print(f\"Length of Sarcasm_Corpus_V2 training dataset: {len(train_dataset_Sarcasm_Corpus_V2)}\")\n",
        "print(f\"Length of Sarcasm_Corpus_V2 validation dataset: {len(val_dataset_Sarcasm_Corpus_V2)}\")\n",
        "print(f\"Length of Sarcasm_Corpus_V2 test dataset: {len(test_dataset_Sarcasm_Corpus_V2)}\")"
      ]
    },
    {
      "cell_type": "code",
      "execution_count": 41,
      "id": "d4fa5091-34fb-4970-be12-78683e030a91",
      "metadata": {
        "id": "d4fa5091-34fb-4970-be12-78683e030a91",
        "outputId": "2673505c-916c-4eca-fa32-422def425002",
        "colab": {
          "base_uri": "https://localhost:8080/"
        }
      },
      "outputs": [
        {
          "output_type": "stream",
          "name": "stderr",
          "text": [
            "Some weights of RobertaForSequenceClassification were not initialized from the model checkpoint at roberta-base and are newly initialized: ['classifier.dense.bias', 'classifier.dense.weight', 'classifier.out_proj.bias', 'classifier.out_proj.weight']\n",
            "You should probably TRAIN this model on a down-stream task to be able to use it for predictions and inference.\n"
          ]
        }
      ],
      "source": [
        "model_Sarcasm_Corpus_V2 = AutoModelForSequenceClassification.from_pretrained(\n",
        "    model,\n",
        "    num_labels=2  # We have binary classification: sarcastic (1) or not sarcastic (0)\n",
        ")\n",
        "\n",
        "# Function to compute metrics and heatmap\n",
        "def compute_metrics_Sarcasm_Corpus_V2(pred):\n",
        "    labels = pred.label_ids\n",
        "    preds = pred.predictions.argmax(-1)\n",
        "\n",
        "    #  basic metrics\n",
        "    precision_binary, recall_binary, f1_binary, _ = precision_recall_fscore_support(\n",
        "        labels, preds, average='binary', zero_division=0\n",
        "    )\n",
        "    acc = accuracy_score(labels, preds)\n",
        "\n",
        "    # weighted metrics\n",
        "    precision_weighted, recall_weighted, f1_weighted, _ = precision_recall_fscore_support(\n",
        "        labels, preds, average='weighted', zero_division=0\n",
        "    )\n",
        "\n",
        "    # confusion matrix\n",
        "    cm = confusion_matrix(labels, preds)\n",
        "    plt.figure(figsize=(6,4))\n",
        "    sns.heatmap(cm, annot=True, fmt='d', cmap='Blues', cbar=False,\n",
        "                xticklabels=['Not Sarcastic', 'Sarcastic'],\n",
        "                yticklabels=['Not Sarcastic', 'Sarcastic'])\n",
        "    plt.xlabel('Predicted')\n",
        "    plt.ylabel('Actual')\n",
        "    plt.title('Confusion Matrix (Sarcasm_Corpus_V2 Validation)')\n",
        "    plt.show()\n",
        "\n",
        "    return {\n",
        "        'accuracy': acc,\n",
        "        'f1_binary': f1_binary,\n",
        "        'precision_binary': precision_binary,\n",
        "        'recall_binary': recall_binary,\n",
        "        'f1_weighted': f1_weighted,\n",
        "        'precision_weighted': precision_weighted,\n",
        "        'recall_weighted': recall_weighted,\n",
        "    }"
      ]
    },
    {
      "cell_type": "code",
      "execution_count": 43,
      "id": "2f069289-3fbc-4fe1-9207-1da3c5294f24",
      "metadata": {
        "id": "2f069289-3fbc-4fe1-9207-1da3c5294f24"
      },
      "outputs": [],
      "source": [
        "# Training Params\n",
        "training_args_Sarcasm_Corpus_V2 = TrainingArguments(\n",
        "    output_dir=path+'/results_Sarcasm_Corpus_V2',          # Directory to save model checkpoints and final model\n",
        "    num_train_epochs=10,\n",
        "    per_device_train_batch_size=16,\n",
        "    per_device_eval_batch_size=32,\n",
        "    learning_rate=2e-5,\n",
        "    warmup_steps=100,\n",
        "    weight_decay=0.01,\n",
        "\n",
        "\n",
        "    logging_strategy=\"epoch\",\n",
        "    report_to=\"none\",\n",
        "\n",
        "    # Evaluation\n",
        "    eval_strategy=\"epoch\",\n",
        "    save_strategy=\"epoch\",\n",
        "    load_best_model_at_end=True,\n",
        "    metric_for_best_model=\"loss\",      # Metric to determine the best model\n",
        "    greater_is_better=False,\n",
        "    fp16=torch.cuda.is_available(),           # Use mixed precision training if a GPU is available\n",
        "    save_total_limit=2,                        # Only keep the last 2 checkpoints + the best one\n",
        "    dataloader_num_workers=8\n",
        ")"
      ]
    },
    {
      "cell_type": "code",
      "execution_count": 44,
      "id": "5c29be77-6744-4540-af9a-762e341e4b80",
      "metadata": {
        "id": "5c29be77-6744-4540-af9a-762e341e4b80"
      },
      "outputs": [],
      "source": [
        "# Initializing the Trainer\n",
        "trainer_Sarcasm_Corpus_V2 = Trainer(\n",
        "        model=model_Sarcasm_Corpus_V2,\n",
        "        args=training_args_Sarcasm_Corpus_V2,\n",
        "        train_dataset=train_dataset_Sarcasm_Corpus_V2,\n",
        "        eval_dataset=val_dataset_Sarcasm_Corpus_V2,\n",
        "        compute_metrics=compute_metrics_Sarcasm_Corpus_V2,\n",
        "        callbacks=[EarlyStoppingCallback(early_stopping_patience=2)],\n",
        "    )"
      ]
    },
    {
      "cell_type": "code",
      "execution_count": 45,
      "id": "e895f24f-415e-4cb2-8895-9194cc78406a",
      "metadata": {
        "id": "e895f24f-415e-4cb2-8895-9194cc78406a",
        "outputId": "dcb2ca53-5be3-480c-b3bb-bd8a0babafad",
        "colab": {
          "base_uri": "https://localhost:8080/",
          "height": 1000
        }
      },
      "outputs": [
        {
          "output_type": "stream",
          "name": "stderr",
          "text": [
            "/usr/local/lib/python3.11/dist-packages/torch/utils/data/dataloader.py:624: UserWarning: This DataLoader will create 8 worker processes in total. Our suggested max number of worker in current system is 2, which is smaller than what this DataLoader is going to create. Please be aware that excessive worker creation might get DataLoader running slow or even freeze, lower the worker number to avoid potential slowness/freeze if necessary.\n",
            "  warnings.warn(\n"
          ]
        },
        {
          "output_type": "display_data",
          "data": {
            "text/plain": [
              "<IPython.core.display.HTML object>"
            ],
            "text/html": [
              "\n",
              "    <div>\n",
              "      \n",
              "      <progress value='1197' max='3990' style='width:300px; height:20px; vertical-align: middle;'></progress>\n",
              "      [1197/3990 03:29 < 08:09, 5.71 it/s, Epoch 3/10]\n",
              "    </div>\n",
              "    <table border=\"1\" class=\"dataframe\">\n",
              "  <thead>\n",
              " <tr style=\"text-align: left;\">\n",
              "      <th>Epoch</th>\n",
              "      <th>Training Loss</th>\n",
              "      <th>Validation Loss</th>\n",
              "      <th>Accuracy</th>\n",
              "      <th>F1 Binary</th>\n",
              "      <th>Precision Binary</th>\n",
              "      <th>Recall Binary</th>\n",
              "      <th>F1 Weighted</th>\n",
              "      <th>Precision Weighted</th>\n",
              "      <th>Recall Weighted</th>\n",
              "    </tr>\n",
              "  </thead>\n",
              "  <tbody>\n",
              "    <tr>\n",
              "      <td>1</td>\n",
              "      <td>0.511400</td>\n",
              "      <td>0.446236</td>\n",
              "      <td>0.805679</td>\n",
              "      <td>0.798157</td>\n",
              "      <td>0.831094</td>\n",
              "      <td>0.767730</td>\n",
              "      <td>0.805402</td>\n",
              "      <td>0.807482</td>\n",
              "      <td>0.805679</td>\n",
              "    </tr>\n",
              "    <tr>\n",
              "      <td>2</td>\n",
              "      <td>0.363400</td>\n",
              "      <td>0.456351</td>\n",
              "      <td>0.795031</td>\n",
              "      <td>0.787097</td>\n",
              "      <td>0.819578</td>\n",
              "      <td>0.757092</td>\n",
              "      <td>0.794739</td>\n",
              "      <td>0.796773</td>\n",
              "      <td>0.795031</td>\n",
              "    </tr>\n",
              "    <tr>\n",
              "      <td>3</td>\n",
              "      <td>0.253600</td>\n",
              "      <td>0.678541</td>\n",
              "      <td>0.800355</td>\n",
              "      <td>0.813896</td>\n",
              "      <td>0.762791</td>\n",
              "      <td>0.872340</td>\n",
              "      <td>0.799305</td>\n",
              "      <td>0.806668</td>\n",
              "      <td>0.800355</td>\n",
              "    </tr>\n",
              "  </tbody>\n",
              "</table><p>"
            ]
          },
          "metadata": {}
        },
        {
          "output_type": "display_data",
          "data": {
            "text/plain": [
              "<Figure size 600x400 with 1 Axes>"
            ],
            "image/png": "[encoded data removed]"
          },
          "metadata": {}
        },
        {
          "output_type": "stream",
          "name": "stderr",
          "text": [
            "/usr/local/lib/python3.11/dist-packages/torch/utils/data/dataloader.py:624: UserWarning: This DataLoader will create 8 worker processes in total. Our suggested max number of worker in current system is 2, which is smaller than what this DataLoader is going to create. Please be aware that excessive worker creation might get DataLoader running slow or even freeze, lower the worker number to avoid potential slowness/freeze if necessary.\n",
            "  warnings.warn(\n"
          ]
        },
        {
          "output_type": "display_data",
          "data": {
            "text/plain": [
              "<Figure size 600x400 with 1 Axes>"
            ],
            "image/png": "[encoded data removed]"
          },
          "metadata": {}
        },
        {
          "output_type": "stream",
          "name": "stderr",
          "text": [
            "/usr/local/lib/python3.11/dist-packages/torch/utils/data/dataloader.py:624: UserWarning: This DataLoader will create 8 worker processes in total. Our suggested max number of worker in current system is 2, which is smaller than what this DataLoader is going to create. Please be aware that excessive worker creation might get DataLoader running slow or even freeze, lower the worker number to avoid potential slowness/freeze if necessary.\n",
            "  warnings.warn(\n"
          ]
        },
        {
          "output_type": "display_data",
          "data": {
            "text/plain": [
              "<Figure size 600x400 with 1 Axes>"
            ],
            "image/png": "[encoded data removed]"
          },
          "metadata": {}
        },
        {
          "output_type": "stream",
          "name": "stdout",
          "text": [
            "Best model for Sarcasm_Corpus_V2 saved to /content/drive/MyDrive/nndl/results_Sarcasm_Corpus_V2/best_model_Sarcasm_Corpus_V2\n"
          ]
        }
      ],
      "source": [
        "# Training\n",
        "train_result_Sarcasm_Corpus_V2 = trainer_Sarcasm_Corpus_V2.train()\n",
        "trainer_Sarcasm_Corpus_V2.save_model(path+\"/results_Sarcasm_Corpus_V2/best_model_Sarcasm_Corpus_V2\")\n",
        "tokenizer.save_pretrained(path+\"/results_Sarcasm_Corpus_V2/best_model_Sarcasm_Corpus_V2\")\n",
        "print(f\"Best model for Sarcasm_Corpus_V2 saved to {path}/results_Sarcasm_Corpus_V2/best_model_Sarcasm_Corpus_V2\")"
      ]
    },
    {
      "cell_type": "code",
      "execution_count": 46,
      "id": "cabb29e5-0c17-47e9-88c6-0d5e83a2ef40",
      "metadata": {
        "id": "cabb29e5-0c17-47e9-88c6-0d5e83a2ef40",
        "outputId": "3a39a143-385f-4461-947d-a5b907bd4059",
        "colab": {
          "base_uri": "https://localhost:8080/",
          "height": 487
        }
      },
      "outputs": [
        {
          "output_type": "stream",
          "name": "stdout",
          "text": [
            "Plotting training and validation loss...\n"
          ]
        },
        {
          "output_type": "display_data",
          "data": {
            "text/plain": [
              "<Figure size 1000x500 with 1 Axes>"
            ],
            "image/png": "[encoded data removed]"
          },
          "metadata": {}
        }
      ],
      "source": [
        "print(\"Plotting training and validation loss...\")\n",
        "log_history = trainer_Sarcasm_Corpus_V2.state.log_history\n",
        "\n",
        "training_loss = []\n",
        "validation_loss = []\n",
        "epochs_train = []\n",
        "epochs_val = []\n",
        "\n",
        "for log_entry in log_history:\n",
        "    if 'loss' in log_entry:  # Training log\n",
        "        training_loss.append(log_entry['loss'])\n",
        "        epochs_train.append(log_entry['epoch'])\n",
        "    if 'eval_loss' in log_entry:  # Evaluation log\n",
        "        validation_loss.append(log_entry['eval_loss'])\n",
        "        epochs_val.append(log_entry['epoch'])\n",
        "\n",
        "if not training_loss and not validation_loss:\n",
        "    print(\"No training or validation loss found in log_history. Ensure logging_strategy was not 'no'.\")\n",
        "else:\n",
        "    plt.figure(figsize=(10, 5))\n",
        "    if training_loss:\n",
        "        plt.plot(epochs_train, training_loss, label='Training Loss', marker='o', linestyle='-')\n",
        "    if validation_loss:\n",
        "        plt.plot(epochs_val, validation_loss, label='Validation Loss', marker='x', linestyle='--')\n",
        "\n",
        "    plt.title('Training vs Validation Loss for Sarcasm_Corpus_V2')\n",
        "    plt.xlabel('Epoch')\n",
        "    plt.ylabel('Loss')\n",
        "    plt.legend()\n",
        "    plt.grid(True)\n",
        "    plt.xticks([int(e) for e in sorted(list(set(epochs_train + epochs_val))) if e == int(e)])\n",
        "    plt.show()"
      ]
    },
    {
      "cell_type": "code",
      "execution_count": 47,
      "id": "d5515dfd-8e25-4b92-beea-e8cef037e6d2",
      "metadata": {
        "id": "d5515dfd-8e25-4b92-beea-e8cef037e6d2",
        "outputId": "540ce52b-874d-41dd-8b9d-fd155905f6d9",
        "colab": {
          "base_uri": "https://localhost:8080/",
          "height": 708
        }
      },
      "outputs": [
        {
          "output_type": "stream",
          "name": "stdout",
          "text": [
            "\n",
            "Evaluating the Sarcasm_Corpus_V2 model on the test set...\n"
          ]
        },
        {
          "output_type": "stream",
          "name": "stderr",
          "text": [
            "/usr/local/lib/python3.11/dist-packages/torch/utils/data/dataloader.py:624: UserWarning: This DataLoader will create 8 worker processes in total. Our suggested max number of worker in current system is 2, which is smaller than what this DataLoader is going to create. Please be aware that excessive worker creation might get DataLoader running slow or even freeze, lower the worker number to avoid potential slowness/freeze if necessary.\n",
            "  warnings.warn(\n"
          ]
        },
        {
          "output_type": "display_data",
          "data": {
            "text/plain": [
              "<IPython.core.display.HTML object>"
            ],
            "text/html": []
          },
          "metadata": {}
        },
        {
          "output_type": "display_data",
          "data": {
            "text/plain": [
              "<Figure size 600x400 with 1 Axes>"
            ],
            "image/png": "[encoded data removed]"
          },
          "metadata": {}
        },
        {
          "output_type": "stream",
          "name": "stdout",
          "text": [
            "\n",
            "Test Set Evaluation Metrics for Sarcasm_Corpus_V2 Model:\n",
            "test_accuracy: 0.8126\n",
            "test_f1_binary: 0.8005\n",
            "test_precision_binary: 0.8558\n",
            "test_recall_binary: 0.7519\n",
            "test_f1_weighted: 0.8119\n",
            "test_precision_weighted: 0.8172\n",
            "test_recall_weighted: 0.8126\n",
            "test_runtime: 4.6207\n",
            "test_samples_per_second: 406.4280\n",
            "test_steps_per_second: 12.7680\n"
          ]
        }
      ],
      "source": [
        "print(\"\\nEvaluating the Sarcasm_Corpus_V2 model on the test set...\")\n",
        "# We perform prediction on the test set\n",
        "test_predictions_Sarcasm_Corpus_V2 = trainer_Sarcasm_Corpus_V2.predict(test_dataset_Sarcasm_Corpus_V2)\n",
        "print(\"\\nTest Set Evaluation Metrics for Sarcasm_Corpus_V2 Model:\")\n",
        "if test_predictions_Sarcasm_Corpus_V2.metrics:\n",
        "    for key, value in test_predictions_Sarcasm_Corpus_V2.metrics.items():\n",
        "        if 'loss' not in key:\n",
        "             print(f\"{key}: {value:.4f}\")\n",
        "else:\n",
        "    print(\"No metrics returned from predict.\")"
      ]
    },
    {
      "cell_type": "markdown",
      "id": "1b438fc5-4e27-4cf7-93d9-2176baec263e",
      "metadata": {
        "id": "1b438fc5-4e27-4cf7-93d9-2176baec263e"
      },
      "source": [
        "# Model trained on Combined dataset (iSarcasmEval +Sarcasm_Corpus_V2)"
      ]
    },
    {
      "cell_type": "code",
      "execution_count": 49,
      "id": "6d619628-bc7a-4d03-8167-ce2b73e1f8b6",
      "metadata": {
        "id": "6d619628-bc7a-4d03-8167-ce2b73e1f8b6"
      },
      "outputs": [],
      "source": [
        "df_train_combined = pd.read_csv(path+'/combined/train.csv')\n",
        "df_val_combined = pd.read_csv(path+'/combined/val.csv')\n",
        "df_test_combined = pd.read_csv(path+'/combined/test.csv')"
      ]
    },
    {
      "cell_type": "code",
      "execution_count": 50,
      "id": "89483a5c-9c06-467b-bec0-10ed7cb62396",
      "metadata": {
        "id": "89483a5c-9c06-467b-bec0-10ed7cb62396",
        "outputId": "56113c24-3bb3-4279-e881-37fc349e3b90",
        "colab": {
          "base_uri": "https://localhost:8080/",
          "height": 206
        }
      },
      "outputs": [
        {
          "output_type": "execute_result",
          "data": {
            "text/plain": [
              "                                                text  sarcastic\n",
              "0  I haven’t seen my best friend in over a year I...          0\n",
              "1  And you people whine at me about using persona...          0\n",
              "2  Would you care to explain exactly what was lac...          0\n",
              "3  This tennis is hilariously fantastic to watch....          0\n",
              "4  So, the Supreme Court rested its decision not ...          0"
            ],
            "text/html": [
              "\n",
              "  <div id=\"df-26fcd897-a69c-4c91-ae22-46023541ed12\" class=\"colab-df-container\">\n",
              "    <div>\n",
              "<style scoped>\n",
              "    .dataframe tbody tr th:only-of-type {\n",
              "        vertical-align: middle;\n",
              "    }\n",
              "\n",
              "    .dataframe tbody tr th {\n",
              "        vertical-align: top;\n",
              "    }\n",
              "\n",
              "    .dataframe thead th {\n",
              "        text-align: right;\n",
              "    }\n",
              "</style>\n",
              "<table border=\"1\" class=\"dataframe\">\n",
              "  <thead>\n",
              "    <tr style=\"text-align: right;\">\n",
              "      <th></th>\n",
              "      <th>text</th>\n",
              "      <th>sarcastic</th>\n",
              "    </tr>\n",
              "  </thead>\n",
              "  <tbody>\n",
              "    <tr>\n",
              "      <th>0</th>\n",
              "      <td>I haven’t seen my best friend in over a year I...</td>\n",
              "      <td>0</td>\n",
              "    </tr>\n",
              "    <tr>\n",
              "      <th>1</th>\n",
              "      <td>And you people whine at me about using persona...</td>\n",
              "      <td>0</td>\n",
              "    </tr>\n",
              "    <tr>\n",
              "      <th>2</th>\n",
              "      <td>Would you care to explain exactly what was lac...</td>\n",
              "      <td>0</td>\n",
              "    </tr>\n",
              "    <tr>\n",
              "      <th>3</th>\n",
              "      <td>This tennis is hilariously fantastic to watch....</td>\n",
              "      <td>0</td>\n",
              "    </tr>\n",
              "    <tr>\n",
              "      <th>4</th>\n",
              "      <td>So, the Supreme Court rested its decision not ...</td>\n",
              "      <td>0</td>\n",
              "    </tr>\n",
              "  </tbody>\n",
              "</table>\n",
              "</div>\n",
              "    <div class=\"colab-df-buttons\">\n",
              "\n",
              "  <div class=\"colab-df-container\">\n",
              "    <button class=\"colab-df-convert\" onclick=\"convertToInteractive('df-26fcd897-a69c-4c91-ae22-46023541ed12')\"\n",
              "            title=\"Convert this dataframe to an interactive table.\"\n",
              "            style=\"display:none;\">\n",
              "\n",
              "  <svg xmlns=\"http://www.w3.org/2000/svg\" height=\"24px\" viewBox=\"0 -960 960 960\">\n",
              "    <path d=\"M120-120v-720h720v720H120Zm60-500h600v-160H180v160Zm220 220h160v-160H400v160Zm0 220h160v-160H400v160ZM180-400h160v-160H180v160Zm440 0h160v-160H620v160ZM180-180h160v-160H180v160Zm440 0h160v-160H620v160Z\"/>\n",
              "  </svg>\n",
              "    </button>\n",
              "\n",
              "  <style>\n",
              "    .colab-df-container {\n",
              "      display:flex;\n",
              "      gap: 12px;\n",
              "    }\n",
              "\n",
              "    .colab-df-convert {\n",
              "      background-color: #E8F0FE;\n",
              "      border: none;\n",
              "      border-radius: 50%;\n",
              "      cursor: pointer;\n",
              "      display: none;\n",
              "      fill: #1967D2;\n",
              "      height: 32px;\n",
              "      padding: 0 0 0 0;\n",
              "      width: 32px;\n",
              "    }\n",
              "\n",
              "    .colab-df-convert:hover {\n",
              "      background-color: #E2EBFA;\n",
              "      box-shadow: 0px 1px 2px rgba(60, 64, 67, 0.3), 0px 1px 3px 1px rgba(60, 64, 67, 0.15);\n",
              "      fill: #174EA6;\n",
              "    }\n",
              "\n",
              "    .colab-df-buttons div {\n",
              "      margin-bottom: 4px;\n",
              "    }\n",
              "\n",
              "    [theme=dark] .colab-df-convert {\n",
              "      background-color: #3B4455;\n",
              "      fill: #D2E3FC;\n",
              "    }\n",
              "\n",
              "    [theme=dark] .colab-df-convert:hover {\n",
              "      background-color: #434B5C;\n",
              "      box-shadow: 0px 1px 3px 1px rgba(0, 0, 0, 0.15);\n",
              "      filter: drop-shadow(0px 1px 2px rgba(0, 0, 0, 0.3));\n",
              "      fill: #FFFFFF;\n",
              "    }\n",
              "  </style>\n",
              "\n",
              "    <script>\n",
              "      const buttonEl =\n",
              "        document.querySelector('#df-26fcd897-a69c-4c91-ae22-46023541ed12 button.colab-df-convert');\n",
              "      buttonEl.style.display =\n",
              "        google.colab.kernel.accessAllowed ? 'block' : 'none';\n",
              "\n",
              "      async function convertToInteractive(key) {\n",
              "        const element = document.querySelector('#df-26fcd897-a69c-4c91-ae22-46023541ed12');\n",
              "        const dataTable =\n",
              "          await google.colab.kernel.invokeFunction('convertToInteractive',\n",
              "                                                    [key], {});\n",
              "        if (!dataTable) return;\n",
              "\n",
              "        const docLinkHtml = 'Like what you see? Visit the ' +\n",
              "          '<a target=\"_blank\" href=https://colab.research.google.com/notebooks/data_table.ipynb>data table notebook</a>'\n",
              "          + ' to learn more about interactive tables.';\n",
              "        element.innerHTML = '';\n",
              "        dataTable['output_type'] = 'display_data';\n",
              "        await google.colab.output.renderOutput(dataTable, element);\n",
              "        const docLink = document.createElement('div');\n",
              "        docLink.innerHTML = docLinkHtml;\n",
              "        element.appendChild(docLink);\n",
              "      }\n",
              "    </script>\n",
              "  </div>\n",
              "\n",
              "\n",
              "    <div id=\"df-2d295577-552b-48f6-8d5a-99ae93c26315\">\n",
              "      <button class=\"colab-df-quickchart\" onclick=\"quickchart('df-2d295577-552b-48f6-8d5a-99ae93c26315')\"\n",
              "                title=\"Suggest charts\"\n",
              "                style=\"display:none;\">\n",
              "\n",
              "<svg xmlns=\"http://www.w3.org/2000/svg\" height=\"24px\"viewBox=\"0 0 24 24\"\n",
              "     width=\"24px\">\n",
              "    <g>\n",
              "        <path d=\"M19 3H5c-1.1 0-2 .9-2 2v14c0 1.1.9 2 2 2h14c1.1 0 2-.9 2-2V5c0-1.1-.9-2-2-2zM9 17H7v-7h2v7zm4 0h-2V7h2v10zm4 0h-2v-4h2v4z\"/>\n",
              "    </g>\n",
              "</svg>\n",
              "      </button>\n",
              "\n",
              "<style>\n",
              "  .colab-df-quickchart {\n",
              "      --bg-color: #E8F0FE;\n",
              "      --fill-color: #1967D2;\n",
              "      --hover-bg-color: #E2EBFA;\n",
              "      --hover-fill-color: #174EA6;\n",
              "      --disabled-fill-color: #AAA;\n",
              "      --disabled-bg-color: #DDD;\n",
              "  }\n",
              "\n",
              "  [theme=dark] .colab-df-quickchart {\n",
              "      --bg-color: #3B4455;\n",
              "      --fill-color: #D2E3FC;\n",
              "      --hover-bg-color: #434B5C;\n",
              "      --hover-fill-color: #FFFFFF;\n",
              "      --disabled-bg-color: #3B4455;\n",
              "      --disabled-fill-color: #666;\n",
              "  }\n",
              "\n",
              "  .colab-df-quickchart {\n",
              "    background-color: var(--bg-color);\n",
              "    border: none;\n",
              "    border-radius: 50%;\n",
              "    cursor: pointer;\n",
              "    display: none;\n",
              "    fill: var(--fill-color);\n",
              "    height: 32px;\n",
              "    padding: 0;\n",
              "    width: 32px;\n",
              "  }\n",
              "\n",
              "  .colab-df-quickchart:hover {\n",
              "    background-color: var(--hover-bg-color);\n",
              "    box-shadow: 0 1px 2px rgba(60, 64, 67, 0.3), 0 1px 3px 1px rgba(60, 64, 67, 0.15);\n",
              "    fill: var(--button-hover-fill-color);\n",
              "  }\n",
              "\n",
              "  .colab-df-quickchart-complete:disabled,\n",
              "  .colab-df-quickchart-complete:disabled:hover {\n",
              "    background-color: var(--disabled-bg-color);\n",
              "    fill: var(--disabled-fill-color);\n",
              "    box-shadow: none;\n",
              "  }\n",
              "\n",
              "  .colab-df-spinner {\n",
              "    border: 2px solid var(--fill-color);\n",
              "    border-color: transparent;\n",
              "    border-bottom-color: var(--fill-color);\n",
              "    animation:\n",
              "      spin 1s steps(1) infinite;\n",
              "  }\n",
              "\n",
              "  @keyframes spin {\n",
              "    0% {\n",
              "      border-color: transparent;\n",
              "      border-bottom-color: var(--fill-color);\n",
              "      border-left-color: var(--fill-color);\n",
              "    }\n",
              "    20% {\n",
              "      border-color: transparent;\n",
              "      border-left-color: var(--fill-color);\n",
              "      border-top-color: var(--fill-color);\n",
              "    }\n",
              "    30% {\n",
              "      border-color: transparent;\n",
              "      border-left-color: var(--fill-color);\n",
              "      border-top-color: var(--fill-color);\n",
              "      border-right-color: var(--fill-color);\n",
              "    }\n",
              "    40% {\n",
              "      border-color: transparent;\n",
              "      border-right-color: var(--fill-color);\n",
              "      border-top-color: var(--fill-color);\n",
              "    }\n",
              "    60% {\n",
              "      border-color: transparent;\n",
              "      border-right-color: var(--fill-color);\n",
              "    }\n",
              "    80% {\n",
              "      border-color: transparent;\n",
              "      border-right-color: var(--fill-color);\n",
              "      border-bottom-color: var(--fill-color);\n",
              "    }\n",
              "    90% {\n",
              "      border-color: transparent;\n",
              "      border-bottom-color: var(--fill-color);\n",
              "    }\n",
              "  }\n",
              "</style>\n",
              "\n",
              "      <script>\n",
              "        async function quickchart(key) {\n",
              "          const quickchartButtonEl =\n",
              "            document.querySelector('#' + key + ' button');\n",
              "          quickchartButtonEl.disabled = true;  // To prevent multiple clicks.\n",
              "          quickchartButtonEl.classList.add('colab-df-spinner');\n",
              "          try {\n",
              "            const charts = await google.colab.kernel.invokeFunction(\n",
              "                'suggestCharts', [key], {});\n",
              "          } catch (error) {\n",
              "            console.error('Error during call to suggestCharts:', error);\n",
              "          }\n",
              "          quickchartButtonEl.classList.remove('colab-df-spinner');\n",
              "          quickchartButtonEl.classList.add('colab-df-quickchart-complete');\n",
              "        }\n",
              "        (() => {\n",
              "          let quickchartButtonEl =\n",
              "            document.querySelector('#df-2d295577-552b-48f6-8d5a-99ae93c26315 button');\n",
              "          quickchartButtonEl.style.display =\n",
              "            google.colab.kernel.accessAllowed ? 'block' : 'none';\n",
              "        })();\n",
              "      </script>\n",
              "    </div>\n",
              "\n",
              "    </div>\n",
              "  </div>\n"
            ],
            "application/vnd.google.colaboratory.intrinsic+json": {
              "type": "dataframe",
              "variable_name": "df_train_combined",
              "summary": "{\n  \"name\": \"df_train_combined\",\n  \"rows\": 9328,\n  \"fields\": [\n    {\n      \"column\": \"text\",\n      \"properties\": {\n        \"dtype\": \"string\",\n        \"num_unique_values\": 9240,\n        \"samples\": [\n          \"OMG Simone!emoticonXCry His head is already so big we can hardly fit him on the screen. Don't encourage him.emoticonXHoho\",\n          \"And where exactly is your proof that \\\"Stop, don't touch, leave the area, tell an adult\\\" is indoctrination and translates to \\\"go out and buy a gun, buy as many guns as possible, obsess over the gun, etc.\\\"\",\n          \"Wow we aren\\u2019t the favourites this time? https://t.co/qKj4fKvYm3\"\n        ],\n        \"semantic_type\": \"\",\n        \"description\": \"\"\n      }\n    },\n    {\n      \"column\": \"sarcastic\",\n      \"properties\": {\n        \"dtype\": \"number\",\n        \"std\": 0,\n        \"min\": 0,\n        \"max\": 1,\n        \"num_unique_values\": 2,\n        \"samples\": [\n          1,\n          0\n        ],\n        \"semantic_type\": \"\",\n        \"description\": \"\"\n      }\n    }\n  ]\n}"
            }
          },
          "metadata": {},
          "execution_count": 50
        }
      ],
      "source": [
        "df_train_combined.head()"
      ]
    },
    {
      "cell_type": "code",
      "execution_count": 51,
      "id": "355c5b02-2784-421f-b127-6809de911b1d",
      "metadata": {
        "id": "355c5b02-2784-421f-b127-6809de911b1d",
        "outputId": "80df26b4-d4c5-440c-9334-f36d5bf62761",
        "colab": {
          "base_uri": "https://localhost:8080/"
        }
      },
      "outputs": [
        {
          "output_type": "stream",
          "name": "stdout",
          "text": [
            "Calculated class labels for Combined Dataset: [0 1]\n",
            "Calculated class weights for Combined Dataset: tensor([0.8635, 1.1877])\n"
          ]
        }
      ],
      "source": [
        "# Calculate class weights for weighted loss\n",
        "# give higher weights to 1 class, and lower weights to 0 class\n",
        "# They have similar samples, so no weighted loss is needed\n",
        "class_labels_combined = np.unique(df_train_combined['sarcastic'])\n",
        "class_weights_combined = compute_class_weight(\n",
        "    class_weight='balanced',\n",
        "    classes=class_labels_combined,\n",
        "    y=df_train_combined['sarcastic'].tolist()\n",
        ")\n",
        "weights_tensor_combined = torch.tensor(class_weights_combined, dtype=torch.float)\n",
        "print(f\"Calculated class labels for Combined Dataset: {class_labels_combined}\")\n",
        "print(f\"Calculated class weights for Combined Dataset: {weights_tensor_combined}\")"
      ]
    },
    {
      "cell_type": "code",
      "execution_count": 52,
      "id": "a270b8de-4dec-4728-944c-db47127b81ef",
      "metadata": {
        "id": "a270b8de-4dec-4728-944c-db47127b81ef"
      },
      "outputs": [],
      "source": [
        "tokenizer = AutoTokenizer.from_pretrained(model)"
      ]
    },
    {
      "cell_type": "code",
      "execution_count": 53,
      "id": "7dbcf399-276f-40a6-a9ed-d56728c3f78b",
      "metadata": {
        "id": "7dbcf399-276f-40a6-a9ed-d56728c3f78b"
      },
      "outputs": [],
      "source": [
        "class SarcasmDataset(Dataset):\n",
        "    def __init__(self, texts, labels, tokenizer, max_len=128):\n",
        "        self.texts = texts\n",
        "        self.labels = labels\n",
        "        self.tokenizer = tokenizer\n",
        "        self.max_len = max_len\n",
        "\n",
        "    def __len__(self):\n",
        "        return len(self.texts)\n",
        "\n",
        "    def __getitem__(self, idx):\n",
        "        text = str(self.texts[idx])\n",
        "        label = int(self.labels[idx])\n",
        "\n",
        "        encoding = self.tokenizer.encode_plus(\n",
        "            text,\n",
        "            add_special_tokens=True,\n",
        "            max_length=self.max_len,\n",
        "            return_token_type_ids=False,\n",
        "            padding='max_length',\n",
        "            truncation=True,\n",
        "            return_attention_mask=True,\n",
        "            return_tensors='pt',\n",
        "        )\n",
        "\n",
        "        return {\n",
        "            'input_ids': encoding['input_ids'].flatten(),\n",
        "            'attention_mask': encoding['attention_mask'].flatten(),\n",
        "            'labels': torch.tensor(label, dtype=torch.long)\n",
        "        }"
      ]
    },
    {
      "cell_type": "code",
      "execution_count": 54,
      "id": "21820b81-1041-40e5-95b0-23e738ea6d63",
      "metadata": {
        "id": "21820b81-1041-40e5-95b0-23e738ea6d63",
        "outputId": "15492e4f-d717-4160-f3d8-0be052a06337",
        "colab": {
          "base_uri": "https://localhost:8080/"
        }
      },
      "outputs": [
        {
          "output_type": "stream",
          "name": "stdout",
          "text": [
            "Length of Combined training dataset: 9328\n",
            "Length of Combined validation dataset: 1648\n",
            "Length of Combined test dataset: 3278\n"
          ]
        }
      ],
      "source": [
        "# Creating the PyTorch Datasets\n",
        "MAX_LEN = 128\n",
        "\n",
        "train_dataset_combined = SarcasmDataset(\n",
        "    texts=df_train_combined['text'].tolist(),\n",
        "    labels=df_train_combined['sarcastic'].tolist(),\n",
        "    tokenizer=tokenizer,\n",
        "    max_len=MAX_LEN\n",
        ")\n",
        "\n",
        "val_dataset_combined  = SarcasmDataset(\n",
        "    texts=df_val_combined['text'].tolist(),\n",
        "    labels=df_val_combined['sarcastic'].tolist(),\n",
        "    tokenizer=tokenizer,\n",
        "    max_len=MAX_LEN\n",
        ")\n",
        "\n",
        "test_dataset_combined  = SarcasmDataset(\n",
        "    texts=df_test_combined['text'].tolist(),\n",
        "    labels=df_test_combined['sarcastic'].tolist(),\n",
        "    tokenizer=tokenizer,\n",
        "    max_len=MAX_LEN\n",
        ")\n",
        "\n",
        "print(f\"Length of Combined training dataset: {len(train_dataset_combined)}\")\n",
        "print(f\"Length of Combined validation dataset: {len(val_dataset_combined)}\")\n",
        "print(f\"Length of Combined test dataset: {len(test_dataset_combined)}\")"
      ]
    },
    {
      "cell_type": "code",
      "execution_count": 55,
      "id": "3e9a7ad8-ec7e-416a-9b1b-5bf48d75053f",
      "metadata": {
        "id": "3e9a7ad8-ec7e-416a-9b1b-5bf48d75053f",
        "outputId": "f3f3f4f7-bf7e-403d-8547-30a1e5e56f35",
        "colab": {
          "base_uri": "https://localhost:8080/"
        }
      },
      "outputs": [
        {
          "output_type": "stream",
          "name": "stderr",
          "text": [
            "Some weights of RobertaForSequenceClassification were not initialized from the model checkpoint at roberta-base and are newly initialized: ['classifier.dense.bias', 'classifier.dense.weight', 'classifier.out_proj.bias', 'classifier.out_proj.weight']\n",
            "You should probably TRAIN this model on a down-stream task to be able to use it for predictions and inference.\n"
          ]
        }
      ],
      "source": [
        "model_combined = AutoModelForSequenceClassification.from_pretrained(\n",
        "    model,\n",
        "    num_labels=2  # We have binary classification: sarcastic (1) or not sarcastic (0)\n",
        ")\n",
        "\n",
        "# Function to compute metrics and heatmap\n",
        "def compute_metrics_combined(pred):\n",
        "    labels = pred.label_ids\n",
        "    preds = pred.predictions.argmax(-1)\n",
        "\n",
        "    #  basic metrics\n",
        "    precision_binary, recall_binary, f1_binary, _ = precision_recall_fscore_support(\n",
        "        labels, preds, average='binary', zero_division=0\n",
        "    )\n",
        "    acc = accuracy_score(labels, preds)\n",
        "\n",
        "    # weighted metrics\n",
        "    precision_weighted, recall_weighted, f1_weighted, _ = precision_recall_fscore_support(\n",
        "        labels, preds, average='weighted', zero_division=0\n",
        "    )\n",
        "\n",
        "    # confusion matrix\n",
        "    cm = confusion_matrix(labels, preds)\n",
        "    plt.figure(figsize=(6,4))\n",
        "    sns.heatmap(cm, annot=True, fmt='d', cmap='Blues', cbar=False,\n",
        "                xticklabels=['Not Sarcastic', 'Sarcastic'],\n",
        "                yticklabels=['Not Sarcastic', 'Sarcastic'])\n",
        "    plt.xlabel('Predicted')\n",
        "    plt.ylabel('Actual')\n",
        "    plt.title('Confusion Matrix (Combined Dataset Validation)')\n",
        "    plt.show()\n",
        "\n",
        "    return {\n",
        "        'accuracy': acc,\n",
        "        'f1_binary': f1_binary,\n",
        "        'precision_binary': precision_binary,\n",
        "        'recall_binary': recall_binary,\n",
        "        'f1_weighted': f1_weighted,\n",
        "        'precision_weighted': precision_weighted,\n",
        "        'recall_weighted': recall_weighted,\n",
        "    }"
      ]
    },
    {
      "cell_type": "code",
      "execution_count": 56,
      "id": "ff9d175b-37f8-45b0-aa74-6be62f92a215",
      "metadata": {
        "id": "ff9d175b-37f8-45b0-aa74-6be62f92a215"
      },
      "outputs": [],
      "source": [
        "# Training Params\n",
        "training_args_combined = TrainingArguments(\n",
        "    output_dir=path+'/results_combined',          # Directory to save model checkpoints and final model\n",
        "    num_train_epochs=10,\n",
        "    per_device_train_batch_size=16,\n",
        "    per_device_eval_batch_size=32,\n",
        "    learning_rate=2e-5,\n",
        "    warmup_steps=100,\n",
        "    weight_decay=0.01,\n",
        "\n",
        "\n",
        "    logging_strategy=\"epoch\",\n",
        "    report_to=\"none\",\n",
        "\n",
        "    # Evaluation\n",
        "    eval_strategy=\"epoch\",\n",
        "    save_strategy=\"epoch\",\n",
        "    load_best_model_at_end=True,\n",
        "    metric_for_best_model=\"loss\",      # Metric to determine the best model\n",
        "    greater_is_better=False,\n",
        "    fp16=torch.cuda.is_available(),           # Use mixed precision training if a GPU is available\n",
        "    save_total_limit=2,                        # Only keep the last 2 checkpoints + the best one\n",
        "    dataloader_num_workers=8\n",
        ")"
      ]
    },
    {
      "cell_type": "code",
      "execution_count": 57,
      "id": "baca5473-ff17-46a5-a9bc-a72fbb8dc218",
      "metadata": {
        "id": "baca5473-ff17-46a5-a9bc-a72fbb8dc218"
      },
      "outputs": [],
      "source": [
        "# Initializing the Trainer\n",
        "trainer_combined = Trainer(\n",
        "        model=model_combined,\n",
        "        args=training_args_combined,\n",
        "        train_dataset=train_dataset_combined,\n",
        "        eval_dataset=val_dataset_combined,\n",
        "        compute_metrics=compute_metrics_combined,\n",
        "        callbacks=[EarlyStoppingCallback(early_stopping_patience=2)],\n",
        "    )"
      ]
    },
    {
      "cell_type": "code",
      "execution_count": 58,
      "id": "3e1fbddb-8176-4894-bb5e-185d3a6544b4",
      "metadata": {
        "id": "3e1fbddb-8176-4894-bb5e-185d3a6544b4",
        "outputId": "c83b272b-e1ee-4fff-aada-bffea6e02c5b",
        "colab": {
          "base_uri": "https://localhost:8080/",
          "height": 1000
        }
      },
      "outputs": [
        {
          "output_type": "stream",
          "name": "stderr",
          "text": [
            "/usr/local/lib/python3.11/dist-packages/torch/utils/data/dataloader.py:624: UserWarning: This DataLoader will create 8 worker processes in total. Our suggested max number of worker in current system is 2, which is smaller than what this DataLoader is going to create. Please be aware that excessive worker creation might get DataLoader running slow or even freeze, lower the worker number to avoid potential slowness/freeze if necessary.\n",
            "  warnings.warn(\n"
          ]
        },
        {
          "output_type": "display_data",
          "data": {
            "text/plain": [
              "<IPython.core.display.HTML object>"
            ],
            "text/html": [
              "\n",
              "    <div>\n",
              "      \n",
              "      <progress value='1749' max='5830' style='width:300px; height:20px; vertical-align: middle;'></progress>\n",
              "      [1749/5830 04:49 < 11:15, 6.04 it/s, Epoch 3/10]\n",
              "    </div>\n",
              "    <table border=\"1\" class=\"dataframe\">\n",
              "  <thead>\n",
              " <tr style=\"text-align: left;\">\n",
              "      <th>Epoch</th>\n",
              "      <th>Training Loss</th>\n",
              "      <th>Validation Loss</th>\n",
              "      <th>Accuracy</th>\n",
              "      <th>F1 Binary</th>\n",
              "      <th>Precision Binary</th>\n",
              "      <th>Recall Binary</th>\n",
              "      <th>F1 Weighted</th>\n",
              "      <th>Precision Weighted</th>\n",
              "      <th>Recall Weighted</th>\n",
              "    </tr>\n",
              "  </thead>\n",
              "  <tbody>\n",
              "    <tr>\n",
              "      <td>1</td>\n",
              "      <td>0.547600</td>\n",
              "      <td>0.471183</td>\n",
              "      <td>0.777913</td>\n",
              "      <td>0.700491</td>\n",
              "      <td>0.810606</td>\n",
              "      <td>0.616715</td>\n",
              "      <td>0.771716</td>\n",
              "      <td>0.782758</td>\n",
              "      <td>0.777913</td>\n",
              "    </tr>\n",
              "    <tr>\n",
              "      <td>2</td>\n",
              "      <td>0.394200</td>\n",
              "      <td>0.508126</td>\n",
              "      <td>0.788228</td>\n",
              "      <td>0.697311</td>\n",
              "      <td>0.875817</td>\n",
              "      <td>0.579251</td>\n",
              "      <td>0.778258</td>\n",
              "      <td>0.805540</td>\n",
              "      <td>0.788228</td>\n",
              "    </tr>\n",
              "    <tr>\n",
              "      <td>3</td>\n",
              "      <td>0.278000</td>\n",
              "      <td>0.579635</td>\n",
              "      <td>0.784587</td>\n",
              "      <td>0.724593</td>\n",
              "      <td>0.784874</td>\n",
              "      <td>0.672911</td>\n",
              "      <td>0.781628</td>\n",
              "      <td>0.784614</td>\n",
              "      <td>0.784587</td>\n",
              "    </tr>\n",
              "  </tbody>\n",
              "</table><p>"
            ]
          },
          "metadata": {}
        },
        {
          "output_type": "display_data",
          "data": {
            "text/plain": [
              "<Figure size 600x400 with 1 Axes>"
            ],
            "image/png": "[encoded data removed]"
          },
          "metadata": {}
        },
        {
          "output_type": "stream",
          "name": "stderr",
          "text": [
            "/usr/local/lib/python3.11/dist-packages/torch/utils/data/dataloader.py:624: UserWarning: This DataLoader will create 8 worker processes in total. Our suggested max number of worker in current system is 2, which is smaller than what this DataLoader is going to create. Please be aware that excessive worker creation might get DataLoader running slow or even freeze, lower the worker number to avoid potential slowness/freeze if necessary.\n",
            "  warnings.warn(\n"
          ]
        },
        {
          "output_type": "display_data",
          "data": {
            "text/plain": [
              "<Figure size 600x400 with 1 Axes>"
            ],
            "image/png": "[encoded data removed]"
          },
          "metadata": {}
        },
        {
          "output_type": "stream",
          "name": "stderr",
          "text": [
            "/usr/local/lib/python3.11/dist-packages/torch/utils/data/dataloader.py:624: UserWarning: This DataLoader will create 8 worker processes in total. Our suggested max number of worker in current system is 2, which is smaller than what this DataLoader is going to create. Please be aware that excessive worker creation might get DataLoader running slow or even freeze, lower the worker number to avoid potential slowness/freeze if necessary.\n",
            "  warnings.warn(\n"
          ]
        },
        {
          "output_type": "display_data",
          "data": {
            "text/plain": [
              "<Figure size 600x400 with 1 Axes>"
            ],
            "image/png": "[encoded data removed]"
          },
          "metadata": {}
        },
        {
          "output_type": "stream",
          "name": "stdout",
          "text": [
            "Best model for Combined Dataset saved to /content/drive/MyDrive/nndl/results_combined/best_model_combined\n"
          ]
        }
      ],
      "source": [
        "# Training\n",
        "train_result_combined = trainer_combined.train()\n",
        "trainer_combined.save_model(path+\"/results_combined/best_model_combined\")\n",
        "tokenizer.save_pretrained(path+\"/results_combined/best_model_combined\")\n",
        "print(f\"Best model for Combined Dataset saved to {path}/results_combined/best_model_combined\")"
      ]
    },
    {
      "cell_type": "code",
      "execution_count": 59,
      "id": "0f4a3e1f-c112-4249-aa7b-97bac35d5a6b",
      "metadata": {
        "id": "0f4a3e1f-c112-4249-aa7b-97bac35d5a6b",
        "outputId": "bccf3c7a-5a85-4991-cfd8-d09ecb8e9191",
        "colab": {
          "base_uri": "https://localhost:8080/",
          "height": 482
        }
      },
      "outputs": [
        {
          "output_type": "stream",
          "name": "stdout",
          "text": [
            "Plotting training and validation loss...\n"
          ]
        },
        {
          "output_type": "display_data",
          "data": {
            "text/plain": [
              "<Figure size 1000x500 with 1 Axes>"
            ],
            "image/png": "[encoded data removed]"
          },
          "metadata": {}
        }
      ],
      "source": [
        "print(\"Plotting training and validation loss...\")\n",
        "log_history = trainer_combined.state.log_history\n",
        "\n",
        "training_loss = []\n",
        "validation_loss = []\n",
        "epochs_train = []\n",
        "epochs_val = []\n",
        "\n",
        "for log_entry in log_history:\n",
        "    if 'loss' in log_entry:  # Training log\n",
        "        training_loss.append(log_entry['loss'])\n",
        "        epochs_train.append(log_entry['epoch'])\n",
        "    if 'eval_loss' in log_entry:  # Evaluation log\n",
        "        validation_loss.append(log_entry['eval_loss'])\n",
        "        epochs_val.append(log_entry['epoch'])\n",
        "\n",
        "if not training_loss and not validation_loss:\n",
        "    print(\"No training or validation loss found in log_history. Ensure logging_strategy was not 'no'.\")\n",
        "else:\n",
        "    plt.figure(figsize=(10, 5))\n",
        "    if training_loss:\n",
        "        plt.plot(epochs_train, training_loss, label='Training Loss', marker='o', linestyle='-')\n",
        "    if validation_loss:\n",
        "        plt.plot(epochs_val, validation_loss, label='Validation Loss', marker='x', linestyle='--')\n",
        "\n",
        "    plt.title('Training vs Validation Loss for Combined Dataset')\n",
        "    plt.xlabel('Epoch')\n",
        "    plt.ylabel('Loss')\n",
        "    plt.legend()\n",
        "    plt.grid(True)\n",
        "    plt.xticks([int(e) for e in sorted(list(set(epochs_train + epochs_val))) if e == int(e)])\n",
        "    plt.show()"
      ]
    },
    {
      "cell_type": "code",
      "execution_count": 60,
      "id": "a6ef210a-1a22-4bb4-a960-c458b25b7201",
      "metadata": {
        "id": "a6ef210a-1a22-4bb4-a960-c458b25b7201",
        "outputId": "d9a58d58-676c-49e2-e53e-c671b2a83f11",
        "colab": {
          "base_uri": "https://localhost:8080/",
          "height": 708
        }
      },
      "outputs": [
        {
          "output_type": "stream",
          "name": "stdout",
          "text": [
            "\n",
            "Evaluating the Combined model on the test set...\n"
          ]
        },
        {
          "output_type": "stream",
          "name": "stderr",
          "text": [
            "/usr/local/lib/python3.11/dist-packages/torch/utils/data/dataloader.py:624: UserWarning: This DataLoader will create 8 worker processes in total. Our suggested max number of worker in current system is 2, which is smaller than what this DataLoader is going to create. Please be aware that excessive worker creation might get DataLoader running slow or even freeze, lower the worker number to avoid potential slowness/freeze if necessary.\n",
            "  warnings.warn(\n"
          ]
        },
        {
          "output_type": "display_data",
          "data": {
            "text/plain": [
              "<IPython.core.display.HTML object>"
            ],
            "text/html": []
          },
          "metadata": {}
        },
        {
          "output_type": "display_data",
          "data": {
            "text/plain": [
              "<Figure size 600x400 with 1 Axes>"
            ],
            "image/png": "[encoded data removed]"
          },
          "metadata": {}
        },
        {
          "output_type": "stream",
          "name": "stdout",
          "text": [
            "\n",
            "Test Set Evaluation Metrics for Combined Model:\n",
            "test_accuracy: 0.7858\n",
            "test_f1_binary: 0.6729\n",
            "test_precision_binary: 0.7170\n",
            "test_recall_binary: 0.6339\n",
            "test_f1_weighted: 0.7825\n",
            "test_precision_weighted: 0.7818\n",
            "test_recall_weighted: 0.7858\n",
            "test_runtime: 6.3238\n",
            "test_samples_per_second: 518.3570\n",
            "test_steps_per_second: 16.2880\n"
          ]
        }
      ],
      "source": [
        "print(\"\\nEvaluating the Combined model on the test set...\")\n",
        "# We perform prediction on the test set\n",
        "test_predictions_combined = trainer_combined.predict(test_dataset_combined)\n",
        "print(\"\\nTest Set Evaluation Metrics for Combined Model:\")\n",
        "if test_predictions_combined.metrics:\n",
        "    for key, value in test_predictions_combined.metrics.items():\n",
        "        if 'loss' not in key:\n",
        "             print(f\"{key}: {value:.4f}\")\n",
        "else:\n",
        "    print(\"No metrics returned from predict.\")"
      ]
    }
  ],
  "metadata": {
    "kernelspec": {
      "display_name": "Python 3.9 (benim)",
      "language": "python",
      "name": "py39"
    },
    "language_info": {
      "codemirror_mode": {
        "name": "ipython",
        "version": 3
      },
      "file_extension": ".py",
      "mimetype": "text/x-python",
      "name": "python",
      "nbconvert_exporter": "python",
      "pygments_lexer": "ipython3",
      "version": "3.9.9"
    },
    "colab": {
      "provenance": [],
      "gpuType": "T4"
    },
    "accelerator": "GPU",
    "widgets": {
      "application/vnd.jupyter.widget-state+json": {
        "914eef26beeb4086a84ea78a7dfaceb3": {
          "model_module": "@jupyter-widgets/controls",
          "model_name": "HBoxModel",
          "model_module_version": "1.5.0",
          "state": {
            "_dom_classes": [],
            "_model_module": "@jupyter-widgets/controls",
            "_model_module_version": "1.5.0",
            "_model_name": "HBoxModel",
            "_view_count": null,
            "_view_module": "@jupyter-widgets/controls",
            "_view_module_version": "1.5.0",
            "_view_name": "HBoxView",
            "box_style": "",
            "children": [
              "IPY_MODEL_176ebf77d1b2457aac834fa6072a5fd8",
              "IPY_MODEL_b34bc29f87b44221a6dfbd318b975a97",
              "IPY_MODEL_cc35228502f04f648fdda6fb2dee5237"
            ],
            "layout": "IPY_MODEL_170c9fdc6fdb415abc6b4d99e8aa26f8"
          }
        },
        "176ebf77d1b2457aac834fa6072a5fd8": {
          "model_module": "@jupyter-widgets/controls",
          "model_name": "HTMLModel",
          "model_module_version": "1.5.0",
          "state": {
            "_dom_classes": [],
            "_model_module": "@jupyter-widgets/controls",
            "_model_module_version": "1.5.0",
            "_model_name": "HTMLModel",
            "_view_count": null,
            "_view_module": "@jupyter-widgets/controls",
            "_view_module_version": "1.5.0",
            "_view_name": "HTMLView",
            "description": "",
            "description_tooltip": null,
            "layout": "IPY_MODEL_b461ada2994d40a2b53225ea3b383525",
            "placeholder": "​",
            "style": "IPY_MODEL_6cfd457754964c1bbb25ac6d041f4ca4",
            "value": "tokenizer_config.json: 100%"
          }
        },
        "b34bc29f87b44221a6dfbd318b975a97": {
          "model_module": "@jupyter-widgets/controls",
          "model_name": "FloatProgressModel",
          "model_module_version": "1.5.0",
          "state": {
            "_dom_classes": [],
            "_model_module": "@jupyter-widgets/controls",
            "_model_module_version": "1.5.0",
            "_model_name": "FloatProgressModel",
            "_view_count": null,
            "_view_module": "@jupyter-widgets/controls",
            "_view_module_version": "1.5.0",
            "_view_name": "ProgressView",
            "bar_style": "success",
            "description": "",
            "description_tooltip": null,
            "layout": "IPY_MODEL_5f458b977bd64caa8bbca1df916c8446",
            "max": 25,
            "min": 0,
            "orientation": "horizontal",
            "style": "IPY_MODEL_f71eaae642f64fa8a29a2bf5947a1eec",
            "value": 25
          }
        },
        "cc35228502f04f648fdda6fb2dee5237": {
          "model_module": "@jupyter-widgets/controls",
          "model_name": "HTMLModel",
          "model_module_version": "1.5.0",
          "state": {
            "_dom_classes": [],
            "_model_module": "@jupyter-widgets/controls",
            "_model_module_version": "1.5.0",
            "_model_name": "HTMLModel",
            "_view_count": null,
            "_view_module": "@jupyter-widgets/controls",
            "_view_module_version": "1.5.0",
            "_view_name": "HTMLView",
            "description": "",
            "description_tooltip": null,
            "layout": "IPY_MODEL_66bdf476013d48de949812ac6ba3eda1",
            "placeholder": "​",
            "style": "IPY_MODEL_f312808d1637455c877a185812a92bda",
            "value": " 25.0/25.0 [00:00&lt;00:00, 463B/s]"
          }
        },
        "170c9fdc6fdb415abc6b4d99e8aa26f8": {
          "model_module": "@jupyter-widgets/base",
          "model_name": "LayoutModel",
          "model_module_version": "1.2.0",
          "state": {
            "_model_module": "@jupyter-widgets/base",
            "_model_module_version": "1.2.0",
            "_model_name": "LayoutModel",
            "_view_count": null,
            "_view_module": "@jupyter-widgets/base",
            "_view_module_version": "1.2.0",
            "_view_name": "LayoutView",
            "align_content": null,
            "align_items": null,
            "align_self": null,
            "border": null,
            "bottom": null,
            "display": null,
            "flex": null,
            "flex_flow": null,
            "grid_area": null,
            "grid_auto_columns": null,
            "grid_auto_flow": null,
            "grid_auto_rows": null,
            "grid_column": null,
            "grid_gap": null,
            "grid_row": null,
            "grid_template_areas": null,
            "grid_template_columns": null,
            "grid_template_rows": null,
            "height": null,
            "justify_content": null,
            "justify_items": null,
            "left": null,
            "margin": null,
            "max_height": null,
            "max_width": null,
            "min_height": null,
            "min_width": null,
            "object_fit": null,
            "object_position": null,
            "order": null,
            "overflow": null,
            "overflow_x": null,
            "overflow_y": null,
            "padding": null,
            "right": null,
            "top": null,
            "visibility": null,
            "width": null
          }
        },
        "b461ada2994d40a2b53225ea3b383525": {
          "model_module": "@jupyter-widgets/base",
          "model_name": "LayoutModel",
          "model_module_version": "1.2.0",
          "state": {
            "_model_module": "@jupyter-widgets/base",
            "_model_module_version": "1.2.0",
            "_model_name": "LayoutModel",
            "_view_count": null,
            "_view_module": "@jupyter-widgets/base",
            "_view_module_version": "1.2.0",
            "_view_name": "LayoutView",
            "align_content": null,
            "align_items": null,
            "align_self": null,
            "border": null,
            "bottom": null,
            "display": null,
            "flex": null,
            "flex_flow": null,
            "grid_area": null,
            "grid_auto_columns": null,
            "grid_auto_flow": null,
            "grid_auto_rows": null,
            "grid_column": null,
            "grid_gap": null,
            "grid_row": null,
            "grid_template_areas": null,
            "grid_template_columns": null,
            "grid_template_rows": null,
            "height": null,
            "justify_content": null,
            "justify_items": null,
            "left": null,
            "margin": null,
            "max_height": null,
            "max_width": null,
            "min_height": null,
            "min_width": null,
            "object_fit": null,
            "object_position": null,
            "order": null,
            "overflow": null,
            "overflow_x": null,
            "overflow_y": null,
            "padding": null,
            "right": null,
            "top": null,
            "visibility": null,
            "width": null
          }
        },
        "6cfd457754964c1bbb25ac6d041f4ca4": {
          "model_module": "@jupyter-widgets/controls",
          "model_name": "DescriptionStyleModel",
          "model_module_version": "1.5.0",
          "state": {
            "_model_module": "@jupyter-widgets/controls",
            "_model_module_version": "1.5.0",
            "_model_name": "DescriptionStyleModel",
            "_view_count": null,
            "_view_module": "@jupyter-widgets/base",
            "_view_module_version": "1.2.0",
            "_view_name": "StyleView",
            "description_width": ""
          }
        },
        "5f458b977bd64caa8bbca1df916c8446": {
          "model_module": "@jupyter-widgets/base",
          "model_name": "LayoutModel",
          "model_module_version": "1.2.0",
          "state": {
            "_model_module": "@jupyter-widgets/base",
            "_model_module_version": "1.2.0",
            "_model_name": "LayoutModel",
            "_view_count": null,
            "_view_module": "@jupyter-widgets/base",
            "_view_module_version": "1.2.0",
            "_view_name": "LayoutView",
            "align_content": null,
            "align_items": null,
            "align_self": null,
            "border": null,
            "bottom": null,
            "display": null,
            "flex": null,
            "flex_flow": null,
            "grid_area": null,
            "grid_auto_columns": null,
            "grid_auto_flow": null,
            "grid_auto_rows": null,
            "grid_column": null,
            "grid_gap": null,
            "grid_row": null,
            "grid_template_areas": null,
            "grid_template_columns": null,
            "grid_template_rows": null,
            "height": null,
            "justify_content": null,
            "justify_items": null,
            "left": null,
            "margin": null,
            "max_height": null,
            "max_width": null,
            "min_height": null,
            "min_width": null,
            "object_fit": null,
            "object_position": null,
            "order": null,
            "overflow": null,
            "overflow_x": null,
            "overflow_y": null,
            "padding": null,
            "right": null,
            "top": null,
            "visibility": null,
            "width": null
          }
        },
        "f71eaae642f64fa8a29a2bf5947a1eec": {
          "model_module": "@jupyter-widgets/controls",
          "model_name": "ProgressStyleModel",
          "model_module_version": "1.5.0",
          "state": {
            "_model_module": "@jupyter-widgets/controls",
            "_model_module_version": "1.5.0",
            "_model_name": "ProgressStyleModel",
            "_view_count": null,
            "_view_module": "@jupyter-widgets/base",
            "_view_module_version": "1.2.0",
            "_view_name": "StyleView",
            "bar_color": null,
            "description_width": ""
          }
        },
        "66bdf476013d48de949812ac6ba3eda1": {
          "model_module": "@jupyter-widgets/base",
          "model_name": "LayoutModel",
          "model_module_version": "1.2.0",
          "state": {
            "_model_module": "@jupyter-widgets/base",
            "_model_module_version": "1.2.0",
            "_model_name": "LayoutModel",
            "_view_count": null,
            "_view_module": "@jupyter-widgets/base",
            "_view_module_version": "1.2.0",
            "_view_name": "LayoutView",
            "align_content": null,
            "align_items": null,
            "align_self": null,
            "border": null,
            "bottom": null,
            "display": null,
            "flex": null,
            "flex_flow": null,
            "grid_area": null,
            "grid_auto_columns": null,
            "grid_auto_flow": null,
            "grid_auto_rows": null,
            "grid_column": null,
            "grid_gap": null,
            "grid_row": null,
            "grid_template_areas": null,
            "grid_template_columns": null,
            "grid_template_rows": null,
            "height": null,
            "justify_content": null,
            "justify_items": null,
            "left": null,
            "margin": null,
            "max_height": null,
            "max_width": null,
            "min_height": null,
            "min_width": null,
            "object_fit": null,
            "object_position": null,
            "order": null,
            "overflow": null,
            "overflow_x": null,
            "overflow_y": null,
            "padding": null,
            "right": null,
            "top": null,
            "visibility": null,
            "width": null
          }
        },
        "f312808d1637455c877a185812a92bda": {
          "model_module": "@jupyter-widgets/controls",
          "model_name": "DescriptionStyleModel",
          "model_module_version": "1.5.0",
          "state": {
            "_model_module": "@jupyter-widgets/controls",
            "_model_module_version": "1.5.0",
            "_model_name": "DescriptionStyleModel",
            "_view_count": null,
            "_view_module": "@jupyter-widgets/base",
            "_view_module_version": "1.2.0",
            "_view_name": "StyleView",
            "description_width": ""
          }
        },
        "ce819740a01f472e84c3807eda053cf9": {
          "model_module": "@jupyter-widgets/controls",
          "model_name": "HBoxModel",
          "model_module_version": "1.5.0",
          "state": {
            "_dom_classes": [],
            "_model_module": "@jupyter-widgets/controls",
            "_model_module_version": "1.5.0",
            "_model_name": "HBoxModel",
            "_view_count": null,
            "_view_module": "@jupyter-widgets/controls",
            "_view_module_version": "1.5.0",
            "_view_name": "HBoxView",
            "box_style": "",
            "children": [
              "IPY_MODEL_cb872a5b5c3f4efc9136620fac91a395",
              "IPY_MODEL_530ad9cf769b44579be0d599aa2f8cec",
              "IPY_MODEL_6522e5c0e90c476b9b1b0ffc73aba04a"
            ],
            "layout": "IPY_MODEL_fbc9b16e313c44ddbed5044ee5b62295"
          }
        },
        "cb872a5b5c3f4efc9136620fac91a395": {
          "model_module": "@jupyter-widgets/controls",
          "model_name": "HTMLModel",
          "model_module_version": "1.5.0",
          "state": {
            "_dom_classes": [],
            "_model_module": "@jupyter-widgets/controls",
            "_model_module_version": "1.5.0",
            "_model_name": "HTMLModel",
            "_view_count": null,
            "_view_module": "@jupyter-widgets/controls",
            "_view_module_version": "1.5.0",
            "_view_name": "HTMLView",
            "description": "",
            "description_tooltip": null,
            "layout": "IPY_MODEL_b3cb2af74ba944f98fd0612e97cb0cbf",
            "placeholder": "​",
            "style": "IPY_MODEL_18f36d48c67d4f7fae831d9a0e2968d2",
            "value": "config.json: 100%"
          }
        },
        "530ad9cf769b44579be0d599aa2f8cec": {
          "model_module": "@jupyter-widgets/controls",
          "model_name": "FloatProgressModel",
          "model_module_version": "1.5.0",
          "state": {
            "_dom_classes": [],
            "_model_module": "@jupyter-widgets/controls",
            "_model_module_version": "1.5.0",
            "_model_name": "FloatProgressModel",
            "_view_count": null,
            "_view_module": "@jupyter-widgets/controls",
            "_view_module_version": "1.5.0",
            "_view_name": "ProgressView",
            "bar_style": "success",
            "description": "",
            "description_tooltip": null,
            "layout": "IPY_MODEL_2b6f84ef325f4467b015d3b7b9f22f79",
            "max": 481,
            "min": 0,
            "orientation": "horizontal",
            "style": "IPY_MODEL_a578a5822cf740838eba83e69e8f96de",
            "value": 481
          }
        },
        "6522e5c0e90c476b9b1b0ffc73aba04a": {
          "model_module": "@jupyter-widgets/controls",
          "model_name": "HTMLModel",
          "model_module_version": "1.5.0",
          "state": {
            "_dom_classes": [],
            "_model_module": "@jupyter-widgets/controls",
            "_model_module_version": "1.5.0",
            "_model_name": "HTMLModel",
            "_view_count": null,
            "_view_module": "@jupyter-widgets/controls",
            "_view_module_version": "1.5.0",
            "_view_name": "HTMLView",
            "description": "",
            "description_tooltip": null,
            "layout": "IPY_MODEL_b15aab67cefc4d3382b4777591f7eafa",
            "placeholder": "​",
            "style": "IPY_MODEL_700eb7bce6394531951d8f7504f1fb37",
            "value": " 481/481 [00:00&lt;00:00, 4.71kB/s]"
          }
        },
        "fbc9b16e313c44ddbed5044ee5b62295": {
          "model_module": "@jupyter-widgets/base",
          "model_name": "LayoutModel",
          "model_module_version": "1.2.0",
          "state": {
            "_model_module": "@jupyter-widgets/base",
            "_model_module_version": "1.2.0",
            "_model_name": "LayoutModel",
            "_view_count": null,
            "_view_module": "@jupyter-widgets/base",
            "_view_module_version": "1.2.0",
            "_view_name": "LayoutView",
            "align_content": null,
            "align_items": null,
            "align_self": null,
            "border": null,
            "bottom": null,
            "display": null,
            "flex": null,
            "flex_flow": null,
            "grid_area": null,
            "grid_auto_columns": null,
            "grid_auto_flow": null,
            "grid_auto_rows": null,
            "grid_column": null,
            "grid_gap": null,
            "grid_row": null,
            "grid_template_areas": null,
            "grid_template_columns": null,
            "grid_template_rows": null,
            "height": null,
            "justify_content": null,
            "justify_items": null,
            "left": null,
            "margin": null,
            "max_height": null,
            "max_width": null,
            "min_height": null,
            "min_width": null,
            "object_fit": null,
            "object_position": null,
            "order": null,
            "overflow": null,
            "overflow_x": null,
            "overflow_y": null,
            "padding": null,
            "right": null,
            "top": null,
            "visibility": null,
            "width": null
          }
        },
        "b3cb2af74ba944f98fd0612e97cb0cbf": {
          "model_module": "@jupyter-widgets/base",
          "model_name": "LayoutModel",
          "model_module_version": "1.2.0",
          "state": {
            "_model_module": "@jupyter-widgets/base",
            "_model_module_version": "1.2.0",
            "_model_name": "LayoutModel",
            "_view_count": null,
            "_view_module": "@jupyter-widgets/base",
            "_view_module_version": "1.2.0",
            "_view_name": "LayoutView",
            "align_content": null,
            "align_items": null,
            "align_self": null,
            "border": null,
            "bottom": null,
            "display": null,
            "flex": null,
            "flex_flow": null,
            "grid_area": null,
            "grid_auto_columns": null,
            "grid_auto_flow": null,
            "grid_auto_rows": null,
            "grid_column": null,
            "grid_gap": null,
            "grid_row": null,
            "grid_template_areas": null,
            "grid_template_columns": null,
            "grid_template_rows": null,
            "height": null,
            "justify_content": null,
            "justify_items": null,
            "left": null,
            "margin": null,
            "max_height": null,
            "max_width": null,
            "min_height": null,
            "min_width": null,
            "object_fit": null,
            "object_position": null,
            "order": null,
            "overflow": null,
            "overflow_x": null,
            "overflow_y": null,
            "padding": null,
            "right": null,
            "top": null,
            "visibility": null,
            "width": null
          }
        },
        "18f36d48c67d4f7fae831d9a0e2968d2": {
          "model_module": "@jupyter-widgets/controls",
          "model_name": "DescriptionStyleModel",
          "model_module_version": "1.5.0",
          "state": {
            "_model_module": "@jupyter-widgets/controls",
            "_model_module_version": "1.5.0",
            "_model_name": "DescriptionStyleModel",
            "_view_count": null,
            "_view_module": "@jupyter-widgets/base",
            "_view_module_version": "1.2.0",
            "_view_name": "StyleView",
            "description_width": ""
          }
        },
        "2b6f84ef325f4467b015d3b7b9f22f79": {
          "model_module": "@jupyter-widgets/base",
          "model_name": "LayoutModel",
          "model_module_version": "1.2.0",
          "state": {
            "_model_module": "@jupyter-widgets/base",
            "_model_module_version": "1.2.0",
            "_model_name": "LayoutModel",
            "_view_count": null,
            "_view_module": "@jupyter-widgets/base",
            "_view_module_version": "1.2.0",
            "_view_name": "LayoutView",
            "align_content": null,
            "align_items": null,
            "align_self": null,
            "border": null,
            "bottom": null,
            "display": null,
            "flex": null,
            "flex_flow": null,
            "grid_area": null,
            "grid_auto_columns": null,
            "grid_auto_flow": null,
            "grid_auto_rows": null,
            "grid_column": null,
            "grid_gap": null,
            "grid_row": null,
            "grid_template_areas": null,
            "grid_template_columns": null,
            "grid_template_rows": null,
            "height": null,
            "justify_content": null,
            "justify_items": null,
            "left": null,
            "margin": null,
            "max_height": null,
            "max_width": null,
            "min_height": null,
            "min_width": null,
            "object_fit": null,
            "object_position": null,
            "order": null,
            "overflow": null,
            "overflow_x": null,
            "overflow_y": null,
            "padding": null,
            "right": null,
            "top": null,
            "visibility": null,
            "width": null
          }
        },
        "a578a5822cf740838eba83e69e8f96de": {
          "model_module": "@jupyter-widgets/controls",
          "model_name": "ProgressStyleModel",
          "model_module_version": "1.5.0",
          "state": {
            "_model_module": "@jupyter-widgets/controls",
            "_model_module_version": "1.5.0",
            "_model_name": "ProgressStyleModel",
            "_view_count": null,
            "_view_module": "@jupyter-widgets/base",
            "_view_module_version": "1.2.0",
            "_view_name": "StyleView",
            "bar_color": null,
            "description_width": ""
          }
        },
        "b15aab67cefc4d3382b4777591f7eafa": {
          "model_module": "@jupyter-widgets/base",
          "model_name": "LayoutModel",
          "model_module_version": "1.2.0",
          "state": {
            "_model_module": "@jupyter-widgets/base",
            "_model_module_version": "1.2.0",
            "_model_name": "LayoutModel",
            "_view_count": null,
            "_view_module": "@jupyter-widgets/base",
            "_view_module_version": "1.2.0",
            "_view_name": "LayoutView",
            "align_content": null,
            "align_items": null,
            "align_self": null,
            "border": null,
            "bottom": null,
            "display": null,
            "flex": null,
            "flex_flow": null,
            "grid_area": null,
            "grid_auto_columns": null,
            "grid_auto_flow": null,
            "grid_auto_rows": null,
            "grid_column": null,
            "grid_gap": null,
            "grid_row": null,
            "grid_template_areas": null,
            "grid_template_columns": null,
            "grid_template_rows": null,
            "height": null,
            "justify_content": null,
            "justify_items": null,
            "left": null,
            "margin": null,
            "max_height": null,
            "max_width": null,
            "min_height": null,
            "min_width": null,
            "object_fit": null,
            "object_position": null,
            "order": null,
            "overflow": null,
            "overflow_x": null,
            "overflow_y": null,
            "padding": null,
            "right": null,
            "top": null,
            "visibility": null,
            "width": null
          }
        },
        "700eb7bce6394531951d8f7504f1fb37": {
          "model_module": "@jupyter-widgets/controls",
          "model_name": "DescriptionStyleModel",
          "model_module_version": "1.5.0",
          "state": {
            "_model_module": "@jupyter-widgets/controls",
            "_model_module_version": "1.5.0",
            "_model_name": "DescriptionStyleModel",
            "_view_count": null,
            "_view_module": "@jupyter-widgets/base",
            "_view_module_version": "1.2.0",
            "_view_name": "StyleView",
            "description_width": ""
          }
        },
        "360d204ecaea4bf3ad83dcc9f97f414b": {
          "model_module": "@jupyter-widgets/controls",
          "model_name": "HBoxModel",
          "model_module_version": "1.5.0",
          "state": {
            "_dom_classes": [],
            "_model_module": "@jupyter-widgets/controls",
            "_model_module_version": "1.5.0",
            "_model_name": "HBoxModel",
            "_view_count": null,
            "_view_module": "@jupyter-widgets/controls",
            "_view_module_version": "1.5.0",
            "_view_name": "HBoxView",
            "box_style": "",
            "children": [
              "IPY_MODEL_4c1ea283f6514342b12238aa537fa5b0",
              "IPY_MODEL_e34462a2d1ca4c269d916d53a544760f",
              "IPY_MODEL_33c1b94faef54c62869abb5e1bd73328"
            ],
            "layout": "IPY_MODEL_d8322550e85c48cc9cecf9c62a18d01f"
          }
        },
        "4c1ea283f6514342b12238aa537fa5b0": {
          "model_module": "@jupyter-widgets/controls",
          "model_name": "HTMLModel",
          "model_module_version": "1.5.0",
          "state": {
            "_dom_classes": [],
            "_model_module": "@jupyter-widgets/controls",
            "_model_module_version": "1.5.0",
            "_model_name": "HTMLModel",
            "_view_count": null,
            "_view_module": "@jupyter-widgets/controls",
            "_view_module_version": "1.5.0",
            "_view_name": "HTMLView",
            "description": "",
            "description_tooltip": null,
            "layout": "IPY_MODEL_be8ea82cbf8541558fd1107fe63365e0",
            "placeholder": "​",
            "style": "IPY_MODEL_5090c8366b174495b6aa9b484b952b00",
            "value": "vocab.json: 100%"
          }
        },
        "e34462a2d1ca4c269d916d53a544760f": {
          "model_module": "@jupyter-widgets/controls",
          "model_name": "FloatProgressModel",
          "model_module_version": "1.5.0",
          "state": {
            "_dom_classes": [],
            "_model_module": "@jupyter-widgets/controls",
            "_model_module_version": "1.5.0",
            "_model_name": "FloatProgressModel",
            "_view_count": null,
            "_view_module": "@jupyter-widgets/controls",
            "_view_module_version": "1.5.0",
            "_view_name": "ProgressView",
            "bar_style": "success",
            "description": "",
            "description_tooltip": null,
            "layout": "IPY_MODEL_59dbb040fcc542d9bd0a4aff68721192",
            "max": 898823,
            "min": 0,
            "orientation": "horizontal",
            "style": "IPY_MODEL_4f92db0343c0423ca0984c40008cbbd8",
            "value": 898823
          }
        },
        "33c1b94faef54c62869abb5e1bd73328": {
          "model_module": "@jupyter-widgets/controls",
          "model_name": "HTMLModel",
          "model_module_version": "1.5.0",
          "state": {
            "_dom_classes": [],
            "_model_module": "@jupyter-widgets/controls",
            "_model_module_version": "1.5.0",
            "_model_name": "HTMLModel",
            "_view_count": null,
            "_view_module": "@jupyter-widgets/controls",
            "_view_module_version": "1.5.0",
            "_view_name": "HTMLView",
            "description": "",
            "description_tooltip": null,
            "layout": "IPY_MODEL_c8dcac1f128a495788a6e9d2b69df872",
            "placeholder": "​",
            "style": "IPY_MODEL_90f8f91b272c433bad5ef146146bf217",
            "value": " 899k/899k [00:00&lt;00:00, 5.35MB/s]"
          }
        },
        "d8322550e85c48cc9cecf9c62a18d01f": {
          "model_module": "@jupyter-widgets/base",
          "model_name": "LayoutModel",
          "model_module_version": "1.2.0",
          "state": {
            "_model_module": "@jupyter-widgets/base",
            "_model_module_version": "1.2.0",
            "_model_name": "LayoutModel",
            "_view_count": null,
            "_view_module": "@jupyter-widgets/base",
            "_view_module_version": "1.2.0",
            "_view_name": "LayoutView",
            "align_content": null,
            "align_items": null,
            "align_self": null,
            "border": null,
            "bottom": null,
            "display": null,
            "flex": null,
            "flex_flow": null,
            "grid_area": null,
            "grid_auto_columns": null,
            "grid_auto_flow": null,
            "grid_auto_rows": null,
            "grid_column": null,
            "grid_gap": null,
            "grid_row": null,
            "grid_template_areas": null,
            "grid_template_columns": null,
            "grid_template_rows": null,
            "height": null,
            "justify_content": null,
            "justify_items": null,
            "left": null,
            "margin": null,
            "max_height": null,
            "max_width": null,
            "min_height": null,
            "min_width": null,
            "object_fit": null,
            "object_position": null,
            "order": null,
            "overflow": null,
            "overflow_x": null,
            "overflow_y": null,
            "padding": null,
            "right": null,
            "top": null,
            "visibility": null,
            "width": null
          }
        },
        "be8ea82cbf8541558fd1107fe63365e0": {
          "model_module": "@jupyter-widgets/base",
          "model_name": "LayoutModel",
          "model_module_version": "1.2.0",
          "state": {
            "_model_module": "@jupyter-widgets/base",
            "_model_module_version": "1.2.0",
            "_model_name": "LayoutModel",
            "_view_count": null,
            "_view_module": "@jupyter-widgets/base",
            "_view_module_version": "1.2.0",
            "_view_name": "LayoutView",
            "align_content": null,
            "align_items": null,
            "align_self": null,
            "border": null,
            "bottom": null,
            "display": null,
            "flex": null,
            "flex_flow": null,
            "grid_area": null,
            "grid_auto_columns": null,
            "grid_auto_flow": null,
            "grid_auto_rows": null,
            "grid_column": null,
            "grid_gap": null,
            "grid_row": null,
            "grid_template_areas": null,
            "grid_template_columns": null,
            "grid_template_rows": null,
            "height": null,
            "justify_content": null,
            "justify_items": null,
            "left": null,
            "margin": null,
            "max_height": null,
            "max_width": null,
            "min_height": null,
            "min_width": null,
            "object_fit": null,
            "object_position": null,
            "order": null,
            "overflow": null,
            "overflow_x": null,
            "overflow_y": null,
            "padding": null,
            "right": null,
            "top": null,
            "visibility": null,
            "width": null
          }
        },
        "5090c8366b174495b6aa9b484b952b00": {
          "model_module": "@jupyter-widgets/controls",
          "model_name": "DescriptionStyleModel",
          "model_module_version": "1.5.0",
          "state": {
            "_model_module": "@jupyter-widgets/controls",
            "_model_module_version": "1.5.0",
            "_model_name": "DescriptionStyleModel",
            "_view_count": null,
            "_view_module": "@jupyter-widgets/base",
            "_view_module_version": "1.2.0",
            "_view_name": "StyleView",
            "description_width": ""
          }
        },
        "59dbb040fcc542d9bd0a4aff68721192": {
          "model_module": "@jupyter-widgets/base",
          "model_name": "LayoutModel",
          "model_module_version": "1.2.0",
          "state": {
            "_model_module": "@jupyter-widgets/base",
            "_model_module_version": "1.2.0",
            "_model_name": "LayoutModel",
            "_view_count": null,
            "_view_module": "@jupyter-widgets/base",
            "_view_module_version": "1.2.0",
            "_view_name": "LayoutView",
            "align_content": null,
            "align_items": null,
            "align_self": null,
            "border": null,
            "bottom": null,
            "display": null,
            "flex": null,
            "flex_flow": null,
            "grid_area": null,
            "grid_auto_columns": null,
            "grid_auto_flow": null,
            "grid_auto_rows": null,
            "grid_column": null,
            "grid_gap": null,
            "grid_row": null,
            "grid_template_areas": null,
            "grid_template_columns": null,
            "grid_template_rows": null,
            "height": null,
            "justify_content": null,
            "justify_items": null,
            "left": null,
            "margin": null,
            "max_height": null,
            "max_width": null,
            "min_height": null,
            "min_width": null,
            "object_fit": null,
            "object_position": null,
            "order": null,
            "overflow": null,
            "overflow_x": null,
            "overflow_y": null,
            "padding": null,
            "right": null,
            "top": null,
            "visibility": null,
            "width": null
          }
        },
        "4f92db0343c0423ca0984c40008cbbd8": {
          "model_module": "@jupyter-widgets/controls",
          "model_name": "ProgressStyleModel",
          "model_module_version": "1.5.0",
          "state": {
            "_model_module": "@jupyter-widgets/controls",
            "_model_module_version": "1.5.0",
            "_model_name": "ProgressStyleModel",
            "_view_count": null,
            "_view_module": "@jupyter-widgets/base",
            "_view_module_version": "1.2.0",
            "_view_name": "StyleView",
            "bar_color": null,
            "description_width": ""
          }
        },
        "c8dcac1f128a495788a6e9d2b69df872": {
          "model_module": "@jupyter-widgets/base",
          "model_name": "LayoutModel",
          "model_module_version": "1.2.0",
          "state": {
            "_model_module": "@jupyter-widgets/base",
            "_model_module_version": "1.2.0",
            "_model_name": "LayoutModel",
            "_view_count": null,
            "_view_module": "@jupyter-widgets/base",
            "_view_module_version": "1.2.0",
            "_view_name": "LayoutView",
            "align_content": null,
            "align_items": null,
            "align_self": null,
            "border": null,
            "bottom": null,
            "display": null,
            "flex": null,
            "flex_flow": null,
            "grid_area": null,
            "grid_auto_columns": null,
            "grid_auto_flow": null,
            "grid_auto_rows": null,
            "grid_column": null,
            "grid_gap": null,
            "grid_row": null,
            "grid_template_areas": null,
            "grid_template_columns": null,
            "grid_template_rows": null,
            "height": null,
            "justify_content": null,
            "justify_items": null,
            "left": null,
            "margin": null,
            "max_height": null,
            "max_width": null,
            "min_height": null,
            "min_width": null,
            "object_fit": null,
            "object_position": null,
            "order": null,
            "overflow": null,
            "overflow_x": null,
            "overflow_y": null,
            "padding": null,
            "right": null,
            "top": null,
            "visibility": null,
            "width": null
          }
        },
        "90f8f91b272c433bad5ef146146bf217": {
          "model_module": "@jupyter-widgets/controls",
          "model_name": "DescriptionStyleModel",
          "model_module_version": "1.5.0",
          "state": {
            "_model_module": "@jupyter-widgets/controls",
            "_model_module_version": "1.5.0",
            "_model_name": "DescriptionStyleModel",
            "_view_count": null,
            "_view_module": "@jupyter-widgets/base",
            "_view_module_version": "1.2.0",
            "_view_name": "StyleView",
            "description_width": ""
          }
        },
        "cd79fa7304e4457984c94fafd6538c0b": {
          "model_module": "@jupyter-widgets/controls",
          "model_name": "HBoxModel",
          "model_module_version": "1.5.0",
          "state": {
            "_dom_classes": [],
            "_model_module": "@jupyter-widgets/controls",
            "_model_module_version": "1.5.0",
            "_model_name": "HBoxModel",
            "_view_count": null,
            "_view_module": "@jupyter-widgets/controls",
            "_view_module_version": "1.5.0",
            "_view_name": "HBoxView",
            "box_style": "",
            "children": [
              "IPY_MODEL_2582b187a8d945a6a1713173b9815ba1",
              "IPY_MODEL_3065f28edb9d4dbf8e499c2bacff2286",
              "IPY_MODEL_b94239605499454ea8986268f0496f04"
            ],
            "layout": "IPY_MODEL_de099221164045709f857dfe473fc5af"
          }
        },
        "2582b187a8d945a6a1713173b9815ba1": {
          "model_module": "@jupyter-widgets/controls",
          "model_name": "HTMLModel",
          "model_module_version": "1.5.0",
          "state": {
            "_dom_classes": [],
            "_model_module": "@jupyter-widgets/controls",
            "_model_module_version": "1.5.0",
            "_model_name": "HTMLModel",
            "_view_count": null,
            "_view_module": "@jupyter-widgets/controls",
            "_view_module_version": "1.5.0",
            "_view_name": "HTMLView",
            "description": "",
            "description_tooltip": null,
            "layout": "IPY_MODEL_9e1fc3afe28b465a9bafe43dc4f5fe2f",
            "placeholder": "​",
            "style": "IPY_MODEL_1f1d3b46ea38473799c80cbd9cb54b39",
            "value": "merges.txt: 100%"
          }
        },
        "3065f28edb9d4dbf8e499c2bacff2286": {
          "model_module": "@jupyter-widgets/controls",
          "model_name": "FloatProgressModel",
          "model_module_version": "1.5.0",
          "state": {
            "_dom_classes": [],
            "_model_module": "@jupyter-widgets/controls",
            "_model_module_version": "1.5.0",
            "_model_name": "FloatProgressModel",
            "_view_count": null,
            "_view_module": "@jupyter-widgets/controls",
            "_view_module_version": "1.5.0",
            "_view_name": "ProgressView",
            "bar_style": "success",
            "description": "",
            "description_tooltip": null,
            "layout": "IPY_MODEL_b6688f2ff0144f66a68699958441e172",
            "max": 456318,
            "min": 0,
            "orientation": "horizontal",
            "style": "IPY_MODEL_b19fedf9f0a34bb0a253928868c21fc3",
            "value": 456318
          }
        },
        "b94239605499454ea8986268f0496f04": {
          "model_module": "@jupyter-widgets/controls",
          "model_name": "HTMLModel",
          "model_module_version": "1.5.0",
          "state": {
            "_dom_classes": [],
            "_model_module": "@jupyter-widgets/controls",
            "_model_module_version": "1.5.0",
            "_model_name": "HTMLModel",
            "_view_count": null,
            "_view_module": "@jupyter-widgets/controls",
            "_view_module_version": "1.5.0",
            "_view_name": "HTMLView",
            "description": "",
            "description_tooltip": null,
            "layout": "IPY_MODEL_4f9c02141aac40c691f30bbe32fcb99b",
            "placeholder": "​",
            "style": "IPY_MODEL_f9718520b7104e428bf60012464fbf0c",
            "value": " 456k/456k [00:00&lt;00:00, 3.08MB/s]"
          }
        },
        "de099221164045709f857dfe473fc5af": {
          "model_module": "@jupyter-widgets/base",
          "model_name": "LayoutModel",
          "model_module_version": "1.2.0",
          "state": {
            "_model_module": "@jupyter-widgets/base",
            "_model_module_version": "1.2.0",
            "_model_name": "LayoutModel",
            "_view_count": null,
            "_view_module": "@jupyter-widgets/base",
            "_view_module_version": "1.2.0",
            "_view_name": "LayoutView",
            "align_content": null,
            "align_items": null,
            "align_self": null,
            "border": null,
            "bottom": null,
            "display": null,
            "flex": null,
            "flex_flow": null,
            "grid_area": null,
            "grid_auto_columns": null,
            "grid_auto_flow": null,
            "grid_auto_rows": null,
            "grid_column": null,
            "grid_gap": null,
            "grid_row": null,
            "grid_template_areas": null,
            "grid_template_columns": null,
            "grid_template_rows": null,
            "height": null,
            "justify_content": null,
            "justify_items": null,
            "left": null,
            "margin": null,
            "max_height": null,
            "max_width": null,
            "min_height": null,
            "min_width": null,
            "object_fit": null,
            "object_position": null,
            "order": null,
            "overflow": null,
            "overflow_x": null,
            "overflow_y": null,
            "padding": null,
            "right": null,
            "top": null,
            "visibility": null,
            "width": null
          }
        },
        "9e1fc3afe28b465a9bafe43dc4f5fe2f": {
          "model_module": "@jupyter-widgets/base",
          "model_name": "LayoutModel",
          "model_module_version": "1.2.0",
          "state": {
            "_model_module": "@jupyter-widgets/base",
            "_model_module_version": "1.2.0",
            "_model_name": "LayoutModel",
            "_view_count": null,
            "_view_module": "@jupyter-widgets/base",
            "_view_module_version": "1.2.0",
            "_view_name": "LayoutView",
            "align_content": null,
            "align_items": null,
            "align_self": null,
            "border": null,
            "bottom": null,
            "display": null,
            "flex": null,
            "flex_flow": null,
            "grid_area": null,
            "grid_auto_columns": null,
            "grid_auto_flow": null,
            "grid_auto_rows": null,
            "grid_column": null,
            "grid_gap": null,
            "grid_row": null,
            "grid_template_areas": null,
            "grid_template_columns": null,
            "grid_template_rows": null,
            "height": null,
            "justify_content": null,
            "justify_items": null,
            "left": null,
            "margin": null,
            "max_height": null,
            "max_width": null,
            "min_height": null,
            "min_width": null,
            "object_fit": null,
            "object_position": null,
            "order": null,
            "overflow": null,
            "overflow_x": null,
            "overflow_y": null,
            "padding": null,
            "right": null,
            "top": null,
            "visibility": null,
            "width": null
          }
        },
        "1f1d3b46ea38473799c80cbd9cb54b39": {
          "model_module": "@jupyter-widgets/controls",
          "model_name": "DescriptionStyleModel",
          "model_module_version": "1.5.0",
          "state": {
            "_model_module": "@jupyter-widgets/controls",
            "_model_module_version": "1.5.0",
            "_model_name": "DescriptionStyleModel",
            "_view_count": null,
            "_view_module": "@jupyter-widgets/base",
            "_view_module_version": "1.2.0",
            "_view_name": "StyleView",
            "description_width": ""
          }
        },
        "b6688f2ff0144f66a68699958441e172": {
          "model_module": "@jupyter-widgets/base",
          "model_name": "LayoutModel",
          "model_module_version": "1.2.0",
          "state": {
            "_model_module": "@jupyter-widgets/base",
            "_model_module_version": "1.2.0",
            "_model_name": "LayoutModel",
            "_view_count": null,
            "_view_module": "@jupyter-widgets/base",
            "_view_module_version": "1.2.0",
            "_view_name": "LayoutView",
            "align_content": null,
            "align_items": null,
            "align_self": null,
            "border": null,
            "bottom": null,
            "display": null,
            "flex": null,
            "flex_flow": null,
            "grid_area": null,
            "grid_auto_columns": null,
            "grid_auto_flow": null,
            "grid_auto_rows": null,
            "grid_column": null,
            "grid_gap": null,
            "grid_row": null,
            "grid_template_areas": null,
            "grid_template_columns": null,
            "grid_template_rows": null,
            "height": null,
            "justify_content": null,
            "justify_items": null,
            "left": null,
            "margin": null,
            "max_height": null,
            "max_width": null,
            "min_height": null,
            "min_width": null,
            "object_fit": null,
            "object_position": null,
            "order": null,
            "overflow": null,
            "overflow_x": null,
            "overflow_y": null,
            "padding": null,
            "right": null,
            "top": null,
            "visibility": null,
            "width": null
          }
        },
        "b19fedf9f0a34bb0a253928868c21fc3": {
          "model_module": "@jupyter-widgets/controls",
          "model_name": "ProgressStyleModel",
          "model_module_version": "1.5.0",
          "state": {
            "_model_module": "@jupyter-widgets/controls",
            "_model_module_version": "1.5.0",
            "_model_name": "ProgressStyleModel",
            "_view_count": null,
            "_view_module": "@jupyter-widgets/base",
            "_view_module_version": "1.2.0",
            "_view_name": "StyleView",
            "bar_color": null,
            "description_width": ""
          }
        },
        "4f9c02141aac40c691f30bbe32fcb99b": {
          "model_module": "@jupyter-widgets/base",
          "model_name": "LayoutModel",
          "model_module_version": "1.2.0",
          "state": {
            "_model_module": "@jupyter-widgets/base",
            "_model_module_version": "1.2.0",
            "_model_name": "LayoutModel",
            "_view_count": null,
            "_view_module": "@jupyter-widgets/base",
            "_view_module_version": "1.2.0",
            "_view_name": "LayoutView",
            "align_content": null,
            "align_items": null,
            "align_self": null,
            "border": null,
            "bottom": null,
            "display": null,
            "flex": null,
            "flex_flow": null,
            "grid_area": null,
            "grid_auto_columns": null,
            "grid_auto_flow": null,
            "grid_auto_rows": null,
            "grid_column": null,
            "grid_gap": null,
            "grid_row": null,
            "grid_template_areas": null,
            "grid_template_columns": null,
            "grid_template_rows": null,
            "height": null,
            "justify_content": null,
            "justify_items": null,
            "left": null,
            "margin": null,
            "max_height": null,
            "max_width": null,
            "min_height": null,
            "min_width": null,
            "object_fit": null,
            "object_position": null,
            "order": null,
            "overflow": null,
            "overflow_x": null,
            "overflow_y": null,
            "padding": null,
            "right": null,
            "top": null,
            "visibility": null,
            "width": null
          }
        },
        "f9718520b7104e428bf60012464fbf0c": {
          "model_module": "@jupyter-widgets/controls",
          "model_name": "DescriptionStyleModel",
          "model_module_version": "1.5.0",
          "state": {
            "_model_module": "@jupyter-widgets/controls",
            "_model_module_version": "1.5.0",
            "_model_name": "DescriptionStyleModel",
            "_view_count": null,
            "_view_module": "@jupyter-widgets/base",
            "_view_module_version": "1.2.0",
            "_view_name": "StyleView",
            "description_width": ""
          }
        },
        "95218cc1a4714581aeeb10cf1b458dd4": {
          "model_module": "@jupyter-widgets/controls",
          "model_name": "HBoxModel",
          "model_module_version": "1.5.0",
          "state": {
            "_dom_classes": [],
            "_model_module": "@jupyter-widgets/controls",
            "_model_module_version": "1.5.0",
            "_model_name": "HBoxModel",
            "_view_count": null,
            "_view_module": "@jupyter-widgets/controls",
            "_view_module_version": "1.5.0",
            "_view_name": "HBoxView",
            "box_style": "",
            "children": [
              "IPY_MODEL_3cdef531410f4d80bf6fcc8d43383033",
              "IPY_MODEL_c700ca6a5ef248ca98120285314e348f",
              "IPY_MODEL_6cbd17ee6edc4eb9aff9be6fd09f16b1"
            ],
            "layout": "IPY_MODEL_9072d80679114342b90080df6c3c67db"
          }
        },
        "3cdef531410f4d80bf6fcc8d43383033": {
          "model_module": "@jupyter-widgets/controls",
          "model_name": "HTMLModel",
          "model_module_version": "1.5.0",
          "state": {
            "_dom_classes": [],
            "_model_module": "@jupyter-widgets/controls",
            "_model_module_version": "1.5.0",
            "_model_name": "HTMLModel",
            "_view_count": null,
            "_view_module": "@jupyter-widgets/controls",
            "_view_module_version": "1.5.0",
            "_view_name": "HTMLView",
            "description": "",
            "description_tooltip": null,
            "layout": "IPY_MODEL_772cfb731cce42e3a6d3904ca0cf32e3",
            "placeholder": "​",
            "style": "IPY_MODEL_50e2acb630b74cac85053adde79485ed",
            "value": "tokenizer.json: 100%"
          }
        },
        "c700ca6a5ef248ca98120285314e348f": {
          "model_module": "@jupyter-widgets/controls",
          "model_name": "FloatProgressModel",
          "model_module_version": "1.5.0",
          "state": {
            "_dom_classes": [],
            "_model_module": "@jupyter-widgets/controls",
            "_model_module_version": "1.5.0",
            "_model_name": "FloatProgressModel",
            "_view_count": null,
            "_view_module": "@jupyter-widgets/controls",
            "_view_module_version": "1.5.0",
            "_view_name": "ProgressView",
            "bar_style": "success",
            "description": "",
            "description_tooltip": null,
            "layout": "IPY_MODEL_1dd9a7efd0474211b43f436797a31307",
            "max": 1355863,
            "min": 0,
            "orientation": "horizontal",
            "style": "IPY_MODEL_e7c777ad4e654e1d9d17c8fc7d10a32d",
            "value": 1355863
          }
        },
        "6cbd17ee6edc4eb9aff9be6fd09f16b1": {
          "model_module": "@jupyter-widgets/controls",
          "model_name": "HTMLModel",
          "model_module_version": "1.5.0",
          "state": {
            "_dom_classes": [],
            "_model_module": "@jupyter-widgets/controls",
            "_model_module_version": "1.5.0",
            "_model_name": "HTMLModel",
            "_view_count": null,
            "_view_module": "@jupyter-widgets/controls",
            "_view_module_version": "1.5.0",
            "_view_name": "HTMLView",
            "description": "",
            "description_tooltip": null,
            "layout": "IPY_MODEL_5c75211ea57944b7a30c00eef4932c83",
            "placeholder": "​",
            "style": "IPY_MODEL_05cbb311075d4f59a61a11c101e58a0a",
            "value": " 1.36M/1.36M [00:00&lt;00:00, 4.77MB/s]"
          }
        },
        "9072d80679114342b90080df6c3c67db": {
          "model_module": "@jupyter-widgets/base",
          "model_name": "LayoutModel",
          "model_module_version": "1.2.0",
          "state": {
            "_model_module": "@jupyter-widgets/base",
            "_model_module_version": "1.2.0",
            "_model_name": "LayoutModel",
            "_view_count": null,
            "_view_module": "@jupyter-widgets/base",
            "_view_module_version": "1.2.0",
            "_view_name": "LayoutView",
            "align_content": null,
            "align_items": null,
            "align_self": null,
            "border": null,
            "bottom": null,
            "display": null,
            "flex": null,
            "flex_flow": null,
            "grid_area": null,
            "grid_auto_columns": null,
            "grid_auto_flow": null,
            "grid_auto_rows": null,
            "grid_column": null,
            "grid_gap": null,
            "grid_row": null,
            "grid_template_areas": null,
            "grid_template_columns": null,
            "grid_template_rows": null,
            "height": null,
            "justify_content": null,
            "justify_items": null,
            "left": null,
            "margin": null,
            "max_height": null,
            "max_width": null,
            "min_height": null,
            "min_width": null,
            "object_fit": null,
            "object_position": null,
            "order": null,
            "overflow": null,
            "overflow_x": null,
            "overflow_y": null,
            "padding": null,
            "right": null,
            "top": null,
            "visibility": null,
            "width": null
          }
        },
        "772cfb731cce42e3a6d3904ca0cf32e3": {
          "model_module": "@jupyter-widgets/base",
          "model_name": "LayoutModel",
          "model_module_version": "1.2.0",
          "state": {
            "_model_module": "@jupyter-widgets/base",
            "_model_module_version": "1.2.0",
            "_model_name": "LayoutModel",
            "_view_count": null,
            "_view_module": "@jupyter-widgets/base",
            "_view_module_version": "1.2.0",
            "_view_name": "LayoutView",
            "align_content": null,
            "align_items": null,
            "align_self": null,
            "border": null,
            "bottom": null,
            "display": null,
            "flex": null,
            "flex_flow": null,
            "grid_area": null,
            "grid_auto_columns": null,
            "grid_auto_flow": null,
            "grid_auto_rows": null,
            "grid_column": null,
            "grid_gap": null,
            "grid_row": null,
            "grid_template_areas": null,
            "grid_template_columns": null,
            "grid_template_rows": null,
            "height": null,
            "justify_content": null,
            "justify_items": null,
            "left": null,
            "margin": null,
            "max_height": null,
            "max_width": null,
            "min_height": null,
            "min_width": null,
            "object_fit": null,
            "object_position": null,
            "order": null,
            "overflow": null,
            "overflow_x": null,
            "overflow_y": null,
            "padding": null,
            "right": null,
            "top": null,
            "visibility": null,
            "width": null
          }
        },
        "50e2acb630b74cac85053adde79485ed": {
          "model_module": "@jupyter-widgets/controls",
          "model_name": "DescriptionStyleModel",
          "model_module_version": "1.5.0",
          "state": {
            "_model_module": "@jupyter-widgets/controls",
            "_model_module_version": "1.5.0",
            "_model_name": "DescriptionStyleModel",
            "_view_count": null,
            "_view_module": "@jupyter-widgets/base",
            "_view_module_version": "1.2.0",
            "_view_name": "StyleView",
            "description_width": ""
          }
        },
        "1dd9a7efd0474211b43f436797a31307": {
          "model_module": "@jupyter-widgets/base",
          "model_name": "LayoutModel",
          "model_module_version": "1.2.0",
          "state": {
            "_model_module": "@jupyter-widgets/base",
            "_model_module_version": "1.2.0",
            "_model_name": "LayoutModel",
            "_view_count": null,
            "_view_module": "@jupyter-widgets/base",
            "_view_module_version": "1.2.0",
            "_view_name": "LayoutView",
            "align_content": null,
            "align_items": null,
            "align_self": null,
            "border": null,
            "bottom": null,
            "display": null,
            "flex": null,
            "flex_flow": null,
            "grid_area": null,
            "grid_auto_columns": null,
            "grid_auto_flow": null,
            "grid_auto_rows": null,
            "grid_column": null,
            "grid_gap": null,
            "grid_row": null,
            "grid_template_areas": null,
            "grid_template_columns": null,
            "grid_template_rows": null,
            "height": null,
            "justify_content": null,
            "justify_items": null,
            "left": null,
            "margin": null,
            "max_height": null,
            "max_width": null,
            "min_height": null,
            "min_width": null,
            "object_fit": null,
            "object_position": null,
            "order": null,
            "overflow": null,
            "overflow_x": null,
            "overflow_y": null,
            "padding": null,
            "right": null,
            "top": null,
            "visibility": null,
            "width": null
          }
        },
        "e7c777ad4e654e1d9d17c8fc7d10a32d": {
          "model_module": "@jupyter-widgets/controls",
          "model_name": "ProgressStyleModel",
          "model_module_version": "1.5.0",
          "state": {
            "_model_module": "@jupyter-widgets/controls",
            "_model_module_version": "1.5.0",
            "_model_name": "ProgressStyleModel",
            "_view_count": null,
            "_view_module": "@jupyter-widgets/base",
            "_view_module_version": "1.2.0",
            "_view_name": "StyleView",
            "bar_color": null,
            "description_width": ""
          }
        },
        "5c75211ea57944b7a30c00eef4932c83": {
          "model_module": "@jupyter-widgets/base",
          "model_name": "LayoutModel",
          "model_module_version": "1.2.0",
          "state": {
            "_model_module": "@jupyter-widgets/base",
            "_model_module_version": "1.2.0",
            "_model_name": "LayoutModel",
            "_view_count": null,
            "_view_module": "@jupyter-widgets/base",
            "_view_module_version": "1.2.0",
            "_view_name": "LayoutView",
            "align_content": null,
            "align_items": null,
            "align_self": null,
            "border": null,
            "bottom": null,
            "display": null,
            "flex": null,
            "flex_flow": null,
            "grid_area": null,
            "grid_auto_columns": null,
            "grid_auto_flow": null,
            "grid_auto_rows": null,
            "grid_column": null,
            "grid_gap": null,
            "grid_row": null,
            "grid_template_areas": null,
            "grid_template_columns": null,
            "grid_template_rows": null,
            "height": null,
            "justify_content": null,
            "justify_items": null,
            "left": null,
            "margin": null,
            "max_height": null,
            "max_width": null,
            "min_height": null,
            "min_width": null,
            "object_fit": null,
            "object_position": null,
            "order": null,
            "overflow": null,
            "overflow_x": null,
            "overflow_y": null,
            "padding": null,
            "right": null,
            "top": null,
            "visibility": null,
            "width": null
          }
        },
        "05cbb311075d4f59a61a11c101e58a0a": {
          "model_module": "@jupyter-widgets/controls",
          "model_name": "DescriptionStyleModel",
          "model_module_version": "1.5.0",
          "state": {
            "_model_module": "@jupyter-widgets/controls",
            "_model_module_version": "1.5.0",
            "_model_name": "DescriptionStyleModel",
            "_view_count": null,
            "_view_module": "@jupyter-widgets/base",
            "_view_module_version": "1.2.0",
            "_view_name": "StyleView",
            "description_width": ""
          }
        },
        "caca491fb4924c53af27d0e1fe8dc696": {
          "model_module": "@jupyter-widgets/controls",
          "model_name": "HBoxModel",
          "model_module_version": "1.5.0",
          "state": {
            "_dom_classes": [],
            "_model_module": "@jupyter-widgets/controls",
            "_model_module_version": "1.5.0",
            "_model_name": "HBoxModel",
            "_view_count": null,
            "_view_module": "@jupyter-widgets/controls",
            "_view_module_version": "1.5.0",
            "_view_name": "HBoxView",
            "box_style": "",
            "children": [
              "IPY_MODEL_9a6e783d74b44b408eb610b924149bf4",
              "IPY_MODEL_c49ef9dbd04341048265f2fe3585b9aa",
              "IPY_MODEL_6fb0f405ec7f415bbc32db9b93a3c5cf"
            ],
            "layout": "IPY_MODEL_01d09415f46c4703a0827f70abefd087"
          }
        },
        "9a6e783d74b44b408eb610b924149bf4": {
          "model_module": "@jupyter-widgets/controls",
          "model_name": "HTMLModel",
          "model_module_version": "1.5.0",
          "state": {
            "_dom_classes": [],
            "_model_module": "@jupyter-widgets/controls",
            "_model_module_version": "1.5.0",
            "_model_name": "HTMLModel",
            "_view_count": null,
            "_view_module": "@jupyter-widgets/controls",
            "_view_module_version": "1.5.0",
            "_view_name": "HTMLView",
            "description": "",
            "description_tooltip": null,
            "layout": "IPY_MODEL_a0195722e04441c081605b92a175889b",
            "placeholder": "​",
            "style": "IPY_MODEL_d82d2385e28e47d08424e06a27f91701",
            "value": "model.safetensors: 100%"
          }
        },
        "c49ef9dbd04341048265f2fe3585b9aa": {
          "model_module": "@jupyter-widgets/controls",
          "model_name": "FloatProgressModel",
          "model_module_version": "1.5.0",
          "state": {
            "_dom_classes": [],
            "_model_module": "@jupyter-widgets/controls",
            "_model_module_version": "1.5.0",
            "_model_name": "FloatProgressModel",
            "_view_count": null,
            "_view_module": "@jupyter-widgets/controls",
            "_view_module_version": "1.5.0",
            "_view_name": "ProgressView",
            "bar_style": "success",
            "description": "",
            "description_tooltip": null,
            "layout": "IPY_MODEL_253a480699194bc7b65d160bfc9ffd62",
            "max": 498818054,
            "min": 0,
            "orientation": "horizontal",
            "style": "IPY_MODEL_2fa77de5dcf745f0a7120470708f43f8",
            "value": 498818054
          }
        },
        "6fb0f405ec7f415bbc32db9b93a3c5cf": {
          "model_module": "@jupyter-widgets/controls",
          "model_name": "HTMLModel",
          "model_module_version": "1.5.0",
          "state": {
            "_dom_classes": [],
            "_model_module": "@jupyter-widgets/controls",
            "_model_module_version": "1.5.0",
            "_model_name": "HTMLModel",
            "_view_count": null,
            "_view_module": "@jupyter-widgets/controls",
            "_view_module_version": "1.5.0",
            "_view_name": "HTMLView",
            "description": "",
            "description_tooltip": null,
            "layout": "IPY_MODEL_5417425109b44e04843b913a02792084",
            "placeholder": "​",
            "style": "IPY_MODEL_9c5c359be3184094a8812bf29809364b",
            "value": " 499M/499M [00:07&lt;00:00, 135MB/s]"
          }
        },
        "01d09415f46c4703a0827f70abefd087": {
          "model_module": "@jupyter-widgets/base",
          "model_name": "LayoutModel",
          "model_module_version": "1.2.0",
          "state": {
            "_model_module": "@jupyter-widgets/base",
            "_model_module_version": "1.2.0",
            "_model_name": "LayoutModel",
            "_view_count": null,
            "_view_module": "@jupyter-widgets/base",
            "_view_module_version": "1.2.0",
            "_view_name": "LayoutView",
            "align_content": null,
            "align_items": null,
            "align_self": null,
            "border": null,
            "bottom": null,
            "display": null,
            "flex": null,
            "flex_flow": null,
            "grid_area": null,
            "grid_auto_columns": null,
            "grid_auto_flow": null,
            "grid_auto_rows": null,
            "grid_column": null,
            "grid_gap": null,
            "grid_row": null,
            "grid_template_areas": null,
            "grid_template_columns": null,
            "grid_template_rows": null,
            "height": null,
            "justify_content": null,
            "justify_items": null,
            "left": null,
            "margin": null,
            "max_height": null,
            "max_width": null,
            "min_height": null,
            "min_width": null,
            "object_fit": null,
            "object_position": null,
            "order": null,
            "overflow": null,
            "overflow_x": null,
            "overflow_y": null,
            "padding": null,
            "right": null,
            "top": null,
            "visibility": null,
            "width": null
          }
        },
        "a0195722e04441c081605b92a175889b": {
          "model_module": "@jupyter-widgets/base",
          "model_name": "LayoutModel",
          "model_module_version": "1.2.0",
          "state": {
            "_model_module": "@jupyter-widgets/base",
            "_model_module_version": "1.2.0",
            "_model_name": "LayoutModel",
            "_view_count": null,
            "_view_module": "@jupyter-widgets/base",
            "_view_module_version": "1.2.0",
            "_view_name": "LayoutView",
            "align_content": null,
            "align_items": null,
            "align_self": null,
            "border": null,
            "bottom": null,
            "display": null,
            "flex": null,
            "flex_flow": null,
            "grid_area": null,
            "grid_auto_columns": null,
            "grid_auto_flow": null,
            "grid_auto_rows": null,
            "grid_column": null,
            "grid_gap": null,
            "grid_row": null,
            "grid_template_areas": null,
            "grid_template_columns": null,
            "grid_template_rows": null,
            "height": null,
            "justify_content": null,
            "justify_items": null,
            "left": null,
            "margin": null,
            "max_height": null,
            "max_width": null,
            "min_height": null,
            "min_width": null,
            "object_fit": null,
            "object_position": null,
            "order": null,
            "overflow": null,
            "overflow_x": null,
            "overflow_y": null,
            "padding": null,
            "right": null,
            "top": null,
            "visibility": null,
            "width": null
          }
        },
        "d82d2385e28e47d08424e06a27f91701": {
          "model_module": "@jupyter-widgets/controls",
          "model_name": "DescriptionStyleModel",
          "model_module_version": "1.5.0",
          "state": {
            "_model_module": "@jupyter-widgets/controls",
            "_model_module_version": "1.5.0",
            "_model_name": "DescriptionStyleModel",
            "_view_count": null,
            "_view_module": "@jupyter-widgets/base",
            "_view_module_version": "1.2.0",
            "_view_name": "StyleView",
            "description_width": ""
          }
        },
        "253a480699194bc7b65d160bfc9ffd62": {
          "model_module": "@jupyter-widgets/base",
          "model_name": "LayoutModel",
          "model_module_version": "1.2.0",
          "state": {
            "_model_module": "@jupyter-widgets/base",
            "_model_module_version": "1.2.0",
            "_model_name": "LayoutModel",
            "_view_count": null,
            "_view_module": "@jupyter-widgets/base",
            "_view_module_version": "1.2.0",
            "_view_name": "LayoutView",
            "align_content": null,
            "align_items": null,
            "align_self": null,
            "border": null,
            "bottom": null,
            "display": null,
            "flex": null,
            "flex_flow": null,
            "grid_area": null,
            "grid_auto_columns": null,
            "grid_auto_flow": null,
            "grid_auto_rows": null,
            "grid_column": null,
            "grid_gap": null,
            "grid_row": null,
            "grid_template_areas": null,
            "grid_template_columns": null,
            "grid_template_rows": null,
            "height": null,
            "justify_content": null,
            "justify_items": null,
            "left": null,
            "margin": null,
            "max_height": null,
            "max_width": null,
            "min_height": null,
            "min_width": null,
            "object_fit": null,
            "object_position": null,
            "order": null,
            "overflow": null,
            "overflow_x": null,
            "overflow_y": null,
            "padding": null,
            "right": null,
            "top": null,
            "visibility": null,
            "width": null
          }
        },
        "2fa77de5dcf745f0a7120470708f43f8": {
          "model_module": "@jupyter-widgets/controls",
          "model_name": "ProgressStyleModel",
          "model_module_version": "1.5.0",
          "state": {
            "_model_module": "@jupyter-widgets/controls",
            "_model_module_version": "1.5.0",
            "_model_name": "ProgressStyleModel",
            "_view_count": null,
            "_view_module": "@jupyter-widgets/base",
            "_view_module_version": "1.2.0",
            "_view_name": "StyleView",
            "bar_color": null,
            "description_width": ""
          }
        },
        "5417425109b44e04843b913a02792084": {
          "model_module": "@jupyter-widgets/base",
          "model_name": "LayoutModel",
          "model_module_version": "1.2.0",
          "state": {
            "_model_module": "@jupyter-widgets/base",
            "_model_module_version": "1.2.0",
            "_model_name": "LayoutModel",
            "_view_count": null,
            "_view_module": "@jupyter-widgets/base",
            "_view_module_version": "1.2.0",
            "_view_name": "LayoutView",
            "align_content": null,
            "align_items": null,
            "align_self": null,
            "border": null,
            "bottom": null,
            "display": null,
            "flex": null,
            "flex_flow": null,
            "grid_area": null,
            "grid_auto_columns": null,
            "grid_auto_flow": null,
            "grid_auto_rows": null,
            "grid_column": null,
            "grid_gap": null,
            "grid_row": null,
            "grid_template_areas": null,
            "grid_template_columns": null,
            "grid_template_rows": null,
            "height": null,
            "justify_content": null,
            "justify_items": null,
            "left": null,
            "margin": null,
            "max_height": null,
            "max_width": null,
            "min_height": null,
            "min_width": null,
            "object_fit": null,
            "object_position": null,
            "order": null,
            "overflow": null,
            "overflow_x": null,
            "overflow_y": null,
            "padding": null,
            "right": null,
            "top": null,
            "visibility": null,
            "width": null
          }
        },
        "9c5c359be3184094a8812bf29809364b": {
          "model_module": "@jupyter-widgets/controls",
          "model_name": "DescriptionStyleModel",
          "model_module_version": "1.5.0",
          "state": {
            "_model_module": "@jupyter-widgets/controls",
            "_model_module_version": "1.5.0",
            "_model_name": "DescriptionStyleModel",
            "_view_count": null,
            "_view_module": "@jupyter-widgets/base",
            "_view_module_version": "1.2.0",
            "_view_name": "StyleView",
            "description_width": ""
          }
        }
      }
    }
  },
  "nbformat": 4,
  "nbformat_minor": 5
}