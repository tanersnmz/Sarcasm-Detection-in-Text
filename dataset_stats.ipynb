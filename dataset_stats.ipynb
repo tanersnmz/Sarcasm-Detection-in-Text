{
 "cells": [
  {
   "cell_type": "code",
   "execution_count": 1,
   "id": "e6b0d33b-48da-490c-8b7f-be01717935b6",
   "metadata": {},
   "outputs": [],
   "source": [
    "import pandas as pd"
   ]
  },
  {
   "cell_type": "code",
   "execution_count": 2,
   "id": "e22bbd86-c9c3-4dfa-9be9-680dd1e9b630",
   "metadata": {},
   "outputs": [
    {
     "name": "stdout",
     "output_type": "stream",
     "text": [
      "\n",
      "--- iSarcasmEval Dataset Statistics ---\n",
      "           Sarcastic Non Sarcastic Total % Sarcastic % Non Sarcastic\n",
      "Train            780          2341  3121      24.99%          75.01%\n",
      "Validation        87           260   347      25.07%          74.93%\n",
      "Test             200          1200  1400      14.29%          85.71%\n",
      "Total           1067          3801  4868      21.92%          78.08%\n",
      "\n",
      "--- Sarcasm_Corpus_V2 Dataset Statistics ---\n",
      "           Sarcastic Non Sarcastic Total % Sarcastic % Non Sarcastic\n",
      "Train           3377          3378  6755      49.99%          50.01%\n",
      "Validation       376           377   753      49.93%          50.07%\n",
      "Test             940           938  1878      50.05%          49.95%\n",
      "Total           4693          4693  9386      50.00%          50.00%\n",
      "\n",
      "--- Combined Dataset Statistics ---\n",
      "           Sarcastic Non Sarcastic  Total % Sarcastic % Non Sarcastic\n",
      "Train           4157          5719   9876      42.09%          57.91%\n",
      "Validation       463           637   1100      42.09%          57.91%\n",
      "Test            1140          2138   3278      34.78%          65.22%\n",
      "Total           5760          8494  14254      40.41%          59.59%\n"
     ]
    }
   ],
   "source": [
    "datasets = ['iSarcasmEval', 'Sarcasm_Corpus_V2', 'Combined']\n",
    "\n",
    "for dataset in datasets:\n",
    "    # Load datasets\n",
    "    df_train = pd.read_csv(f\"{dataset}/train.csv\")\n",
    "    df_test = pd.read_csv(f\"{dataset}/test.csv\")\n",
    "    df_val = pd.read_csv(f\"{dataset}/val.csv\")  # Corrected this line\n",
    "    df_total = pd.concat([df_train, df_test, df_val])\n",
    "\n",
    "    # Create a helper function to get stats\n",
    "    def get_stats(df):\n",
    "        counts = df['sarcastic'].value_counts().sort_index()\n",
    "        total = counts.sum()\n",
    "        return {\n",
    "            \"Sarcastic\": counts.get(1, 0),\n",
    "            \"Non Sarcastic\": counts.get(0, 0),\n",
    "            \"Total\": total,\n",
    "            \"% Sarcastic\": f\"{(counts.get(1, 0) / total) * 100:.2f}%\" if total else \"0.00%\",\n",
    "            \"% Non Sarcastic\": f\"{(counts.get(0, 0) / total) * 100:.2f}%\" if total else \"0.00%\"\n",
    "        }\n",
    "\n",
    "    # Collect stats\n",
    "    stats = {\n",
    "        \"Train\": get_stats(df_train),\n",
    "        \"Validation\": get_stats(df_val),\n",
    "        \"Test\": get_stats(df_test),\n",
    "        \"Total\": get_stats(df_total)\n",
    "    }\n",
    "\n",
    "    # Convert to DataFrame for better display\n",
    "    stats_df = pd.DataFrame(stats).T  # Transpose for readability\n",
    "    print(f\"\\n--- {dataset} Dataset Statistics ---\")\n",
    "    print(stats_df.to_string())\n"
   ]
  }
 ],
 "metadata": {
  "kernelspec": {
   "display_name": "Python 3 (ipykernel)",
   "language": "python",
   "name": "python3"
  },
  "language_info": {
   "codemirror_mode": {
    "name": "ipython",
    "version": 3
   },
   "file_extension": ".py",
   "mimetype": "text/x-python",
   "name": "python",
   "nbconvert_exporter": "python",
   "pygments_lexer": "ipython3",
   "version": "3.10.5"
  }
 },
 "nbformat": 4,
 "nbformat_minor": 5
}
