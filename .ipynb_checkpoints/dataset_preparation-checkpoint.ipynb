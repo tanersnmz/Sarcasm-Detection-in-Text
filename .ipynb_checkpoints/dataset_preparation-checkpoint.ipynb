{
 "cells": [
  {
   "cell_type": "code",
   "execution_count": 1,
   "id": "7dd9abb9-a935-4e75-9847-d846c7d72601",
   "metadata": {},
   "outputs": [],
   "source": [
    "import pandas as pd\n",
    "from sklearn.model_selection import train_test_split\n",
    "import warnings\n",
    "warnings.filterwarnings(\"ignore\")"
   ]
  },
  {
   "cell_type": "markdown",
   "id": "1dd44338-b976-4391-878b-fc1e41b7cc6f",
   "metadata": {},
   "source": [
    "## iSarcasmEval"
   ]
  },
  {
   "cell_type": "code",
   "execution_count": 2,
   "id": "d309b835-cd28-41b8-a9ad-6c15e6932b42",
   "metadata": {},
   "outputs": [
    {
     "data": {
      "text/html": [
       "<div>\n",
       "<style scoped>\n",
       "    .dataframe tbody tr th:only-of-type {\n",
       "        vertical-align: middle;\n",
       "    }\n",
       "\n",
       "    .dataframe tbody tr th {\n",
       "        vertical-align: top;\n",
       "    }\n",
       "\n",
       "    .dataframe thead th {\n",
       "        text-align: right;\n",
       "    }\n",
       "</style>\n",
       "<table border=\"1\" class=\"dataframe\">\n",
       "  <thead>\n",
       "    <tr style=\"text-align: right;\">\n",
       "      <th></th>\n",
       "      <th>text</th>\n",
       "      <th>sarcastic</th>\n",
       "    </tr>\n",
       "  </thead>\n",
       "  <tbody>\n",
       "    <tr>\n",
       "      <th>0</th>\n",
       "      <td>Size on the the Toulouse team, That pack is mo...</td>\n",
       "      <td>0</td>\n",
       "    </tr>\n",
       "    <tr>\n",
       "      <th>1</th>\n",
       "      <td>Pinball!</td>\n",
       "      <td>0</td>\n",
       "    </tr>\n",
       "    <tr>\n",
       "      <th>2</th>\n",
       "      <td>So the Scottish Government want people to get ...</td>\n",
       "      <td>1</td>\n",
       "    </tr>\n",
       "    <tr>\n",
       "      <th>3</th>\n",
       "      <td>villainous pro tip : change the device name on...</td>\n",
       "      <td>0</td>\n",
       "    </tr>\n",
       "    <tr>\n",
       "      <th>4</th>\n",
       "      <td>I would date any of these men 🥺</td>\n",
       "      <td>0</td>\n",
       "    </tr>\n",
       "  </tbody>\n",
       "</table>\n",
       "</div>"
      ],
      "text/plain": [
       "                                                text  sarcastic\n",
       "0  Size on the the Toulouse team, That pack is mo...          0\n",
       "1                                           Pinball!          0\n",
       "2  So the Scottish Government want people to get ...          1\n",
       "3  villainous pro tip : change the device name on...          0\n",
       "4                    I would date any of these men 🥺          0"
      ]
     },
     "execution_count": 2,
     "metadata": {},
     "output_type": "execute_result"
    }
   ],
   "source": [
    "isarc_test_path = r\"isarcasm-data\\task_A_En_test.csv\"\n",
    "df_isarc_test = pd.read_csv(isarc_test_path)\n",
    "df_isarc_test.head()"
   ]
  },
  {
   "cell_type": "code",
   "execution_count": 3,
   "id": "6c537c70-9bd4-428c-bbeb-16c6d3fd4282",
   "metadata": {},
   "outputs": [],
   "source": [
    "df_isarc_test['sarcastic'] = df_isarc_test['sarcastic'].astype('int')"
   ]
  },
  {
   "cell_type": "code",
   "execution_count": 4,
   "id": "e7cb8e5b-dae2-47e1-a8a9-2c48a473a26c",
   "metadata": {},
   "outputs": [],
   "source": [
    "df_isarc_test.to_csv(r\"iSarcasmEval\\test.csv\", index=False)"
   ]
  },
  {
   "cell_type": "code",
   "execution_count": 5,
   "id": "9d0b540a-e7df-4713-a9f6-edaea76493f6",
   "metadata": {},
   "outputs": [
    {
     "data": {
      "text/html": [
       "<div>\n",
       "<style scoped>\n",
       "    .dataframe tbody tr th:only-of-type {\n",
       "        vertical-align: middle;\n",
       "    }\n",
       "\n",
       "    .dataframe tbody tr th {\n",
       "        vertical-align: top;\n",
       "    }\n",
       "\n",
       "    .dataframe thead th {\n",
       "        text-align: right;\n",
       "    }\n",
       "</style>\n",
       "<table border=\"1\" class=\"dataframe\">\n",
       "  <thead>\n",
       "    <tr style=\"text-align: right;\">\n",
       "      <th></th>\n",
       "      <th>Unnamed: 0</th>\n",
       "      <th>tweet</th>\n",
       "      <th>sarcastic</th>\n",
       "      <th>rephrase</th>\n",
       "      <th>sarcasm</th>\n",
       "      <th>irony</th>\n",
       "      <th>satire</th>\n",
       "      <th>understatement</th>\n",
       "      <th>overstatement</th>\n",
       "      <th>rhetorical_question</th>\n",
       "    </tr>\n",
       "  </thead>\n",
       "  <tbody>\n",
       "    <tr>\n",
       "      <th>0</th>\n",
       "      <td>0</td>\n",
       "      <td>The only thing I got from college is a caffein...</td>\n",
       "      <td>1</td>\n",
       "      <td>College is really difficult, expensive, tiring...</td>\n",
       "      <td>0.0</td>\n",
       "      <td>1.0</td>\n",
       "      <td>0.0</td>\n",
       "      <td>0.0</td>\n",
       "      <td>0.0</td>\n",
       "      <td>0.0</td>\n",
       "    </tr>\n",
       "    <tr>\n",
       "      <th>1</th>\n",
       "      <td>1</td>\n",
       "      <td>I love it when professors draw a big question ...</td>\n",
       "      <td>1</td>\n",
       "      <td>I do not like when professors don’t write out ...</td>\n",
       "      <td>1.0</td>\n",
       "      <td>0.0</td>\n",
       "      <td>0.0</td>\n",
       "      <td>0.0</td>\n",
       "      <td>0.0</td>\n",
       "      <td>0.0</td>\n",
       "    </tr>\n",
       "    <tr>\n",
       "      <th>2</th>\n",
       "      <td>2</td>\n",
       "      <td>Remember the hundred emails from companies whe...</td>\n",
       "      <td>1</td>\n",
       "      <td>I, at the bare minimum, wish companies actuall...</td>\n",
       "      <td>0.0</td>\n",
       "      <td>1.0</td>\n",
       "      <td>0.0</td>\n",
       "      <td>0.0</td>\n",
       "      <td>0.0</td>\n",
       "      <td>0.0</td>\n",
       "    </tr>\n",
       "    <tr>\n",
       "      <th>3</th>\n",
       "      <td>3</td>\n",
       "      <td>Today my pop-pop told me I was not “forced” to...</td>\n",
       "      <td>1</td>\n",
       "      <td>Today my pop-pop told me I was not \"forced\" to...</td>\n",
       "      <td>1.0</td>\n",
       "      <td>0.0</td>\n",
       "      <td>0.0</td>\n",
       "      <td>0.0</td>\n",
       "      <td>0.0</td>\n",
       "      <td>0.0</td>\n",
       "    </tr>\n",
       "    <tr>\n",
       "      <th>4</th>\n",
       "      <td>4</td>\n",
       "      <td>@VolphanCarol @littlewhitty @mysticalmanatee I...</td>\n",
       "      <td>1</td>\n",
       "      <td>I would say Ted Cruz is an asshole and doesn’t...</td>\n",
       "      <td>1.0</td>\n",
       "      <td>0.0</td>\n",
       "      <td>0.0</td>\n",
       "      <td>0.0</td>\n",
       "      <td>0.0</td>\n",
       "      <td>0.0</td>\n",
       "    </tr>\n",
       "  </tbody>\n",
       "</table>\n",
       "</div>"
      ],
      "text/plain": [
       "   Unnamed: 0                                              tweet  sarcastic  \\\n",
       "0           0  The only thing I got from college is a caffein...          1   \n",
       "1           1  I love it when professors draw a big question ...          1   \n",
       "2           2  Remember the hundred emails from companies whe...          1   \n",
       "3           3  Today my pop-pop told me I was not “forced” to...          1   \n",
       "4           4  @VolphanCarol @littlewhitty @mysticalmanatee I...          1   \n",
       "\n",
       "                                            rephrase  sarcasm  irony  satire  \\\n",
       "0  College is really difficult, expensive, tiring...      0.0    1.0     0.0   \n",
       "1  I do not like when professors don’t write out ...      1.0    0.0     0.0   \n",
       "2  I, at the bare minimum, wish companies actuall...      0.0    1.0     0.0   \n",
       "3  Today my pop-pop told me I was not \"forced\" to...      1.0    0.0     0.0   \n",
       "4  I would say Ted Cruz is an asshole and doesn’t...      1.0    0.0     0.0   \n",
       "\n",
       "   understatement  overstatement  rhetorical_question  \n",
       "0             0.0            0.0                  0.0  \n",
       "1             0.0            0.0                  0.0  \n",
       "2             0.0            0.0                  0.0  \n",
       "3             0.0            0.0                  0.0  \n",
       "4             0.0            0.0                  0.0  "
      ]
     },
     "execution_count": 5,
     "metadata": {},
     "output_type": "execute_result"
    }
   ],
   "source": [
    "isarc_train_path = r\"isarcasm-data\\train.EN.csv\"\n",
    "df_isarc_train = pd.read_csv(isarc_train_path)\n",
    "df_isarc_train.head()"
   ]
  },
  {
   "cell_type": "code",
   "execution_count": 6,
   "id": "88e415c1-2027-4921-a8fc-290f97bb3d0e",
   "metadata": {},
   "outputs": [
    {
     "data": {
      "text/html": [
       "<div>\n",
       "<style scoped>\n",
       "    .dataframe tbody tr th:only-of-type {\n",
       "        vertical-align: middle;\n",
       "    }\n",
       "\n",
       "    .dataframe tbody tr th {\n",
       "        vertical-align: top;\n",
       "    }\n",
       "\n",
       "    .dataframe thead th {\n",
       "        text-align: right;\n",
       "    }\n",
       "</style>\n",
       "<table border=\"1\" class=\"dataframe\">\n",
       "  <thead>\n",
       "    <tr style=\"text-align: right;\">\n",
       "      <th></th>\n",
       "      <th>tweet</th>\n",
       "      <th>sarcastic</th>\n",
       "    </tr>\n",
       "  </thead>\n",
       "  <tbody>\n",
       "    <tr>\n",
       "      <th>0</th>\n",
       "      <td>The only thing I got from college is a caffein...</td>\n",
       "      <td>1</td>\n",
       "    </tr>\n",
       "    <tr>\n",
       "      <th>1</th>\n",
       "      <td>I love it when professors draw a big question ...</td>\n",
       "      <td>1</td>\n",
       "    </tr>\n",
       "    <tr>\n",
       "      <th>2</th>\n",
       "      <td>Remember the hundred emails from companies whe...</td>\n",
       "      <td>1</td>\n",
       "    </tr>\n",
       "    <tr>\n",
       "      <th>3</th>\n",
       "      <td>Today my pop-pop told me I was not “forced” to...</td>\n",
       "      <td>1</td>\n",
       "    </tr>\n",
       "    <tr>\n",
       "      <th>4</th>\n",
       "      <td>@VolphanCarol @littlewhitty @mysticalmanatee I...</td>\n",
       "      <td>1</td>\n",
       "    </tr>\n",
       "  </tbody>\n",
       "</table>\n",
       "</div>"
      ],
      "text/plain": [
       "                                               tweet  sarcastic\n",
       "0  The only thing I got from college is a caffein...          1\n",
       "1  I love it when professors draw a big question ...          1\n",
       "2  Remember the hundred emails from companies whe...          1\n",
       "3  Today my pop-pop told me I was not “forced” to...          1\n",
       "4  @VolphanCarol @littlewhitty @mysticalmanatee I...          1"
      ]
     },
     "execution_count": 6,
     "metadata": {},
     "output_type": "execute_result"
    }
   ],
   "source": [
    "df_isarc_new_train = df_isarc_train.loc[:,['tweet','sarcastic']]\n",
    "df_isarc_new_train.head()"
   ]
  },
  {
   "cell_type": "code",
   "execution_count": 7,
   "id": "7804574b-6d9c-4e77-aeec-a9fcf95e8042",
   "metadata": {},
   "outputs": [
    {
     "data": {
      "text/html": [
       "<div>\n",
       "<style scoped>\n",
       "    .dataframe tbody tr th:only-of-type {\n",
       "        vertical-align: middle;\n",
       "    }\n",
       "\n",
       "    .dataframe tbody tr th {\n",
       "        vertical-align: top;\n",
       "    }\n",
       "\n",
       "    .dataframe thead th {\n",
       "        text-align: right;\n",
       "    }\n",
       "</style>\n",
       "<table border=\"1\" class=\"dataframe\">\n",
       "  <thead>\n",
       "    <tr style=\"text-align: right;\">\n",
       "      <th></th>\n",
       "      <th>text</th>\n",
       "      <th>sarcastic</th>\n",
       "    </tr>\n",
       "  </thead>\n",
       "  <tbody>\n",
       "    <tr>\n",
       "      <th>0</th>\n",
       "      <td>The only thing I got from college is a caffein...</td>\n",
       "      <td>1</td>\n",
       "    </tr>\n",
       "    <tr>\n",
       "      <th>1</th>\n",
       "      <td>I love it when professors draw a big question ...</td>\n",
       "      <td>1</td>\n",
       "    </tr>\n",
       "    <tr>\n",
       "      <th>2</th>\n",
       "      <td>Remember the hundred emails from companies whe...</td>\n",
       "      <td>1</td>\n",
       "    </tr>\n",
       "    <tr>\n",
       "      <th>3</th>\n",
       "      <td>Today my pop-pop told me I was not “forced” to...</td>\n",
       "      <td>1</td>\n",
       "    </tr>\n",
       "    <tr>\n",
       "      <th>4</th>\n",
       "      <td>@VolphanCarol @littlewhitty @mysticalmanatee I...</td>\n",
       "      <td>1</td>\n",
       "    </tr>\n",
       "  </tbody>\n",
       "</table>\n",
       "</div>"
      ],
      "text/plain": [
       "                                                text  sarcastic\n",
       "0  The only thing I got from college is a caffein...          1\n",
       "1  I love it when professors draw a big question ...          1\n",
       "2  Remember the hundred emails from companies whe...          1\n",
       "3  Today my pop-pop told me I was not “forced” to...          1\n",
       "4  @VolphanCarol @littlewhitty @mysticalmanatee I...          1"
      ]
     },
     "execution_count": 7,
     "metadata": {},
     "output_type": "execute_result"
    }
   ],
   "source": [
    "df_isarc_new_train.rename(columns = {'tweet':'text'}, inplace = True)\n",
    "df_isarc_new_train.head()"
   ]
  },
  {
   "cell_type": "code",
   "execution_count": 8,
   "id": "30f511a1-7d96-46e3-a0bb-36a3639ab938",
   "metadata": {},
   "outputs": [],
   "source": [
    "df_isarc_new_train['sarcastic'] = df_isarc_new_train['sarcastic'].astype('int')"
   ]
  },
  {
   "cell_type": "code",
   "execution_count": 9,
   "id": "88dbba60-4281-43a5-b7e2-9c23ab47ef0d",
   "metadata": {},
   "outputs": [],
   "source": [
    "df_isarc_train_final, df_isarc_val_final = train_test_split(df_isarc_new_train, train_size = 0.85, stratify = df_isarc_new_train[\"sarcastic\"], random_state = 10)"
   ]
  },
  {
   "cell_type": "code",
   "execution_count": 10,
   "id": "7c23f8cc-9d73-4788-a8eb-0e6992e96589",
   "metadata": {},
   "outputs": [
    {
     "data": {
      "text/html": [
       "<div>\n",
       "<style scoped>\n",
       "    .dataframe tbody tr th:only-of-type {\n",
       "        vertical-align: middle;\n",
       "    }\n",
       "\n",
       "    .dataframe tbody tr th {\n",
       "        vertical-align: top;\n",
       "    }\n",
       "\n",
       "    .dataframe thead th {\n",
       "        text-align: right;\n",
       "    }\n",
       "</style>\n",
       "<table border=\"1\" class=\"dataframe\">\n",
       "  <thead>\n",
       "    <tr style=\"text-align: right;\">\n",
       "      <th></th>\n",
       "      <th>text</th>\n",
       "      <th>sarcastic</th>\n",
       "    </tr>\n",
       "  </thead>\n",
       "  <tbody>\n",
       "    <tr>\n",
       "      <th>2019</th>\n",
       "      <td>Fuck, an Insomniac developed Wolverine game?! ...</td>\n",
       "      <td>0</td>\n",
       "    </tr>\n",
       "    <tr>\n",
       "      <th>1346</th>\n",
       "      <td>There are people who say there is no hope left...</td>\n",
       "      <td>0</td>\n",
       "    </tr>\n",
       "    <tr>\n",
       "      <th>832</th>\n",
       "      <td>Well, what a way to ruin Easter. Thanks @Cadbu...</td>\n",
       "      <td>1</td>\n",
       "    </tr>\n",
       "    <tr>\n",
       "      <th>1130</th>\n",
       "      <td>excited to start my new hobby of standing in t...</td>\n",
       "      <td>0</td>\n",
       "    </tr>\n",
       "    <tr>\n",
       "      <th>2117</th>\n",
       "      <td>Nothing quite says “back to work January blues...</td>\n",
       "      <td>0</td>\n",
       "    </tr>\n",
       "  </tbody>\n",
       "</table>\n",
       "</div>"
      ],
      "text/plain": [
       "                                                   text  sarcastic\n",
       "2019  Fuck, an Insomniac developed Wolverine game?! ...          0\n",
       "1346  There are people who say there is no hope left...          0\n",
       "832   Well, what a way to ruin Easter. Thanks @Cadbu...          1\n",
       "1130  excited to start my new hobby of standing in t...          0\n",
       "2117  Nothing quite says “back to work January blues...          0"
      ]
     },
     "execution_count": 10,
     "metadata": {},
     "output_type": "execute_result"
    }
   ],
   "source": [
    "df_isarc_train_final.head()"
   ]
  },
  {
   "cell_type": "code",
   "execution_count": 11,
   "id": "69a6ede8-4b73-47bb-9871-0e2f944375e1",
   "metadata": {},
   "outputs": [
    {
     "data": {
      "text/html": [
       "<div>\n",
       "<style scoped>\n",
       "    .dataframe tbody tr th:only-of-type {\n",
       "        vertical-align: middle;\n",
       "    }\n",
       "\n",
       "    .dataframe tbody tr th {\n",
       "        vertical-align: top;\n",
       "    }\n",
       "\n",
       "    .dataframe thead th {\n",
       "        text-align: right;\n",
       "    }\n",
       "</style>\n",
       "<table border=\"1\" class=\"dataframe\">\n",
       "  <thead>\n",
       "    <tr style=\"text-align: right;\">\n",
       "      <th></th>\n",
       "      <th>text</th>\n",
       "      <th>sarcastic</th>\n",
       "    </tr>\n",
       "  </thead>\n",
       "  <tbody>\n",
       "    <tr>\n",
       "      <th>147</th>\n",
       "      <td>Taxes  are just the best and I cannot wait to ...</td>\n",
       "      <td>1</td>\n",
       "    </tr>\n",
       "    <tr>\n",
       "      <th>1322</th>\n",
       "      <td>sadly the only reason i stop making tiktoks is...</td>\n",
       "      <td>0</td>\n",
       "    </tr>\n",
       "    <tr>\n",
       "      <th>2251</th>\n",
       "      <td>Humans are the only animal that can’t tell fan...</td>\n",
       "      <td>0</td>\n",
       "    </tr>\n",
       "    <tr>\n",
       "      <th>911</th>\n",
       "      <td>@miiniigun I feel that 100%, my anxiety stops ...</td>\n",
       "      <td>0</td>\n",
       "    </tr>\n",
       "    <tr>\n",
       "      <th>3279</th>\n",
       "      <td>biting my nails</td>\n",
       "      <td>0</td>\n",
       "    </tr>\n",
       "  </tbody>\n",
       "</table>\n",
       "</div>"
      ],
      "text/plain": [
       "                                                   text  sarcastic\n",
       "147   Taxes  are just the best and I cannot wait to ...          1\n",
       "1322  sadly the only reason i stop making tiktoks is...          0\n",
       "2251  Humans are the only animal that can’t tell fan...          0\n",
       "911   @miiniigun I feel that 100%, my anxiety stops ...          0\n",
       "3279                                    biting my nails          0"
      ]
     },
     "execution_count": 11,
     "metadata": {},
     "output_type": "execute_result"
    }
   ],
   "source": [
    "df_isarc_val_final.head()"
   ]
  },
  {
   "cell_type": "code",
   "execution_count": 12,
   "id": "b7f16f90-c209-4332-a2aa-3e7923c11342",
   "metadata": {},
   "outputs": [
    {
     "data": {
      "text/plain": [
       "sarcastic\n",
       "0    2210\n",
       "1     737\n",
       "Name: count, dtype: int64"
      ]
     },
     "execution_count": 12,
     "metadata": {},
     "output_type": "execute_result"
    }
   ],
   "source": [
    "df_isarc_train_final['sarcastic'].value_counts()"
   ]
  },
  {
   "cell_type": "code",
   "execution_count": 13,
   "id": "c5878db3-3811-4f3c-b81c-4280aed099bf",
   "metadata": {},
   "outputs": [
    {
     "data": {
      "text/plain": [
       "sarcastic\n",
       "0    391\n",
       "1    130\n",
       "Name: count, dtype: int64"
      ]
     },
     "execution_count": 13,
     "metadata": {},
     "output_type": "execute_result"
    }
   ],
   "source": [
    "df_isarc_val_final['sarcastic'].value_counts()"
   ]
  },
  {
   "cell_type": "code",
   "execution_count": 14,
   "id": "6b771293-7089-4990-a1c4-29d2d13e9b39",
   "metadata": {},
   "outputs": [],
   "source": [
    "df_isarc_train_final.to_csv(r\"iSarcasmEval\\train.csv\", index=False)\n",
    "df_isarc_val_final.to_csv(r\"iSarcasmEval\\val.csv\", index=False)"
   ]
  },
  {
   "cell_type": "markdown",
   "id": "2987398f-1187-4084-a1e9-cd15abf8314b",
   "metadata": {},
   "source": [
    "## Sarcasm Corpus V2"
   ]
  },
  {
   "cell_type": "code",
   "execution_count": 15,
   "id": "d976888a-1ae5-4daf-b8be-7a1556257074",
   "metadata": {},
   "outputs": [
    {
     "data": {
      "text/html": [
       "<div>\n",
       "<style scoped>\n",
       "    .dataframe tbody tr th:only-of-type {\n",
       "        vertical-align: middle;\n",
       "    }\n",
       "\n",
       "    .dataframe tbody tr th {\n",
       "        vertical-align: top;\n",
       "    }\n",
       "\n",
       "    .dataframe thead th {\n",
       "        text-align: right;\n",
       "    }\n",
       "</style>\n",
       "<table border=\"1\" class=\"dataframe\">\n",
       "  <thead>\n",
       "    <tr style=\"text-align: right;\">\n",
       "      <th></th>\n",
       "      <th>class</th>\n",
       "      <th>id</th>\n",
       "      <th>text</th>\n",
       "    </tr>\n",
       "  </thead>\n",
       "  <tbody>\n",
       "    <tr>\n",
       "      <th>0</th>\n",
       "      <td>notsarc</td>\n",
       "      <td>1</td>\n",
       "      <td>If that's true, then Freedom of Speech is doom...</td>\n",
       "    </tr>\n",
       "    <tr>\n",
       "      <th>1</th>\n",
       "      <td>notsarc</td>\n",
       "      <td>2</td>\n",
       "      <td>Neener neener - is it time to go in from the p...</td>\n",
       "    </tr>\n",
       "    <tr>\n",
       "      <th>2</th>\n",
       "      <td>notsarc</td>\n",
       "      <td>3</td>\n",
       "      <td>Just like the plastic gun fear, the armour pie...</td>\n",
       "    </tr>\n",
       "    <tr>\n",
       "      <th>3</th>\n",
       "      <td>notsarc</td>\n",
       "      <td>4</td>\n",
       "      <td>So geology is a religion because we weren't he...</td>\n",
       "    </tr>\n",
       "    <tr>\n",
       "      <th>4</th>\n",
       "      <td>notsarc</td>\n",
       "      <td>5</td>\n",
       "      <td>Well done Monty. Mark that up as your first ev...</td>\n",
       "    </tr>\n",
       "  </tbody>\n",
       "</table>\n",
       "</div>"
      ],
      "text/plain": [
       "     class  id                                               text\n",
       "0  notsarc   1  If that's true, then Freedom of Speech is doom...\n",
       "1  notsarc   2  Neener neener - is it time to go in from the p...\n",
       "2  notsarc   3  Just like the plastic gun fear, the armour pie...\n",
       "3  notsarc   4  So geology is a religion because we weren't he...\n",
       "4  notsarc   5  Well done Monty. Mark that up as your first ev..."
      ]
     },
     "execution_count": 15,
     "metadata": {},
     "output_type": "execute_result"
    }
   ],
   "source": [
    "df_scv2_gen = pd.read_csv(r\"sarcasm_v2\\GEN-sarc-notsarc.csv\")\n",
    "df_scv2_hyp = pd.read_csv(r\"sarcasm_v2\\HYP-sarc-notsarc.csv\")\n",
    "df_scv2_rq = pd.read_csv(r\"sarcasm_v2\\RQ-sarc-notsarc.csv\")\n",
    "df_scv2 = pd.concat([df_scv2_gen, df_scv2_hyp, df_scv2_rq])\n",
    "df_scv2.head()"
   ]
  },
  {
   "cell_type": "code",
   "execution_count": 16,
   "id": "7d75ef00-e870-4586-9772-1e19a1815b5a",
   "metadata": {},
   "outputs": [
    {
     "data": {
      "text/html": [
       "<div>\n",
       "<style scoped>\n",
       "    .dataframe tbody tr th:only-of-type {\n",
       "        vertical-align: middle;\n",
       "    }\n",
       "\n",
       "    .dataframe tbody tr th {\n",
       "        vertical-align: top;\n",
       "    }\n",
       "\n",
       "    .dataframe thead th {\n",
       "        text-align: right;\n",
       "    }\n",
       "</style>\n",
       "<table border=\"1\" class=\"dataframe\">\n",
       "  <thead>\n",
       "    <tr style=\"text-align: right;\">\n",
       "      <th></th>\n",
       "      <th>text</th>\n",
       "      <th>sarcastic</th>\n",
       "    </tr>\n",
       "  </thead>\n",
       "  <tbody>\n",
       "    <tr>\n",
       "      <th>0</th>\n",
       "      <td>If that's true, then Freedom of Speech is doom...</td>\n",
       "      <td>0</td>\n",
       "    </tr>\n",
       "    <tr>\n",
       "      <th>1</th>\n",
       "      <td>Neener neener - is it time to go in from the p...</td>\n",
       "      <td>0</td>\n",
       "    </tr>\n",
       "    <tr>\n",
       "      <th>2</th>\n",
       "      <td>Just like the plastic gun fear, the armour pie...</td>\n",
       "      <td>0</td>\n",
       "    </tr>\n",
       "    <tr>\n",
       "      <th>3</th>\n",
       "      <td>So geology is a religion because we weren't he...</td>\n",
       "      <td>0</td>\n",
       "    </tr>\n",
       "    <tr>\n",
       "      <th>4</th>\n",
       "      <td>Well done Monty. Mark that up as your first ev...</td>\n",
       "      <td>0</td>\n",
       "    </tr>\n",
       "  </tbody>\n",
       "</table>\n",
       "</div>"
      ],
      "text/plain": [
       "                                                text  sarcastic\n",
       "0  If that's true, then Freedom of Speech is doom...          0\n",
       "1  Neener neener - is it time to go in from the p...          0\n",
       "2  Just like the plastic gun fear, the armour pie...          0\n",
       "3  So geology is a religion because we weren't he...          0\n",
       "4  Well done Monty. Mark that up as your first ev...          0"
      ]
     },
     "execution_count": 16,
     "metadata": {},
     "output_type": "execute_result"
    }
   ],
   "source": [
    "df_scv2_final = df_scv2.loc[:, ['text', 'class']].copy()\n",
    "df_scv2_final.rename(columns={\"class\": \"sarcastic\"}, inplace=True)\n",
    "df_scv2_final['sarcastic'] = df_scv2_final['sarcastic'].replace({\"sarc\": 1, \"notsarc\": 0}).astype(int)\n",
    "df_scv2_final.head()"
   ]
  },
  {
   "cell_type": "code",
   "execution_count": 17,
   "id": "47dfd3f3-7056-454b-998b-4f4b9983a7d5",
   "metadata": {},
   "outputs": [
    {
     "data": {
      "text/html": [
       "<div>\n",
       "<style scoped>\n",
       "    .dataframe tbody tr th:only-of-type {\n",
       "        vertical-align: middle;\n",
       "    }\n",
       "\n",
       "    .dataframe tbody tr th {\n",
       "        vertical-align: top;\n",
       "    }\n",
       "\n",
       "    .dataframe thead th {\n",
       "        text-align: right;\n",
       "    }\n",
       "</style>\n",
       "<table border=\"1\" class=\"dataframe\">\n",
       "  <thead>\n",
       "    <tr style=\"text-align: right;\">\n",
       "      <th></th>\n",
       "      <th>text</th>\n",
       "      <th>sarcastic</th>\n",
       "    </tr>\n",
       "  </thead>\n",
       "  <tbody>\n",
       "    <tr>\n",
       "      <th>0</th>\n",
       "      <td>Okay, so if we only need 10 laws then they mus...</td>\n",
       "      <td>1</td>\n",
       "    </tr>\n",
       "    <tr>\n",
       "      <th>1</th>\n",
       "      <td>Actually, scientists who discard the global fl...</td>\n",
       "      <td>0</td>\n",
       "    </tr>\n",
       "    <tr>\n",
       "      <th>2</th>\n",
       "      <td>Your posts read like gibberish when you fail t...</td>\n",
       "      <td>1</td>\n",
       "    </tr>\n",
       "    <tr>\n",
       "      <th>3</th>\n",
       "      <td>call it what you will - cry, whine, pout, 'put...</td>\n",
       "      <td>1</td>\n",
       "    </tr>\n",
       "    <tr>\n",
       "      <th>4</th>\n",
       "      <td>And there is still no evidence on the table fo...</td>\n",
       "      <td>1</td>\n",
       "    </tr>\n",
       "  </tbody>\n",
       "</table>\n",
       "</div>"
      ],
      "text/plain": [
       "                                                text  sarcastic\n",
       "0  Okay, so if we only need 10 laws then they mus...          1\n",
       "1  Actually, scientists who discard the global fl...          0\n",
       "2  Your posts read like gibberish when you fail t...          1\n",
       "3  call it what you will - cry, whine, pout, 'put...          1\n",
       "4  And there is still no evidence on the table fo...          1"
      ]
     },
     "execution_count": 17,
     "metadata": {},
     "output_type": "execute_result"
    }
   ],
   "source": [
    "df_scv2_final = df_scv2_final.sample(frac=1, random_state = 10).reset_index(drop=True)\n",
    "df_scv2_final.head()"
   ]
  },
  {
   "cell_type": "code",
   "execution_count": 18,
   "id": "c4494034-bd19-4812-83a8-03eda9d5bac9",
   "metadata": {},
   "outputs": [],
   "source": [
    "df_scv2_train, df_scv2_final_test = train_test_split(df_scv2_final, train_size = 0.80, stratify = df_scv2_final[\"sarcastic\"], random_state = 10)\n",
    "df_scv2_final_train, df_scv2_final_val = train_test_split(df_scv2_train, train_size = 0.85, stratify = df_scv2_train[\"sarcastic\"], random_state = 10)"
   ]
  },
  {
   "cell_type": "code",
   "execution_count": 19,
   "id": "5c25a355-4397-48e3-9b90-ad1db899df06",
   "metadata": {},
   "outputs": [
    {
     "data": {
      "text/html": [
       "<div>\n",
       "<style scoped>\n",
       "    .dataframe tbody tr th:only-of-type {\n",
       "        vertical-align: middle;\n",
       "    }\n",
       "\n",
       "    .dataframe tbody tr th {\n",
       "        vertical-align: top;\n",
       "    }\n",
       "\n",
       "    .dataframe thead th {\n",
       "        text-align: right;\n",
       "    }\n",
       "</style>\n",
       "<table border=\"1\" class=\"dataframe\">\n",
       "  <thead>\n",
       "    <tr style=\"text-align: right;\">\n",
       "      <th></th>\n",
       "      <th>text</th>\n",
       "      <th>sarcastic</th>\n",
       "    </tr>\n",
       "  </thead>\n",
       "  <tbody>\n",
       "    <tr>\n",
       "      <th>2465</th>\n",
       "      <td>wow - sounds like a terrible idea. luckily we ...</td>\n",
       "      <td>0</td>\n",
       "    </tr>\n",
       "    <tr>\n",
       "      <th>8134</th>\n",
       "      <td>But a business is just a private citizen! Why ...</td>\n",
       "      <td>1</td>\n",
       "    </tr>\n",
       "    <tr>\n",
       "      <th>7808</th>\n",
       "      <td>thewayitis, i would say is one of the best deb...</td>\n",
       "      <td>0</td>\n",
       "    </tr>\n",
       "    <tr>\n",
       "      <th>9111</th>\n",
       "      <td>The lovely thing about our system of justice, ...</td>\n",
       "      <td>1</td>\n",
       "    </tr>\n",
       "    <tr>\n",
       "      <th>6473</th>\n",
       "      <td>And the wonders all around us show us how. . .</td>\n",
       "      <td>0</td>\n",
       "    </tr>\n",
       "  </tbody>\n",
       "</table>\n",
       "</div>"
      ],
      "text/plain": [
       "                                                   text  sarcastic\n",
       "2465  wow - sounds like a terrible idea. luckily we ...          0\n",
       "8134  But a business is just a private citizen! Why ...          1\n",
       "7808  thewayitis, i would say is one of the best deb...          0\n",
       "9111  The lovely thing about our system of justice, ...          1\n",
       "6473     And the wonders all around us show us how. . .          0"
      ]
     },
     "execution_count": 19,
     "metadata": {},
     "output_type": "execute_result"
    }
   ],
   "source": [
    "df_scv2_final_train.head()"
   ]
  },
  {
   "cell_type": "code",
   "execution_count": 20,
   "id": "962f24b6-fe5f-44d7-85f2-35984e83a514",
   "metadata": {},
   "outputs": [
    {
     "data": {
      "text/html": [
       "<div>\n",
       "<style scoped>\n",
       "    .dataframe tbody tr th:only-of-type {\n",
       "        vertical-align: middle;\n",
       "    }\n",
       "\n",
       "    .dataframe tbody tr th {\n",
       "        vertical-align: top;\n",
       "    }\n",
       "\n",
       "    .dataframe thead th {\n",
       "        text-align: right;\n",
       "    }\n",
       "</style>\n",
       "<table border=\"1\" class=\"dataframe\">\n",
       "  <thead>\n",
       "    <tr style=\"text-align: right;\">\n",
       "      <th></th>\n",
       "      <th>text</th>\n",
       "      <th>sarcastic</th>\n",
       "    </tr>\n",
       "  </thead>\n",
       "  <tbody>\n",
       "    <tr>\n",
       "      <th>6150</th>\n",
       "      <td>was it a 'sexual based movement', as you've ca...</td>\n",
       "      <td>0</td>\n",
       "    </tr>\n",
       "    <tr>\n",
       "      <th>7005</th>\n",
       "      <td>Do you even read what anyone posts? Try it, yo...</td>\n",
       "      <td>1</td>\n",
       "    </tr>\n",
       "    <tr>\n",
       "      <th>6498</th>\n",
       "      <td>So funny... Like others have pointed out, this...</td>\n",
       "      <td>0</td>\n",
       "    </tr>\n",
       "    <tr>\n",
       "      <th>4082</th>\n",
       "      <td>What about the similarities between the museum...</td>\n",
       "      <td>0</td>\n",
       "    </tr>\n",
       "    <tr>\n",
       "      <th>3371</th>\n",
       "      <td>me whine?  this entire f ing thread is devoted...</td>\n",
       "      <td>1</td>\n",
       "    </tr>\n",
       "  </tbody>\n",
       "</table>\n",
       "</div>"
      ],
      "text/plain": [
       "                                                   text  sarcastic\n",
       "6150  was it a 'sexual based movement', as you've ca...          0\n",
       "7005  Do you even read what anyone posts? Try it, yo...          1\n",
       "6498  So funny... Like others have pointed out, this...          0\n",
       "4082  What about the similarities between the museum...          0\n",
       "3371  me whine?  this entire f ing thread is devoted...          1"
      ]
     },
     "execution_count": 20,
     "metadata": {},
     "output_type": "execute_result"
    }
   ],
   "source": [
    "df_scv2_final_test.head()"
   ]
  },
  {
   "cell_type": "code",
   "execution_count": 21,
   "id": "a0066ea9-5782-4bfd-ade6-cec5f9a48848",
   "metadata": {},
   "outputs": [
    {
     "data": {
      "text/html": [
       "<div>\n",
       "<style scoped>\n",
       "    .dataframe tbody tr th:only-of-type {\n",
       "        vertical-align: middle;\n",
       "    }\n",
       "\n",
       "    .dataframe tbody tr th {\n",
       "        vertical-align: top;\n",
       "    }\n",
       "\n",
       "    .dataframe thead th {\n",
       "        text-align: right;\n",
       "    }\n",
       "</style>\n",
       "<table border=\"1\" class=\"dataframe\">\n",
       "  <thead>\n",
       "    <tr style=\"text-align: right;\">\n",
       "      <th></th>\n",
       "      <th>text</th>\n",
       "      <th>sarcastic</th>\n",
       "    </tr>\n",
       "  </thead>\n",
       "  <tbody>\n",
       "    <tr>\n",
       "      <th>5092</th>\n",
       "      <td>You wouldn't. More likely you'll pursue your W...</td>\n",
       "      <td>1</td>\n",
       "    </tr>\n",
       "    <tr>\n",
       "      <th>7740</th>\n",
       "      <td>He did finally figure out how to use the quote...</td>\n",
       "      <td>1</td>\n",
       "    </tr>\n",
       "    <tr>\n",
       "      <th>7931</th>\n",
       "      <td>I think the FSM threw these guys a bone. They ...</td>\n",
       "      <td>0</td>\n",
       "    </tr>\n",
       "    <tr>\n",
       "      <th>2341</th>\n",
       "      <td>The Bible does not say that it is inerrant. An...</td>\n",
       "      <td>0</td>\n",
       "    </tr>\n",
       "    <tr>\n",
       "      <th>5754</th>\n",
       "      <td>Don't you ever get tired of acting like a litt...</td>\n",
       "      <td>1</td>\n",
       "    </tr>\n",
       "  </tbody>\n",
       "</table>\n",
       "</div>"
      ],
      "text/plain": [
       "                                                   text  sarcastic\n",
       "5092  You wouldn't. More likely you'll pursue your W...          1\n",
       "7740  He did finally figure out how to use the quote...          1\n",
       "7931  I think the FSM threw these guys a bone. They ...          0\n",
       "2341  The Bible does not say that it is inerrant. An...          0\n",
       "5754  Don't you ever get tired of acting like a litt...          1"
      ]
     },
     "execution_count": 21,
     "metadata": {},
     "output_type": "execute_result"
    }
   ],
   "source": [
    "df_scv2_final_val.head()"
   ]
  },
  {
   "cell_type": "code",
   "execution_count": 22,
   "id": "96c2758a-1747-41b5-916a-7614cd3419e8",
   "metadata": {},
   "outputs": [
    {
     "data": {
      "text/plain": [
       "sarcastic\n",
       "0    3191\n",
       "1    3190\n",
       "Name: count, dtype: int64"
      ]
     },
     "execution_count": 22,
     "metadata": {},
     "output_type": "execute_result"
    }
   ],
   "source": [
    "df_scv2_final_train['sarcastic'].value_counts()"
   ]
  },
  {
   "cell_type": "code",
   "execution_count": 23,
   "id": "9edd896f-4fbd-4cdf-9085-0585d6649fe6",
   "metadata": {},
   "outputs": [
    {
     "data": {
      "text/plain": [
       "sarcastic\n",
       "0    939\n",
       "1    939\n",
       "Name: count, dtype: int64"
      ]
     },
     "execution_count": 23,
     "metadata": {},
     "output_type": "execute_result"
    }
   ],
   "source": [
    "df_scv2_final_test['sarcastic'].value_counts()"
   ]
  },
  {
   "cell_type": "code",
   "execution_count": 24,
   "id": "0bb3053f-7129-4dbe-86ee-4428b07752d7",
   "metadata": {},
   "outputs": [
    {
     "data": {
      "text/plain": [
       "sarcastic\n",
       "1    564\n",
       "0    563\n",
       "Name: count, dtype: int64"
      ]
     },
     "execution_count": 24,
     "metadata": {},
     "output_type": "execute_result"
    }
   ],
   "source": [
    "df_scv2_final_val['sarcastic'].value_counts()"
   ]
  },
  {
   "cell_type": "code",
   "execution_count": 25,
   "id": "1a320625-9df5-4ec8-92be-37c1789cc1db",
   "metadata": {},
   "outputs": [],
   "source": [
    "df_scv2_final_train.to_csv(r\"Sarcasm_Corpus_V2\\train.csv\", index=False)\n",
    "df_scv2_final_test.to_csv(r\"Sarcasm_Corpus_V2\\test.csv\", index=False)\n",
    "df_scv2_final_val.to_csv(r\"Sarcasm_Corpus_V2\\val.csv\", index=False)"
   ]
  },
  {
   "cell_type": "markdown",
   "id": "3d47e7c8-5ffb-4f2a-99b1-0ec738124235",
   "metadata": {},
   "source": [
    "## Combining"
   ]
  },
  {
   "cell_type": "code",
   "execution_count": 26,
   "id": "3970b483-fc58-4ec1-860f-44e54155f6c9",
   "metadata": {},
   "outputs": [],
   "source": [
    "df_train = pd.concat([df_isarc_train_final, df_scv2_final_train]).sample(frac=1, random_state = 10).reset_index(drop=True)\n",
    "df_test = pd.concat([df_isarc_test, df_scv2_final_test]).sample(frac=1, random_state = 10).reset_index(drop=True)\n",
    "df_val = pd.concat([df_isarc_val_final, df_scv2_final_val]).sample(frac=1, random_state = 10).reset_index(drop=True)"
   ]
  },
  {
   "cell_type": "code",
   "execution_count": 27,
   "id": "237e7ef5-4e21-4eff-9293-b052de1d725c",
   "metadata": {},
   "outputs": [
    {
     "data": {
      "text/plain": [
       "sarcastic\n",
       "0    5401\n",
       "1    3927\n",
       "Name: count, dtype: int64"
      ]
     },
     "execution_count": 27,
     "metadata": {},
     "output_type": "execute_result"
    }
   ],
   "source": [
    "df_train['sarcastic'].value_counts()"
   ]
  },
  {
   "cell_type": "code",
   "execution_count": 28,
   "id": "517828e8-9f07-4b0d-a985-3542e7491a7e",
   "metadata": {},
   "outputs": [
    {
     "data": {
      "text/plain": [
       "sarcastic\n",
       "0    2139\n",
       "1    1139\n",
       "Name: count, dtype: int64"
      ]
     },
     "execution_count": 28,
     "metadata": {},
     "output_type": "execute_result"
    }
   ],
   "source": [
    "df_test['sarcastic'].value_counts()"
   ]
  },
  {
   "cell_type": "code",
   "execution_count": 29,
   "id": "2a75dcd5-2bf1-4823-9298-e90fc5cfda67",
   "metadata": {},
   "outputs": [
    {
     "data": {
      "text/plain": [
       "sarcastic\n",
       "0    954\n",
       "1    694\n",
       "Name: count, dtype: int64"
      ]
     },
     "execution_count": 29,
     "metadata": {},
     "output_type": "execute_result"
    }
   ],
   "source": [
    "df_val['sarcastic'].value_counts()"
   ]
  },
  {
   "cell_type": "code",
   "execution_count": 30,
   "id": "11cda025-9e82-452c-b47d-10242d480e60",
   "metadata": {},
   "outputs": [],
   "source": [
    "df_train.to_csv(r\"combined\\train.csv\", index=False)\n",
    "df_test.to_csv(r\"combined\\test.csv\", index=False)\n",
    "df_val.to_csv(r\"combined\\val.csv\", index=False)"
   ]
  }
 ],
 "metadata": {
  "kernelspec": {
   "display_name": "Python 3 (ipykernel)",
   "language": "python",
   "name": "python3"
  },
  "language_info": {
   "codemirror_mode": {
    "name": "ipython",
    "version": 3
   },
   "file_extension": ".py",
   "mimetype": "text/x-python",
   "name": "python",
   "nbconvert_exporter": "python",
   "pygments_lexer": "ipython3",
   "version": "3.10.5"
  }
 },
 "nbformat": 4,
 "nbformat_minor": 5
}
