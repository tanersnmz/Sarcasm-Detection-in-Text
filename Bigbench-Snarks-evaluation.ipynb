{
 "cells": [
  {
   "cell_type": "markdown",
   "id": "19455b94-ce6a-4904-ae96-4cfc44e004c2",
   "metadata": {},
   "source": [
    "## Converting task.json to test.csv\n",
    "\n",
    "##### Note: Don't run this block if the test.csv already exists. Move to next blocks for evaluation"
   ]
  },
  {
   "cell_type": "code",
   "execution_count": 1,
   "id": "0d1b718a-3254-481a-aa86-05249df316ef",
   "metadata": {},
   "outputs": [],
   "source": [
    "import json\n",
    "import pandas as pd"
   ]
  },
  {
   "cell_type": "code",
   "execution_count": 2,
   "id": "e023ab3e-2f32-4334-a583-4234cca2cb96",
   "metadata": {},
   "outputs": [],
   "source": [
    "# Load JSON (replace with loading from file if needed)\n",
    "with open(\"task.json\", \"r\", encoding=\"utf-8\") as f:\n",
    "    data = json.load(f)"
   ]
  },
  {
   "cell_type": "code",
   "execution_count": 3,
   "id": "a8855467-407f-4ac6-890d-f37e0a3d4385",
   "metadata": {},
   "outputs": [
    {
     "data": {
      "text/html": [
       "<div>\n",
       "<style scoped>\n",
       "    .dataframe tbody tr th:only-of-type {\n",
       "        vertical-align: middle;\n",
       "    }\n",
       "\n",
       "    .dataframe tbody tr th {\n",
       "        vertical-align: top;\n",
       "    }\n",
       "\n",
       "    .dataframe thead th {\n",
       "        text-align: right;\n",
       "    }\n",
       "</style>\n",
       "<table border=\"1\" class=\"dataframe\">\n",
       "  <thead>\n",
       "    <tr style=\"text-align: right;\">\n",
       "      <th></th>\n",
       "      <th>text</th>\n",
       "      <th>sarcastic</th>\n",
       "    </tr>\n",
       "  </thead>\n",
       "  <tbody>\n",
       "    <tr>\n",
       "      <th>0</th>\n",
       "      <td>Better not buy any exorbitant technology ever ...</td>\n",
       "      <td>0</td>\n",
       "    </tr>\n",
       "    <tr>\n",
       "      <th>1</th>\n",
       "      <td>So if there are more dollars, more people can ...</td>\n",
       "      <td>0</td>\n",
       "    </tr>\n",
       "    <tr>\n",
       "      <th>2</th>\n",
       "      <td>With new designs coming ten times slower than ...</td>\n",
       "      <td>1</td>\n",
       "    </tr>\n",
       "    <tr>\n",
       "      <th>3</th>\n",
       "      <td>You mean you're only into bullies with narciss...</td>\n",
       "      <td>0</td>\n",
       "    </tr>\n",
       "    <tr>\n",
       "      <th>4</th>\n",
       "      <td>Never had as much fun in my life as when the c...</td>\n",
       "      <td>1</td>\n",
       "    </tr>\n",
       "  </tbody>\n",
       "</table>\n",
       "</div>"
      ],
      "text/plain": [
       "                                                text  sarcastic\n",
       "0  Better not buy any exorbitant technology ever ...          0\n",
       "1  So if there are more dollars, more people can ...          0\n",
       "2  With new designs coming ten times slower than ...          1\n",
       "3  You mean you're only into bullies with narciss...          0\n",
       "4  Never had as much fun in my life as when the c...          1"
      ]
     },
     "execution_count": 3,
     "metadata": {},
     "output_type": "execute_result"
    }
   ],
   "source": [
    "# Extract examples\n",
    "test_dict = {\"text\" : [], \"sarcastic\" : []}\n",
    "for ex in data[\"examples\"]:\n",
    "    input_text = ex[\"input\"]\n",
    "    target = ex[\"target_scores\"]\n",
    "    \n",
    "    # Extract sentence (a) and (b)\n",
    "    try:\n",
    "        s_a = input_text.split(\"(a)\")[1].split(\"(b)\")[0].strip()\n",
    "        s_b = input_text.split(\"(b)\")[1].strip()\n",
    "    except IndexError:\n",
    "        continue  # skip malformed example\n",
    "    \n",
    "    label_a = target[\"(a)\"]\n",
    "    label_b = target[\"(b)\"]\n",
    "\n",
    "    test_dict[\"text\"].extend([s_a, s_b])\n",
    "    test_dict[\"sarcastic\"].extend([label_a, label_b])\n",
    "\n",
    "bb_test_df = pd.DataFrame(test_dict).sample(frac=1, random_state = 10).reset_index(drop=True)\n",
    "bb_test_df.head()"
   ]
  },
  {
   "cell_type": "code",
   "execution_count": 4,
   "id": "eb13456f-75b6-4a11-9ff2-68905cd3e4b2",
   "metadata": {},
   "outputs": [
    {
     "data": {
      "text/plain": [
       "sarcastic\n",
       "0    181\n",
       "1    181\n",
       "Name: count, dtype: int64"
      ]
     },
     "execution_count": 4,
     "metadata": {},
     "output_type": "execute_result"
    }
   ],
   "source": [
    "bb_test_df['sarcastic'].value_counts()"
   ]
  },
  {
   "cell_type": "code",
   "execution_count": 5,
   "id": "4aa91307-e33e-42e3-8bf5-230bb818a9a8",
   "metadata": {},
   "outputs": [],
   "source": [
    "bb_test_df.to_csv(r\"BIG-Bench-SNARKS\\test.csv\", index=False)"
   ]
  },
  {
   "cell_type": "markdown",
   "id": "2611e204-1241-4ac7-b4d7-9e19e7a2f92a",
   "metadata": {},
   "source": [
    "## Evaluation"
   ]
  },
  {
   "cell_type": "markdown",
   "id": "41b933e6-db82-4637-b75b-828d0a5f54ac",
   "metadata": {},
   "source": [
    "### 0) Loading Data"
   ]
  },
  {
   "cell_type": "code",
   "execution_count": 6,
   "id": "14aa26ff-7275-425c-ac74-ae3f2b52455a",
   "metadata": {},
   "outputs": [
    {
     "data": {
      "text/html": [
       "<div>\n",
       "<style scoped>\n",
       "    .dataframe tbody tr th:only-of-type {\n",
       "        vertical-align: middle;\n",
       "    }\n",
       "\n",
       "    .dataframe tbody tr th {\n",
       "        vertical-align: top;\n",
       "    }\n",
       "\n",
       "    .dataframe thead th {\n",
       "        text-align: right;\n",
       "    }\n",
       "</style>\n",
       "<table border=\"1\" class=\"dataframe\">\n",
       "  <thead>\n",
       "    <tr style=\"text-align: right;\">\n",
       "      <th></th>\n",
       "      <th>text</th>\n",
       "      <th>sarcastic</th>\n",
       "    </tr>\n",
       "  </thead>\n",
       "  <tbody>\n",
       "    <tr>\n",
       "      <th>0</th>\n",
       "      <td>Better not buy any exorbitant technology ever ...</td>\n",
       "      <td>0</td>\n",
       "    </tr>\n",
       "    <tr>\n",
       "      <th>1</th>\n",
       "      <td>So if there are more dollars, more people can ...</td>\n",
       "      <td>0</td>\n",
       "    </tr>\n",
       "    <tr>\n",
       "      <th>2</th>\n",
       "      <td>With new designs coming ten times slower than ...</td>\n",
       "      <td>1</td>\n",
       "    </tr>\n",
       "    <tr>\n",
       "      <th>3</th>\n",
       "      <td>You mean you're only into bullies with narciss...</td>\n",
       "      <td>0</td>\n",
       "    </tr>\n",
       "    <tr>\n",
       "      <th>4</th>\n",
       "      <td>Never had as much fun in my life as when the c...</td>\n",
       "      <td>1</td>\n",
       "    </tr>\n",
       "  </tbody>\n",
       "</table>\n",
       "</div>"
      ],
      "text/plain": [
       "                                                text  sarcastic\n",
       "0  Better not buy any exorbitant technology ever ...          0\n",
       "1  So if there are more dollars, more people can ...          0\n",
       "2  With new designs coming ten times slower than ...          1\n",
       "3  You mean you're only into bullies with narciss...          0\n",
       "4  Never had as much fun in my life as when the c...          1"
      ]
     },
     "execution_count": 6,
     "metadata": {},
     "output_type": "execute_result"
    }
   ],
   "source": [
    "bb_test_df = pd.read_csv(r\"BIG-Bench-SNARKS\\test.csv\")\n",
    "bb_test_df.head()"
   ]
  },
  {
   "cell_type": "markdown",
   "id": "14a06951-b3bc-440a-9cdb-b482d946435b",
   "metadata": {},
   "source": [
    "### 1) Bi-RNN with Flat Attention Networks (FAN)"
   ]
  },
  {
   "cell_type": "code",
   "execution_count": 7,
   "id": "88d02a3e-e4bc-4890-acc0-93872453e92e",
   "metadata": {},
   "outputs": [
    {
     "name": "stderr",
     "output_type": "stream",
     "text": [
      "[nltk_data] Downloading package punkt to\n",
      "[nltk_data]     C:\\Users\\DELL\\AppData\\Roaming\\nltk_data...\n",
      "[nltk_data]   Package punkt is already up-to-date!\n"
     ]
    },
    {
     "data": {
      "text/plain": [
       "True"
      ]
     },
     "execution_count": 7,
     "metadata": {},
     "output_type": "execute_result"
    }
   ],
   "source": [
    "import os\n",
    "import pandas as pd\n",
    "import numpy as np\n",
    "import nltk\n",
    "import torch\n",
    "import torch.nn as nn\n",
    "import torch.nn.functional as F\n",
    "from torch.utils.data import Dataset, DataLoader\n",
    "from sklearn.metrics import classification_report, confusion_matrix\n",
    "import matplotlib.pyplot as plt\n",
    "from collections import defaultdict\n",
    "from nltk.tokenize import sent_tokenize, word_tokenize\n",
    "import seaborn as sns\n",
    "nltk.download('punkt')"
   ]
  },
  {
   "cell_type": "code",
   "execution_count": 8,
   "id": "0cfdb931-b652-4bf1-8ab2-85caa0561372",
   "metadata": {},
   "outputs": [],
   "source": [
    "def load_data(folder_path):\n",
    "    train_df = pd.read_csv(os.path.join(folder_path, 'train.csv'))\n",
    "    val_df = pd.read_csv(os.path.join(folder_path, 'val.csv'))\n",
    "    test_df = pd.read_csv(os.path.join(folder_path, 'test.csv'))\n",
    "    return train_df, val_df, test_df\n",
    "\n",
    "def build_vocab(dataframes, vocab_size=20000):\n",
    "    word_freq = defaultdict(int)\n",
    "    for df in dataframes:\n",
    "        for text in df['text'].astype(str):\n",
    "            for word in word_tokenize(text.lower()):\n",
    "                word_freq[word] += 1\n",
    "    sorted_words = sorted(word_freq.items(), key=lambda x: -x[1])[:vocab_size]\n",
    "    word2idx = {\"<PAD>\": 0, \"<UNK>\": 1}\n",
    "    for i, (word, _) in enumerate(sorted_words, 2):\n",
    "        word2idx[word] = i\n",
    "    return word2idx\n",
    "\n",
    "def load_glove_embeddings(glove_path, word2idx, embedding_dim=100):\n",
    "    embeddings = np.random.uniform(-0.1, 0.1, (len(word2idx), embedding_dim))\n",
    "    embeddings[0] = np.zeros(embedding_dim)  # PAD\n",
    "\n",
    "    with open(glove_path, 'r', encoding='utf8') as f:\n",
    "        for line in f:\n",
    "            parts = line.split()\n",
    "            word = parts[0]\n",
    "            if word in word2idx:\n",
    "                vector = np.array(parts[1:], dtype=np.float32)\n",
    "                embeddings[word2idx[word]] = vector\n",
    "    return torch.tensor(embeddings, dtype=torch.float32)\n",
    "\n",
    "class SarcasmDataset(Dataset):\n",
    "    def __init__(self, dataframe, word2idx, max_len=100):\n",
    "        self.texts = dataframe['text'].astype(str)\n",
    "        self.labels = dataframe['sarcastic'].tolist()\n",
    "        self.word2idx = word2idx\n",
    "        self.max_len = max_len\n",
    "\n",
    "    def __len__(self):\n",
    "        return len(self.texts)\n",
    "\n",
    "    def __getitem__(self, idx):\n",
    "        words = word_tokenize(self.texts[idx].lower())[:self.max_len]\n",
    "        word_ids = [self.word2idx.get(w, self.word2idx[\"<UNK>\"]) for w in words]\n",
    "        padded = word_ids + [0] * (self.max_len - len(word_ids))\n",
    "        return torch.LongTensor(padded), self.labels[idx]\n",
    "\n",
    "def collate_fn(batch):\n",
    "    x, y = zip(*batch)\n",
    "    return torch.stack(x), torch.LongTensor(y)\n",
    "\n",
    "class Attention(nn.Module):\n",
    "    def __init__(self, hidden_size):\n",
    "        super().__init__()\n",
    "        self.attn = nn.Linear(hidden_size, hidden_size)\n",
    "        self.context = nn.Linear(hidden_size, 1, bias=False)\n",
    "\n",
    "    def forward(self, x):\n",
    "        u = torch.tanh(self.attn(x))\n",
    "        score = self.context(u).squeeze(-1)\n",
    "        weights = F.softmax(score, dim=1)\n",
    "        output = (x * weights.unsqueeze(-1)).sum(dim=1)\n",
    "        return output\n",
    "\n",
    "class FAN(nn.Module):\n",
    "    def __init__(self, embedding_matrix, hidden_size=64, dropout=0.3, use_glove=True):\n",
    "        super().__init__()\n",
    "        vocab_size, embed_dim = embedding_matrix.shape\n",
    "        if use_glove == True:\n",
    "            self.embedding = nn.Embedding.from_pretrained(embedding_matrix, freeze=False)\n",
    "        else: self.embedding = nn.Embedding(vocab_size, embed_dim, padding_idx=0)\n",
    "        self.bigru = nn.GRU(embed_dim, hidden_size, bidirectional=True, batch_first=True)\n",
    "        self.dropout = nn.Dropout(dropout)\n",
    "\n",
    "        self.attn = nn.Linear(hidden_size * 2, hidden_size * 2)\n",
    "        self.context_vector = nn.Linear(hidden_size * 2, 1, bias=False)\n",
    "        self.classifier = nn.Linear(hidden_size * 2, 1)\n",
    "\n",
    "    def forward(self, x):\n",
    "        # x: [batch, seq_len]\n",
    "        embed = self.embedding(x)\n",
    "        gru_out, _ = self.bigru(embed)\n",
    "        gru_out = self.dropout(gru_out)\n",
    "\n",
    "        u = torch.tanh(self.attn(gru_out))\n",
    "        attn_weights = torch.softmax(self.context_vector(u).squeeze(-1), dim=1)\n",
    "        doc_vector = torch.sum(gru_out * attn_weights.unsqueeze(-1), dim=1)\n",
    "\n",
    "        out = torch.sigmoid(self.classifier(doc_vector)).squeeze(1)\n",
    "        return out\n",
    "\n",
    "def evaluate_model(model, test_loader, dir_path, model_name):\n",
    "    os.makedirs(dir_path, exist_ok=True)\n",
    "    model.eval()\n",
    "    all_preds, all_labels = [], []\n",
    "    with torch.no_grad():\n",
    "        for x, y in test_loader:\n",
    "            x = x.to(device)\n",
    "            preds = model(x)\n",
    "            preds = (preds > 0.5).int().cpu().numpy()\n",
    "            all_preds.extend(preds)\n",
    "            all_labels.extend(y.numpy())\n",
    "    print(classification_report(all_labels, all_preds, zero_division=0))\n",
    "    cm = confusion_matrix(all_labels, all_preds)\n",
    "    plt.figure(figsize=(5, 4))\n",
    "    sns.heatmap(cm, annot=True, fmt='d', cmap='Blues', xticklabels=['Not Sarcastic', 'Sarcastic'], yticklabels=['Not Sarcastic', 'Sarcastic'])\n",
    "    plt.xlabel('Predicted')\n",
    "    plt.ylabel('True')\n",
    "    plt.title('Confusion Matrix')\n",
    "    plt.savefig(rf'{dir_path}/{model_name}_confusion_matrix.png')\n",
    "    plt.show()"
   ]
  },
  {
   "cell_type": "markdown",
   "id": "17b77078-ca25-402e-abda-77bfa495b5e9",
   "metadata": {},
   "source": [
    "#### 1.1) iSarcasmEval"
   ]
  },
  {
   "cell_type": "code",
   "execution_count": 9,
   "id": "80c866d0-dada-4d36-a0cf-0fc8bed6bac4",
   "metadata": {},
   "outputs": [],
   "source": [
    "folder_path = \"iSarcasmEval\"\n",
    "glove_path = \"glove.6B.100d.txt\"\n",
    "device = torch.device(\"cuda\" if torch.cuda.is_available() else \"cpu\")\n",
    "\n",
    "train_df, val_df, test_df = load_data(folder_path)\n",
    "word2idx = build_vocab([train_df, val_df, test_df])\n",
    "glove = load_glove_embeddings(glove_path, word2idx)\n",
    "\n",
    "test_data = SarcasmDataset(bb_test_df, word2idx)\n",
    "test_loader = DataLoader(test_data, batch_size=16, collate_fn=collate_fn)"
   ]
  },
  {
   "cell_type": "markdown",
   "id": "69de1250-a76e-4e3c-b935-2a0311eb8eb0",
   "metadata": {},
   "source": [
    "##### 1.1.1) With GloVe"
   ]
  },
  {
   "cell_type": "code",
   "execution_count": 10,
   "id": "8f1700eb-69c9-4815-9ad6-8ef2efbf0b57",
   "metadata": {},
   "outputs": [
    {
     "name": "stdout",
     "output_type": "stream",
     "text": [
      "              precision    recall  f1-score   support\n",
      "\n",
      "           0       0.50      0.99      0.67       181\n",
      "           1       0.50      0.01      0.01       181\n",
      "\n",
      "    accuracy                           0.50       362\n",
      "   macro avg       0.50      0.50      0.34       362\n",
      "weighted avg       0.50      0.50      0.34       362\n",
      "\n"
     ]
    },
    {
     "data": {
      "image/png": "[encoded data removed]",
      "text/plain": [
       "<Figure size 360x288 with 2 Axes>"
      ]
     },
     "metadata": {
      "needs_background": "light"
     },
     "output_type": "display_data"
    }
   ],
   "source": [
    "model_name = 'isarc_fan_16_glove'\n",
    "model = FAN(glove, hidden_size=16)\n",
    "model.load_state_dict(torch.load(f\"{model_name}/model.pth\", weights_only=True))\n",
    "\n",
    "bb_dir_path = rf'BIG-Bench-SNARKS/results'\n",
    "evaluate_model(model, test_loader, bb_dir_path, model_name)"
   ]
  },
  {
   "cell_type": "markdown",
   "id": "9376e015-ee93-461b-9eec-2b52bfce7d62",
   "metadata": {},
   "source": [
    "##### 1.1.2) Without GloVe"
   ]
  },
  {
   "cell_type": "code",
   "execution_count": 11,
   "id": "a277b860-d80e-4ed5-83e6-da1e7c154e20",
   "metadata": {},
   "outputs": [
    {
     "name": "stdout",
     "output_type": "stream",
     "text": [
      "              precision    recall  f1-score   support\n",
      "\n",
      "           0       0.50      1.00      0.67       181\n",
      "           1       0.00      0.00      0.00       181\n",
      "\n",
      "    accuracy                           0.50       362\n",
      "   macro avg       0.25      0.50      0.33       362\n",
      "weighted avg       0.25      0.50      0.33       362\n",
      "\n"
     ]
    },
    {
     "data": {
      "image/png": "[encoded data removed]",
      "text/plain": [
       "<Figure size 360x288 with 2 Axes>"
      ]
     },
     "metadata": {
      "needs_background": "light"
     },
     "output_type": "display_data"
    }
   ],
   "source": [
    "model_name = 'isarc_fan_16'\n",
    "model = FAN(glove, hidden_size=16, use_glove=False)\n",
    "model.load_state_dict(torch.load(f\"{model_name}/model.pth\", weights_only=True))\n",
    "\n",
    "bb_dir_path = rf'BIG-Bench-SNARKS/results'\n",
    "evaluate_model(model, test_loader, bb_dir_path, model_name)"
   ]
  },
  {
   "cell_type": "markdown",
   "id": "459dddb6-3377-42f6-9623-4d91b1fcc0c7",
   "metadata": {},
   "source": [
    "#### 1.2) Sarcasm Corpus V2"
   ]
  },
  {
   "cell_type": "code",
   "execution_count": 12,
   "id": "67090c9c-dc38-4142-8c80-8786a4f5ff2a",
   "metadata": {},
   "outputs": [],
   "source": [
    "folder_path = \"Sarcasm_Corpus_V2\"\n",
    "glove_path = \"glove.6B.100d.txt\"\n",
    "device = torch.device(\"cuda\" if torch.cuda.is_available() else \"cpu\")\n",
    "\n",
    "train_df, val_df, test_df = load_data(folder_path)\n",
    "word2idx = build_vocab([train_df, val_df, test_df])\n",
    "glove = load_glove_embeddings(glove_path, word2idx)\n",
    "\n",
    "test_data = SarcasmDataset(bb_test_df, word2idx)\n",
    "test_loader = DataLoader(test_data, batch_size=16, collate_fn=collate_fn)"
   ]
  },
  {
   "cell_type": "markdown",
   "id": "cb7cd67d-29d8-41a1-bba2-688ac3128743",
   "metadata": {},
   "source": [
    "##### 1.2.1) With GloVe"
   ]
  },
  {
   "cell_type": "code",
   "execution_count": 13,
   "id": "87eeb8f2-72cf-475c-897a-46ba7820924d",
   "metadata": {},
   "outputs": [
    {
     "name": "stdout",
     "output_type": "stream",
     "text": [
      "              precision    recall  f1-score   support\n",
      "\n",
      "           0       0.54      0.31      0.40       181\n",
      "           1       0.52      0.73      0.61       181\n",
      "\n",
      "    accuracy                           0.52       362\n",
      "   macro avg       0.53      0.52      0.50       362\n",
      "weighted avg       0.53      0.52      0.50       362\n",
      "\n"
     ]
    },
    {
     "data": {
      "image/png": "[encoded data removed]",
      "text/plain": [
       "<Figure size 360x288 with 2 Axes>"
      ]
     },
     "metadata": {
      "needs_background": "light"
     },
     "output_type": "display_data"
    }
   ],
   "source": [
    "model_name = 'scv2_fan_16_glove'\n",
    "model = FAN(glove, hidden_size=16)\n",
    "model.load_state_dict(torch.load(f\"{model_name}/model.pth\", weights_only=True))\n",
    "\n",
    "bb_dir_path = rf'BIG-Bench-SNARKS/results'\n",
    "evaluate_model(model, test_loader, bb_dir_path, model_name)"
   ]
  },
  {
   "cell_type": "markdown",
   "id": "2393f958-4b07-46a6-a494-99ba532155fd",
   "metadata": {},
   "source": [
    "##### 1.2.2) Without GloVe"
   ]
  },
  {
   "cell_type": "code",
   "execution_count": 14,
   "id": "6867019e-a72f-4615-82c4-51a21733130a",
   "metadata": {},
   "outputs": [
    {
     "name": "stdout",
     "output_type": "stream",
     "text": [
      "              precision    recall  f1-score   support\n",
      "\n",
      "           0       0.48      0.24      0.32       181\n",
      "           1       0.49      0.74      0.59       181\n",
      "\n",
      "    accuracy                           0.49       362\n",
      "   macro avg       0.49      0.49      0.45       362\n",
      "weighted avg       0.49      0.49      0.45       362\n",
      "\n"
     ]
    },
    {
     "data": {
      "image/png": "[encoded data removed]",
      "text/plain": [
       "<Figure size 360x288 with 2 Axes>"
      ]
     },
     "metadata": {
      "needs_background": "light"
     },
     "output_type": "display_data"
    }
   ],
   "source": [
    "model_name = 'scv2_fan_16'\n",
    "model = FAN(glove, hidden_size=16, use_glove=False)\n",
    "model.load_state_dict(torch.load(f\"{model_name}/model.pth\", weights_only=True))\n",
    "\n",
    "bb_dir_path = rf'BIG-Bench-SNARKS/results'\n",
    "evaluate_model(model, test_loader, bb_dir_path, model_name)"
   ]
  },
  {
   "cell_type": "markdown",
   "id": "b3be0dbc-00c8-4af8-b67d-35dd5d53c1a8",
   "metadata": {},
   "source": [
    "#### 1.3) Combined Dataset"
   ]
  },
  {
   "cell_type": "code",
   "execution_count": 15,
   "id": "28edea04-1309-4c70-8038-e3dd151dc249",
   "metadata": {},
   "outputs": [],
   "source": [
    "folder_path = \"combined\"\n",
    "glove_path = \"glove.6B.100d.txt\"\n",
    "device = torch.device(\"cuda\" if torch.cuda.is_available() else \"cpu\")\n",
    "\n",
    "train_df, val_df, test_df = load_data(folder_path)\n",
    "word2idx = build_vocab([train_df, val_df, test_df])\n",
    "glove = load_glove_embeddings(glove_path, word2idx)\n",
    "\n",
    "test_data = SarcasmDataset(bb_test_df, word2idx)\n",
    "test_loader = DataLoader(test_data, batch_size=16, collate_fn=collate_fn)"
   ]
  },
  {
   "cell_type": "markdown",
   "id": "e21d4b0a-51bb-4748-b6e1-ebf1f65f128e",
   "metadata": {},
   "source": [
    "##### 1.3.1) With GloVe"
   ]
  },
  {
   "cell_type": "code",
   "execution_count": 16,
   "id": "24a49a31-60d2-4c90-b500-2afa6869e42e",
   "metadata": {},
   "outputs": [
    {
     "name": "stdout",
     "output_type": "stream",
     "text": [
      "              precision    recall  f1-score   support\n",
      "\n",
      "           0       0.51      0.65      0.57       181\n",
      "           1       0.52      0.38      0.44       181\n",
      "\n",
      "    accuracy                           0.51       362\n",
      "   macro avg       0.51      0.51      0.51       362\n",
      "weighted avg       0.51      0.51      0.51       362\n",
      "\n"
     ]
    },
    {
     "data": {
      "image/png": "[encoded data removed]",
      "text/plain": [
       "<Figure size 360x288 with 2 Axes>"
      ]
     },
     "metadata": {
      "needs_background": "light"
     },
     "output_type": "display_data"
    }
   ],
   "source": [
    "model_name = 'comb_fan_16_glove'\n",
    "model = FAN(glove, hidden_size=16)\n",
    "model.load_state_dict(torch.load(f\"{model_name}/model.pth\", weights_only=True))\n",
    "\n",
    "bb_dir_path = rf'BIG-Bench-SNARKS/results'\n",
    "evaluate_model(model, test_loader, bb_dir_path, model_name)"
   ]
  },
  {
   "cell_type": "markdown",
   "id": "87dd4d43-e603-47a6-bdee-6aaf106cc716",
   "metadata": {},
   "source": [
    "##### 1.3.2) Without GloVe"
   ]
  },
  {
   "cell_type": "code",
   "execution_count": 17,
   "id": "add850a1-6c88-45e0-a78e-d844ca7000e9",
   "metadata": {},
   "outputs": [
    {
     "name": "stdout",
     "output_type": "stream",
     "text": [
      "              precision    recall  f1-score   support\n",
      "\n",
      "           0       0.50      0.60      0.55       181\n",
      "           1       0.50      0.41      0.45       181\n",
      "\n",
      "    accuracy                           0.50       362\n",
      "   macro avg       0.50      0.50      0.50       362\n",
      "weighted avg       0.50      0.50      0.50       362\n",
      "\n"
     ]
    },
    {
     "data": {
      "image/png": "[encoded data removed]",
      "text/plain": [
       "<Figure size 360x288 with 2 Axes>"
      ]
     },
     "metadata": {
      "needs_background": "light"
     },
     "output_type": "display_data"
    }
   ],
   "source": [
    "model_name = 'comb_fan_16'\n",
    "model = FAN(glove, hidden_size=16, use_glove=False)\n",
    "model.load_state_dict(torch.load(f\"{model_name}/model.pth\", weights_only=True))\n",
    "\n",
    "bb_dir_path = rf'BIG-Bench-SNARKS/results'\n",
    "evaluate_model(model, test_loader, bb_dir_path, model_name)"
   ]
  },
  {
   "cell_type": "markdown",
   "id": "bfd72d00-a655-416b-a928-ded78541df77",
   "metadata": {},
   "source": [
    "### 2) Bi-RNN with Hierarchical Attention Networks (HAN)"
   ]
  },
  {
   "cell_type": "code",
   "execution_count": 18,
   "id": "5f5abdeb-9903-4074-b548-329bdce809c2",
   "metadata": {},
   "outputs": [
    {
     "name": "stderr",
     "output_type": "stream",
     "text": [
      "[nltk_data] Downloading package punkt to\n",
      "[nltk_data]     C:\\Users\\DELL\\AppData\\Roaming\\nltk_data...\n",
      "[nltk_data]   Package punkt is already up-to-date!\n"
     ]
    },
    {
     "data": {
      "text/plain": [
       "True"
      ]
     },
     "execution_count": 18,
     "metadata": {},
     "output_type": "execute_result"
    }
   ],
   "source": [
    "import os\n",
    "import pandas as pd\n",
    "import numpy as np\n",
    "import nltk\n",
    "import torch\n",
    "import torch.nn as nn\n",
    "import torch.nn.functional as F\n",
    "from torch.utils.data import Dataset, DataLoader\n",
    "from sklearn.metrics import classification_report, confusion_matrix\n",
    "import matplotlib.pyplot as plt\n",
    "from collections import defaultdict\n",
    "from nltk.tokenize import sent_tokenize, word_tokenize\n",
    "import seaborn as sns\n",
    "nltk.download('punkt')"
   ]
  },
  {
   "cell_type": "code",
   "execution_count": 19,
   "id": "93b360e6-834e-4bc3-ab8a-9db28a263194",
   "metadata": {},
   "outputs": [],
   "source": [
    "def load_data(folder_path):\n",
    "    train_df = pd.read_csv(os.path.join(folder_path, 'train.csv'))\n",
    "    val_df = pd.read_csv(os.path.join(folder_path, 'val.csv'))\n",
    "    test_df = pd.read_csv(os.path.join(folder_path, 'test.csv'))\n",
    "    return train_df, val_df, test_df\n",
    "\n",
    "def build_vocab(dataframes, vocab_size=20000):\n",
    "    word_freq = defaultdict(int)\n",
    "    for df in dataframes:\n",
    "        for text in df['text'].astype(str):\n",
    "            for word in word_tokenize(text.lower()):\n",
    "                word_freq[word] += 1\n",
    "    sorted_words = sorted(word_freq.items(), key=lambda x: -x[1])[:vocab_size]\n",
    "    word2idx = {\"<PAD>\": 0, \"<UNK>\": 1}\n",
    "    for i, (word, _) in enumerate(sorted_words, 2):\n",
    "        word2idx[word] = i\n",
    "    return word2idx\n",
    "\n",
    "def load_glove_embeddings(glove_path, word2idx, embedding_dim=100):\n",
    "    embeddings = np.random.uniform(-0.1, 0.1, (len(word2idx), embedding_dim))\n",
    "    embeddings[0] = np.zeros(embedding_dim)  # PAD\n",
    "\n",
    "    with open(glove_path, 'r', encoding='utf8') as f:\n",
    "        for line in f:\n",
    "            parts = line.split()\n",
    "            word = parts[0]\n",
    "            if word in word2idx:\n",
    "                vector = np.array(parts[1:], dtype=np.float32)\n",
    "                embeddings[word2idx[word]] = vector\n",
    "    return torch.tensor(embeddings, dtype=torch.float32)\n",
    "\n",
    "class SarcasmDataset(Dataset):\n",
    "    def __init__(self, dataframe, word2idx, max_sent_len=20, max_sents=15):\n",
    "        self.docs = []\n",
    "        self.labels = dataframe['sarcastic'].tolist()\n",
    "        for text in dataframe['text'].astype('str'):\n",
    "            sentences = sent_tokenize(text)\n",
    "            tokenized_sentences = []\n",
    "            for sent in sentences[:max_sents]:\n",
    "                words = word_tokenize(sent)[:max_sent_len]\n",
    "                word_ids = [word2idx.get(w.lower(), word2idx[\"<UNK>\"]) for w in words]\n",
    "                tokenized_sentences.append(word_ids)\n",
    "            self.docs.append(tokenized_sentences)\n",
    "\n",
    "    def __len__(self):\n",
    "        return len(self.docs)\n",
    "\n",
    "    def __getitem__(self, idx):\n",
    "        return self.docs[idx], self.labels[idx]\n",
    "\n",
    "def collate_fn(batch):\n",
    "    docs, labels = zip(*batch)\n",
    "    max_sents = max(len(doc) for doc in docs)\n",
    "    max_words = max(len(sent) for doc in docs for sent in doc)\n",
    "    padded_docs = []\n",
    "    for doc in docs:\n",
    "        padded_sents = [sent + [0] * (max_words - len(sent)) for sent in doc]\n",
    "        padded_sents += [[0] * max_words] * (max_sents - len(doc))\n",
    "        padded_docs.append(padded_sents)\n",
    "    return torch.LongTensor(padded_docs), torch.LongTensor(labels)\n",
    "\n",
    "class Attention(nn.Module):\n",
    "    def __init__(self, hidden_size):\n",
    "        super().__init__()\n",
    "        self.attn = nn.Linear(hidden_size, hidden_size)\n",
    "        self.context = nn.Linear(hidden_size, 1, bias=False)\n",
    "\n",
    "    def forward(self, x):\n",
    "        u = torch.tanh(self.attn(x))\n",
    "        score = self.context(u).squeeze(-1)\n",
    "        weights = F.softmax(score, dim=1)\n",
    "        output = (x * weights.unsqueeze(-1)).sum(dim=1)\n",
    "        return output\n",
    "\n",
    "class HAN(nn.Module):\n",
    "    def __init__(self, embedding_matrix, word_hidden=50, sent_hidden=50, dropout_rate=0.3, use_glove=True):\n",
    "        super().__init__()\n",
    "        vocab_size, embed_dim = embedding_matrix.shape\n",
    "        if use_glove == True:\n",
    "            self.embedding = nn.Embedding.from_pretrained(embedding_matrix, freeze=False)\n",
    "        else: self.embedding = nn.Embedding(vocab_size, embed_dim, padding_idx=0)\n",
    "        self.word_gru = nn.GRU(embed_dim, word_hidden, bidirectional=True, batch_first=True)\n",
    "        self.word_attn = Attention(word_hidden * 2)\n",
    "        self.word_dropout = nn.Dropout(dropout_rate)\n",
    "\n",
    "        self.sent_gru = nn.GRU(word_hidden * 2, sent_hidden, bidirectional=True, batch_first=True)\n",
    "        self.sent_attn = Attention(sent_hidden * 2)\n",
    "        self.sent_dropout = nn.Dropout(dropout_rate)\n",
    "\n",
    "        self.fc = nn.Linear(sent_hidden * 2, 1)\n",
    "\n",
    "    def forward(self, x):\n",
    "        B, S, W = x.size()\n",
    "        x = x.view(B * S, W)\n",
    "        embedded = self.embedding(x)\n",
    "\n",
    "        word_out, _ = self.word_gru(embedded)\n",
    "        word_out = self.word_dropout(word_out)\n",
    "        word_vec = self.word_attn(word_out).view(B, S, -1)\n",
    "\n",
    "        sent_out, _ = self.sent_gru(word_vec)\n",
    "        sent_out = self.sent_dropout(sent_out)\n",
    "        doc_vec = self.sent_attn(sent_out)\n",
    "\n",
    "        return torch.sigmoid(self.fc(doc_vec)).squeeze(1)\n",
    "\n",
    "def evaluate_model(model, test_loader, dir_path, model_name):\n",
    "    os.makedirs(dir_path, exist_ok=True)\n",
    "    model.eval()\n",
    "    all_preds, all_labels = [], []\n",
    "    with torch.no_grad():\n",
    "        for x, y in test_loader:\n",
    "            x = x.to(device)\n",
    "            preds = model(x)\n",
    "            preds = (preds > 0.5).int().cpu().numpy()\n",
    "            all_preds.extend(preds)\n",
    "            all_labels.extend(y.numpy())\n",
    "    print(classification_report(all_labels, all_preds, zero_division=0))\n",
    "    cm = confusion_matrix(all_labels, all_preds)\n",
    "    plt.figure(figsize=(5, 4))\n",
    "    sns.heatmap(cm, annot=True, fmt='d', cmap='Blues', xticklabels=['Not Sarcastic', 'Sarcastic'], yticklabels=['Not Sarcastic', 'Sarcastic'])\n",
    "    plt.xlabel('Predicted')\n",
    "    plt.ylabel('True')\n",
    "    plt.title('Confusion Matrix')\n",
    "    plt.savefig(rf'{dir_path}/{model_name}_confusion_matrix.png')\n",
    "    plt.show()"
   ]
  },
  {
   "cell_type": "markdown",
   "id": "b8d456a9-d0ad-4bf4-947a-53ef38de4458",
   "metadata": {},
   "source": [
    "#### 2.1) iSarcasmEval"
   ]
  },
  {
   "cell_type": "code",
   "execution_count": 20,
   "id": "e589a6c6-762c-40c1-980d-4c11f9ddc730",
   "metadata": {},
   "outputs": [],
   "source": [
    "folder_path = \"iSarcasmEval\"\n",
    "glove_path = \"glove.6B.100d.txt\"\n",
    "device = torch.device(\"cuda\" if torch.cuda.is_available() else \"cpu\")\n",
    "\n",
    "train_df, val_df, test_df = load_data(folder_path)\n",
    "word2idx = build_vocab([train_df, val_df, test_df])\n",
    "glove = load_glove_embeddings(glove_path, word2idx)\n",
    "\n",
    "test_data = SarcasmDataset(bb_test_df, word2idx)\n",
    "test_loader = DataLoader(test_data, batch_size=16, collate_fn=collate_fn)"
   ]
  },
  {
   "cell_type": "markdown",
   "id": "a664e416-f7ea-43b6-bf9b-09c7d60e8bec",
   "metadata": {},
   "source": [
    "##### 2.1.1) With GloVe"
   ]
  },
  {
   "cell_type": "code",
   "execution_count": 21,
   "id": "f04fa8ce-4f9c-4113-b1f5-c9ec8e36a247",
   "metadata": {},
   "outputs": [
    {
     "name": "stdout",
     "output_type": "stream",
     "text": [
      "              precision    recall  f1-score   support\n",
      "\n",
      "           0       0.50      1.00      0.67       181\n",
      "           1       0.00      0.00      0.00       181\n",
      "\n",
      "    accuracy                           0.50       362\n",
      "   macro avg       0.25      0.50      0.33       362\n",
      "weighted avg       0.25      0.50      0.33       362\n",
      "\n"
     ]
    },
    {
     "data": {
      "image/png": "[encoded data removed]",
      "text/plain": [
       "<Figure size 360x288 with 2 Axes>"
      ]
     },
     "metadata": {
      "needs_background": "light"
     },
     "output_type": "display_data"
    }
   ],
   "source": [
    "model_name = 'isarc_han_8_4_glove'\n",
    "model = HAN(glove, word_hidden=8, sent_hidden=4)\n",
    "model.load_state_dict(torch.load(f\"{model_name}/model.pth\", weights_only=True))\n",
    "\n",
    "bb_dir_path = rf'BIG-Bench-SNARKS/results'\n",
    "evaluate_model(model, test_loader, bb_dir_path, model_name)"
   ]
  },
  {
   "cell_type": "markdown",
   "id": "cff2053b-3fe8-4ac7-a4cf-23d992e31575",
   "metadata": {},
   "source": [
    "##### 2.1.2) Without GloVe"
   ]
  },
  {
   "cell_type": "code",
   "execution_count": 22,
   "id": "36f40d20-6019-4fc8-8dd5-c5323c786de8",
   "metadata": {},
   "outputs": [
    {
     "name": "stdout",
     "output_type": "stream",
     "text": [
      "              precision    recall  f1-score   support\n",
      "\n",
      "           0       0.50      1.00      0.67       181\n",
      "           1       0.00      0.00      0.00       181\n",
      "\n",
      "    accuracy                           0.50       362\n",
      "   macro avg       0.25      0.50      0.33       362\n",
      "weighted avg       0.25      0.50      0.33       362\n",
      "\n"
     ]
    },
    {
     "data": {
      "image/png": "[encoded data removed]",
      "text/plain": [
       "<Figure size 360x288 with 2 Axes>"
      ]
     },
     "metadata": {
      "needs_background": "light"
     },
     "output_type": "display_data"
    }
   ],
   "source": [
    "model_name = 'isarc_han_8_4'\n",
    "model = HAN(glove, word_hidden=8, sent_hidden=4, use_glove=False)\n",
    "model.load_state_dict(torch.load(f\"{model_name}/model.pth\", weights_only=True))\n",
    "\n",
    "bb_dir_path = rf'BIG-Bench-SNARKS/results'\n",
    "evaluate_model(model, test_loader, bb_dir_path, model_name)"
   ]
  },
  {
   "cell_type": "markdown",
   "id": "20707b0c-5864-4ff9-85fb-b6c2969f262a",
   "metadata": {},
   "source": [
    "#### 2.2) Sarcasm Corpus V2"
   ]
  },
  {
   "cell_type": "code",
   "execution_count": 23,
   "id": "0ec451a1-d61d-4cdd-80f2-4838330dd2dc",
   "metadata": {},
   "outputs": [],
   "source": [
    "folder_path = \"Sarcasm_Corpus_V2\"\n",
    "glove_path = \"glove.6B.100d.txt\"\n",
    "device = torch.device(\"cuda\" if torch.cuda.is_available() else \"cpu\")\n",
    "\n",
    "train_df, val_df, test_df = load_data(folder_path)\n",
    "word2idx = build_vocab([train_df, val_df, test_df])\n",
    "glove = load_glove_embeddings(glove_path, word2idx)\n",
    "\n",
    "test_data = SarcasmDataset(bb_test_df, word2idx)\n",
    "test_loader = DataLoader(test_data, batch_size=16, collate_fn=collate_fn)"
   ]
  },
  {
   "cell_type": "markdown",
   "id": "488e162d-3f43-4bf9-9d96-a41ad20b210c",
   "metadata": {},
   "source": [
    "##### 2.2.1) With GloVe"
   ]
  },
  {
   "cell_type": "code",
   "execution_count": 24,
   "id": "7637b208-8966-445a-a10b-a3fdbda16d38",
   "metadata": {},
   "outputs": [
    {
     "name": "stdout",
     "output_type": "stream",
     "text": [
      "              precision    recall  f1-score   support\n",
      "\n",
      "           0       0.51      0.25      0.33       181\n",
      "           1       0.50      0.76      0.60       181\n",
      "\n",
      "    accuracy                           0.50       362\n",
      "   macro avg       0.50      0.50      0.47       362\n",
      "weighted avg       0.50      0.50      0.47       362\n",
      "\n"
     ]
    },
    {
     "data": {
      "image/png": "[encoded data removed]",
      "text/plain": [
       "<Figure size 360x288 with 2 Axes>"
      ]
     },
     "metadata": {
      "needs_background": "light"
     },
     "output_type": "display_data"
    }
   ],
   "source": [
    "model_name = 'scv2_han_8_4_glove'\n",
    "model = HAN(glove, word_hidden=8, sent_hidden=4)\n",
    "model.load_state_dict(torch.load(f\"{model_name}/model.pth\", weights_only=True))\n",
    "\n",
    "bb_dir_path = rf'BIG-Bench-SNARKS/results'\n",
    "evaluate_model(model, test_loader, bb_dir_path, model_name)"
   ]
  },
  {
   "cell_type": "markdown",
   "id": "55d8c4a4-ae83-42e9-90cd-b3c19a97d429",
   "metadata": {},
   "source": [
    "##### Without GloVe"
   ]
  },
  {
   "cell_type": "code",
   "execution_count": 25,
   "id": "ec5e01fb-5687-4da7-9c39-af332892e28b",
   "metadata": {},
   "outputs": [
    {
     "name": "stdout",
     "output_type": "stream",
     "text": [
      "              precision    recall  f1-score   support\n",
      "\n",
      "           0       0.49      0.35      0.41       181\n",
      "           1       0.50      0.64      0.56       181\n",
      "\n",
      "    accuracy                           0.49       362\n",
      "   macro avg       0.49      0.49      0.48       362\n",
      "weighted avg       0.49      0.49      0.48       362\n",
      "\n"
     ]
    },
    {
     "data": {
      "image/png": "[encoded data removed]",
      "text/plain": [
       "<Figure size 360x288 with 2 Axes>"
      ]
     },
     "metadata": {
      "needs_background": "light"
     },
     "output_type": "display_data"
    }
   ],
   "source": [
    "model_name = 'scv2_han_8_4'\n",
    "model = HAN(glove, word_hidden=8, sent_hidden=4, use_glove=False)\n",
    "model.load_state_dict(torch.load(f\"{model_name}/model.pth\", weights_only=True))\n",
    "\n",
    "bb_dir_path = rf'BIG-Bench-SNARKS/results'\n",
    "evaluate_model(model, test_loader, bb_dir_path, model_name)"
   ]
  },
  {
   "cell_type": "markdown",
   "id": "1e73ecde-2275-4678-951b-ef7e877f10cb",
   "metadata": {},
   "source": [
    "#### 2.3) Combined Dataset"
   ]
  },
  {
   "cell_type": "code",
   "execution_count": 26,
   "id": "9d1ba004-5183-4c17-95dc-c8c233fa0add",
   "metadata": {},
   "outputs": [],
   "source": [
    "folder_path = \"combined\"\n",
    "glove_path = \"glove.6B.100d.txt\"\n",
    "device = torch.device(\"cuda\" if torch.cuda.is_available() else \"cpu\")\n",
    "\n",
    "train_df, val_df, test_df = load_data(folder_path)\n",
    "word2idx = build_vocab([train_df, val_df, test_df])\n",
    "glove = load_glove_embeddings(glove_path, word2idx)\n",
    "\n",
    "test_data = SarcasmDataset(bb_test_df, word2idx)\n",
    "test_loader = DataLoader(test_data, batch_size=16, collate_fn=collate_fn)"
   ]
  },
  {
   "cell_type": "markdown",
   "id": "4d27bb7e-d606-4264-b1b4-2027372d48d6",
   "metadata": {},
   "source": [
    "##### 2.3.1) With GloVe"
   ]
  },
  {
   "cell_type": "code",
   "execution_count": 27,
   "id": "a5bee7b4-7bdb-4ba2-81be-a77799753b0d",
   "metadata": {},
   "outputs": [
    {
     "name": "stdout",
     "output_type": "stream",
     "text": [
      "              precision    recall  f1-score   support\n",
      "\n",
      "           0       0.50      0.69      0.58       181\n",
      "           1       0.50      0.31      0.39       181\n",
      "\n",
      "    accuracy                           0.50       362\n",
      "   macro avg       0.50      0.50      0.48       362\n",
      "weighted avg       0.50      0.50      0.48       362\n",
      "\n"
     ]
    },
    {
     "data": {
      "image/png": "[encoded data removed]",
      "text/plain": [
       "<Figure size 360x288 with 2 Axes>"
      ]
     },
     "metadata": {
      "needs_background": "light"
     },
     "output_type": "display_data"
    }
   ],
   "source": [
    "model_name = 'comb_han_8_4_glove'\n",
    "model = HAN(glove, word_hidden=8, sent_hidden=4)\n",
    "model.load_state_dict(torch.load(f\"{model_name}/model.pth\", weights_only=True))\n",
    "\n",
    "bb_dir_path = rf'BIG-Bench-SNARKS/results'\n",
    "evaluate_model(model, test_loader, bb_dir_path, model_name)"
   ]
  },
  {
   "cell_type": "markdown",
   "id": "b5fb02e0-bae3-4ef7-a5cd-0b0dee90300e",
   "metadata": {},
   "source": [
    "##### 2.3.2) Without GloVe"
   ]
  },
  {
   "cell_type": "code",
   "execution_count": 28,
   "id": "46263987-f3cc-483d-9e98-bb1f3d8d1ebf",
   "metadata": {},
   "outputs": [
    {
     "name": "stdout",
     "output_type": "stream",
     "text": [
      "              precision    recall  f1-score   support\n",
      "\n",
      "           0       0.51      0.69      0.59       181\n",
      "           1       0.52      0.34      0.41       181\n",
      "\n",
      "    accuracy                           0.51       362\n",
      "   macro avg       0.52      0.51      0.50       362\n",
      "weighted avg       0.52      0.51      0.50       362\n",
      "\n"
     ]
    },
    {
     "data": {
      "image/png": "[encoded data removed]",
      "text/plain": [
       "<Figure size 360x288 with 2 Axes>"
      ]
     },
     "metadata": {
      "needs_background": "light"
     },
     "output_type": "display_data"
    }
   ],
   "source": [
    "model_name = 'comb_han_8_4'\n",
    "model = HAN(glove, word_hidden=8, sent_hidden=4, use_glove=False)\n",
    "model.load_state_dict(torch.load(f\"{model_name}/model.pth\", weights_only=True))\n",
    "\n",
    "bb_dir_path = rf'BIG-Bench-SNARKS/results'\n",
    "evaluate_model(model, test_loader, bb_dir_path, model_name)"
   ]
  }
 ],
 "metadata": {
  "kernelspec": {
   "display_name": "Python 3 (ipykernel)",
   "language": "python",
   "name": "python3"
  },
  "language_info": {
   "codemirror_mode": {
    "name": "ipython",
    "version": 3
   },
   "file_extension": ".py",
   "mimetype": "text/x-python",
   "name": "python",
   "nbconvert_exporter": "python",
   "pygments_lexer": "ipython3",
   "version": "3.10.5"
  }
 },
 "nbformat": 4,
 "nbformat_minor": 5
}
